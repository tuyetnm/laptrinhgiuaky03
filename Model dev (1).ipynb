{
 "cells": [
  {
   "cell_type": "markdown",
   "id": "63553332",
   "metadata": {},
   "source": [
    "# 1. Import thư viện"
   ]
  },
  {
   "cell_type": "code",
   "execution_count": 71,
   "id": "db365cb0",
   "metadata": {},
   "outputs": [],
   "source": [
    "import numpy as np \n",
    "import pandas as pd \n",
    "\n",
    "from collections import Counter\n",
    "from scipy import stats\n",
    "\n",
    "from sklearn.preprocessing import OneHotEncoder\n",
    "from sklearn.model_selection import train_test_split\n",
    "import imblearn\n",
    "from datasist.structdata import detect_outliers\n",
    "import statsmodels.api as sm\n",
    "import statsmodels.formula.api as smf\n",
    "from sklearn.linear_model import LogisticRegression\n",
    "from sklearn.neighbors import KNeighborsClassifier\n",
    "from sklearn.linear_model import LinearRegression\n",
    "from sklearn.preprocessing import PolynomialFeatures\n",
    "from sklearn.tree import DecisionTreeClassifier\n",
    "from sklearn.metrics import classification_report\n",
    "from sklearn.feature_selection import SequentialFeatureSelector, SelectKBest, f_regression, RFE, SelectFromModel\n",
    "from sklearn.metrics import roc_curve, roc_auc_score\n",
    "from sklearn.metrics import precision_recall_curve\n",
    "from sklearn.metrics import confusion_matrix, ConfusionMatrixDisplay\n",
    "from sklearn.metrics import accuracy_score, precision_score, recall_score, f1_score\n",
    "from sklearn.preprocessing import StandardScaler, OneHotEncoder, RobustScaler\n",
    "import matplotlib\n",
    "from imblearn.pipeline import Pipeline \n",
    "import matplotlib.pyplot as plt\n",
    "matplotlib.style.use('tableau-colorblind10')\n",
    "import seaborn as sns\n",
    "from plotnine import *\n",
    "import plotly.graph_objects as go\n",
    "import plotly.express as px\n",
    "from imblearn.over_sampling import SMOTE\n",
    "\n",
    "from sklearn.model_selection import GridSearchCV\n",
    "from sklearn.linear_model import LinearRegression"
   ]
  },
  {
   "cell_type": "markdown",
   "id": "76464d8f",
   "metadata": {},
   "source": [
    "# 2. Loading data"
   ]
  },
  {
   "cell_type": "code",
   "execution_count": 37,
   "id": "8d0bf3ac",
   "metadata": {},
   "outputs": [
    {
     "data": {
      "text/html": [
       "<div>\n",
       "<style scoped>\n",
       "    .dataframe tbody tr th:only-of-type {\n",
       "        vertical-align: middle;\n",
       "    }\n",
       "\n",
       "    .dataframe tbody tr th {\n",
       "        vertical-align: top;\n",
       "    }\n",
       "\n",
       "    .dataframe thead th {\n",
       "        text-align: right;\n",
       "    }\n",
       "</style>\n",
       "<table border=\"1\" class=\"dataframe\">\n",
       "  <thead>\n",
       "    <tr style=\"text-align: right;\">\n",
       "      <th></th>\n",
       "      <th>CLIENTNUM</th>\n",
       "      <th>Attrition_Flag</th>\n",
       "      <th>Customer_Age</th>\n",
       "      <th>Gender</th>\n",
       "      <th>Dependent_count</th>\n",
       "      <th>Education_Level</th>\n",
       "      <th>Marital_Status</th>\n",
       "      <th>Income_Category</th>\n",
       "      <th>Card_Category</th>\n",
       "      <th>Months_on_book</th>\n",
       "      <th>...</th>\n",
       "      <th>Credit_Limit</th>\n",
       "      <th>Total_Revolving_Bal</th>\n",
       "      <th>Avg_Open_To_Buy</th>\n",
       "      <th>Total_Amt_Chng_Q4_Q1</th>\n",
       "      <th>Total_Trans_Amt</th>\n",
       "      <th>Total_Trans_Ct</th>\n",
       "      <th>Total_Ct_Chng_Q4_Q1</th>\n",
       "      <th>Avg_Utilization_Ratio</th>\n",
       "      <th>Naive_Bayes_Classifier_Attrition_Flag_Card_Category_Contacts_Count_12_mon_Dependent_count_Education_Level_Months_Inactive_12_mon_1</th>\n",
       "      <th>Naive_Bayes_Classifier_Attrition_Flag_Card_Category_Contacts_Count_12_mon_Dependent_count_Education_Level_Months_Inactive_12_mon_2</th>\n",
       "    </tr>\n",
       "  </thead>\n",
       "  <tbody>\n",
       "    <tr>\n",
       "      <th>0</th>\n",
       "      <td>768805383</td>\n",
       "      <td>Existing Customer</td>\n",
       "      <td>45</td>\n",
       "      <td>M</td>\n",
       "      <td>3</td>\n",
       "      <td>High School</td>\n",
       "      <td>Married</td>\n",
       "      <td>$60K - $80K</td>\n",
       "      <td>Blue</td>\n",
       "      <td>39</td>\n",
       "      <td>...</td>\n",
       "      <td>12691.0</td>\n",
       "      <td>777</td>\n",
       "      <td>11914.0</td>\n",
       "      <td>1.335</td>\n",
       "      <td>1144</td>\n",
       "      <td>42</td>\n",
       "      <td>1.625</td>\n",
       "      <td>0.061</td>\n",
       "      <td>0.000093</td>\n",
       "      <td>0.99991</td>\n",
       "    </tr>\n",
       "    <tr>\n",
       "      <th>1</th>\n",
       "      <td>818770008</td>\n",
       "      <td>Existing Customer</td>\n",
       "      <td>49</td>\n",
       "      <td>F</td>\n",
       "      <td>5</td>\n",
       "      <td>Graduate</td>\n",
       "      <td>Single</td>\n",
       "      <td>Less than $40K</td>\n",
       "      <td>Blue</td>\n",
       "      <td>44</td>\n",
       "      <td>...</td>\n",
       "      <td>8256.0</td>\n",
       "      <td>864</td>\n",
       "      <td>7392.0</td>\n",
       "      <td>1.541</td>\n",
       "      <td>1291</td>\n",
       "      <td>33</td>\n",
       "      <td>3.714</td>\n",
       "      <td>0.105</td>\n",
       "      <td>0.000057</td>\n",
       "      <td>0.99994</td>\n",
       "    </tr>\n",
       "    <tr>\n",
       "      <th>2</th>\n",
       "      <td>713982108</td>\n",
       "      <td>Existing Customer</td>\n",
       "      <td>51</td>\n",
       "      <td>M</td>\n",
       "      <td>3</td>\n",
       "      <td>Graduate</td>\n",
       "      <td>Married</td>\n",
       "      <td>$80K - $120K</td>\n",
       "      <td>Blue</td>\n",
       "      <td>36</td>\n",
       "      <td>...</td>\n",
       "      <td>3418.0</td>\n",
       "      <td>0</td>\n",
       "      <td>3418.0</td>\n",
       "      <td>2.594</td>\n",
       "      <td>1887</td>\n",
       "      <td>20</td>\n",
       "      <td>2.333</td>\n",
       "      <td>0.000</td>\n",
       "      <td>0.000021</td>\n",
       "      <td>0.99998</td>\n",
       "    </tr>\n",
       "    <tr>\n",
       "      <th>3</th>\n",
       "      <td>769911858</td>\n",
       "      <td>Existing Customer</td>\n",
       "      <td>40</td>\n",
       "      <td>F</td>\n",
       "      <td>4</td>\n",
       "      <td>High School</td>\n",
       "      <td>Unknown</td>\n",
       "      <td>Less than $40K</td>\n",
       "      <td>Blue</td>\n",
       "      <td>34</td>\n",
       "      <td>...</td>\n",
       "      <td>3313.0</td>\n",
       "      <td>2517</td>\n",
       "      <td>796.0</td>\n",
       "      <td>1.405</td>\n",
       "      <td>1171</td>\n",
       "      <td>20</td>\n",
       "      <td>2.333</td>\n",
       "      <td>0.760</td>\n",
       "      <td>0.000134</td>\n",
       "      <td>0.99987</td>\n",
       "    </tr>\n",
       "    <tr>\n",
       "      <th>4</th>\n",
       "      <td>709106358</td>\n",
       "      <td>Existing Customer</td>\n",
       "      <td>40</td>\n",
       "      <td>M</td>\n",
       "      <td>3</td>\n",
       "      <td>Uneducated</td>\n",
       "      <td>Married</td>\n",
       "      <td>$60K - $80K</td>\n",
       "      <td>Blue</td>\n",
       "      <td>21</td>\n",
       "      <td>...</td>\n",
       "      <td>4716.0</td>\n",
       "      <td>0</td>\n",
       "      <td>4716.0</td>\n",
       "      <td>2.175</td>\n",
       "      <td>816</td>\n",
       "      <td>28</td>\n",
       "      <td>2.500</td>\n",
       "      <td>0.000</td>\n",
       "      <td>0.000022</td>\n",
       "      <td>0.99998</td>\n",
       "    </tr>\n",
       "  </tbody>\n",
       "</table>\n",
       "<p>5 rows × 23 columns</p>\n",
       "</div>"
      ],
      "text/plain": [
       "   CLIENTNUM     Attrition_Flag  Customer_Age Gender  Dependent_count  \\\n",
       "0  768805383  Existing Customer            45      M                3   \n",
       "1  818770008  Existing Customer            49      F                5   \n",
       "2  713982108  Existing Customer            51      M                3   \n",
       "3  769911858  Existing Customer            40      F                4   \n",
       "4  709106358  Existing Customer            40      M                3   \n",
       "\n",
       "  Education_Level Marital_Status Income_Category Card_Category  \\\n",
       "0     High School        Married     $60K - $80K          Blue   \n",
       "1        Graduate         Single  Less than $40K          Blue   \n",
       "2        Graduate        Married    $80K - $120K          Blue   \n",
       "3     High School        Unknown  Less than $40K          Blue   \n",
       "4      Uneducated        Married     $60K - $80K          Blue   \n",
       "\n",
       "   Months_on_book  ...  Credit_Limit  Total_Revolving_Bal  Avg_Open_To_Buy  \\\n",
       "0              39  ...       12691.0                  777          11914.0   \n",
       "1              44  ...        8256.0                  864           7392.0   \n",
       "2              36  ...        3418.0                    0           3418.0   \n",
       "3              34  ...        3313.0                 2517            796.0   \n",
       "4              21  ...        4716.0                    0           4716.0   \n",
       "\n",
       "   Total_Amt_Chng_Q4_Q1  Total_Trans_Amt  Total_Trans_Ct  Total_Ct_Chng_Q4_Q1  \\\n",
       "0                 1.335             1144              42                1.625   \n",
       "1                 1.541             1291              33                3.714   \n",
       "2                 2.594             1887              20                2.333   \n",
       "3                 1.405             1171              20                2.333   \n",
       "4                 2.175              816              28                2.500   \n",
       "\n",
       "   Avg_Utilization_Ratio  \\\n",
       "0                  0.061   \n",
       "1                  0.105   \n",
       "2                  0.000   \n",
       "3                  0.760   \n",
       "4                  0.000   \n",
       "\n",
       "   Naive_Bayes_Classifier_Attrition_Flag_Card_Category_Contacts_Count_12_mon_Dependent_count_Education_Level_Months_Inactive_12_mon_1  \\\n",
       "0                                           0.000093                                                                                    \n",
       "1                                           0.000057                                                                                    \n",
       "2                                           0.000021                                                                                    \n",
       "3                                           0.000134                                                                                    \n",
       "4                                           0.000022                                                                                    \n",
       "\n",
       "   Naive_Bayes_Classifier_Attrition_Flag_Card_Category_Contacts_Count_12_mon_Dependent_count_Education_Level_Months_Inactive_12_mon_2  \n",
       "0                                            0.99991                                                                                   \n",
       "1                                            0.99994                                                                                   \n",
       "2                                            0.99998                                                                                   \n",
       "3                                            0.99987                                                                                   \n",
       "4                                            0.99998                                                                                   \n",
       "\n",
       "[5 rows x 23 columns]"
      ]
     },
     "execution_count": 37,
     "metadata": {},
     "output_type": "execute_result"
    }
   ],
   "source": [
    "df = pd.read_csv('BankChurners.csv')\n",
    "df.head()"
   ]
  },
  {
   "cell_type": "markdown",
   "id": "512dd704",
   "metadata": {},
   "source": [
    "Thông tin về kiểu dữ liệu từng cột của dataset"
   ]
  },
  {
   "cell_type": "code",
   "execution_count": 38,
   "id": "56c7bc43",
   "metadata": {},
   "outputs": [
    {
     "name": "stdout",
     "output_type": "stream",
     "text": [
      "<class 'pandas.core.frame.DataFrame'>\n",
      "RangeIndex: 10127 entries, 0 to 10126\n",
      "Data columns (total 23 columns):\n",
      " #   Column                                                                                                                              Non-Null Count  Dtype  \n",
      "---  ------                                                                                                                              --------------  -----  \n",
      " 0   CLIENTNUM                                                                                                                           10127 non-null  int64  \n",
      " 1   Attrition_Flag                                                                                                                      10127 non-null  object \n",
      " 2   Customer_Age                                                                                                                        10127 non-null  int64  \n",
      " 3   Gender                                                                                                                              10127 non-null  object \n",
      " 4   Dependent_count                                                                                                                     10127 non-null  int64  \n",
      " 5   Education_Level                                                                                                                     10127 non-null  object \n",
      " 6   Marital_Status                                                                                                                      10127 non-null  object \n",
      " 7   Income_Category                                                                                                                     10127 non-null  object \n",
      " 8   Card_Category                                                                                                                       10127 non-null  object \n",
      " 9   Months_on_book                                                                                                                      10127 non-null  int64  \n",
      " 10  Total_Relationship_Count                                                                                                            10127 non-null  int64  \n",
      " 11  Months_Inactive_12_mon                                                                                                              10127 non-null  int64  \n",
      " 12  Contacts_Count_12_mon                                                                                                               10127 non-null  int64  \n",
      " 13  Credit_Limit                                                                                                                        10127 non-null  float64\n",
      " 14  Total_Revolving_Bal                                                                                                                 10127 non-null  int64  \n",
      " 15  Avg_Open_To_Buy                                                                                                                     10127 non-null  float64\n",
      " 16  Total_Amt_Chng_Q4_Q1                                                                                                                10127 non-null  float64\n",
      " 17  Total_Trans_Amt                                                                                                                     10127 non-null  int64  \n",
      " 18  Total_Trans_Ct                                                                                                                      10127 non-null  int64  \n",
      " 19  Total_Ct_Chng_Q4_Q1                                                                                                                 10127 non-null  float64\n",
      " 20  Avg_Utilization_Ratio                                                                                                               10127 non-null  float64\n",
      " 21  Naive_Bayes_Classifier_Attrition_Flag_Card_Category_Contacts_Count_12_mon_Dependent_count_Education_Level_Months_Inactive_12_mon_1  10127 non-null  float64\n",
      " 22  Naive_Bayes_Classifier_Attrition_Flag_Card_Category_Contacts_Count_12_mon_Dependent_count_Education_Level_Months_Inactive_12_mon_2  10127 non-null  float64\n",
      "dtypes: float64(7), int64(10), object(6)\n",
      "memory usage: 1.8+ MB\n"
     ]
    }
   ],
   "source": [
    "df.info()"
   ]
  },
  {
   "cell_type": "markdown",
   "id": "e57b3bc4",
   "metadata": {},
   "source": [
    "Xác định số lượng quan sát."
   ]
  },
  {
   "cell_type": "code",
   "execution_count": 39,
   "id": "8fdfd6e8",
   "metadata": {},
   "outputs": [
    {
     "data": {
      "text/plain": [
       "10127"
      ]
     },
     "execution_count": 39,
     "metadata": {},
     "output_type": "execute_result"
    }
   ],
   "source": [
    "len(df['CLIENTNUM'].unique())"
   ]
  },
  {
   "cell_type": "markdown",
   "id": "85de4f04",
   "metadata": {},
   "source": [
    "Do trường CLIENTNUM chính là trường đặc trưng cho từng quan sát nên ta lấy len của trường này để ra số lượng quan sát."
   ]
  },
  {
   "cell_type": "code",
   "execution_count": 43,
   "id": "175f426d",
   "metadata": {},
   "outputs": [],
   "source": [
    "df = df.drop(columns = ['CLIENTNUM', \n",
    "              'Naive_Bayes_Classifier_Attrition_Flag_Card_Category_Contacts_Count_12_mon_Dependent_count_Education_Level_Months_Inactive_12_mon_1', \n",
    "             'Naive_Bayes_Classifier_Attrition_Flag_Card_Category_Contacts_Count_12_mon_Dependent_count_Education_Level_Months_Inactive_12_mon_2'])"
   ]
  },
  {
   "cell_type": "markdown",
   "id": "6995c1d5",
   "metadata": {},
   "source": [
    "Bỏ đi những cột không cần dùng để khai phá và xây dựng mô hình."
   ]
  },
  {
   "cell_type": "markdown",
   "id": "ca0b7937",
   "metadata": {},
   "source": [
    "Thông tin các trường của dataset sau khi bỏ bớt cột."
   ]
  },
  {
   "cell_type": "code",
   "execution_count": 44,
   "id": "f0431e21",
   "metadata": {},
   "outputs": [
    {
     "name": "stdout",
     "output_type": "stream",
     "text": [
      "<class 'pandas.core.frame.DataFrame'>\n",
      "RangeIndex: 10127 entries, 0 to 10126\n",
      "Data columns (total 20 columns):\n",
      " #   Column                    Non-Null Count  Dtype  \n",
      "---  ------                    --------------  -----  \n",
      " 0   Attrition_Flag            10127 non-null  object \n",
      " 1   Customer_Age              10127 non-null  int64  \n",
      " 2   Gender                    10127 non-null  object \n",
      " 3   Dependent_count           10127 non-null  int64  \n",
      " 4   Education_Level           10127 non-null  object \n",
      " 5   Marital_Status            10127 non-null  object \n",
      " 6   Income_Category           10127 non-null  object \n",
      " 7   Card_Category             10127 non-null  object \n",
      " 8   Months_on_book            10127 non-null  int64  \n",
      " 9   Total_Relationship_Count  10127 non-null  int64  \n",
      " 10  Months_Inactive_12_mon    10127 non-null  int64  \n",
      " 11  Contacts_Count_12_mon     10127 non-null  int64  \n",
      " 12  Credit_Limit              10127 non-null  float64\n",
      " 13  Total_Revolving_Bal       10127 non-null  int64  \n",
      " 14  Avg_Open_To_Buy           10127 non-null  float64\n",
      " 15  Total_Amt_Chng_Q4_Q1      10127 non-null  float64\n",
      " 16  Total_Trans_Amt           10127 non-null  int64  \n",
      " 17  Total_Trans_Ct            10127 non-null  int64  \n",
      " 18  Total_Ct_Chng_Q4_Q1       10127 non-null  float64\n",
      " 19  Avg_Utilization_Ratio     10127 non-null  float64\n",
      "dtypes: float64(5), int64(9), object(6)\n",
      "memory usage: 1.5+ MB\n"
     ]
    }
   ],
   "source": [
    "df.info()"
   ]
  },
  {
   "cell_type": "markdown",
   "id": "87cf04da",
   "metadata": {},
   "source": [
    "# 3. Khai phá dữ liệu"
   ]
  },
  {
   "cell_type": "code",
   "execution_count": 45,
   "id": "c171b321",
   "metadata": {},
   "outputs": [
    {
     "name": "stdout",
     "output_type": "stream",
     "text": [
      "cat_col : 6 \n",
      "num_col : 14\n"
     ]
    }
   ],
   "source": [
    "cat_col = [x for x in df.columns if df[x].dtype == 'O']\n",
    "num_col = [x for x in df.columns if x not in cat_col]\n",
    "\n",
    "print('cat_col : {} \\n\\\n",
    "num_col : {}'.format(len(cat_col), len(num_col)))"
   ]
  },
  {
   "cell_type": "markdown",
   "id": "602824d1",
   "metadata": {},
   "source": [
    "Chia data thành 2 loại: num_col là dữ liệu dạng số, cat_col là dữ liệu dạng phân loại."
   ]
  },
  {
   "cell_type": "markdown",
   "id": "8fc93833",
   "metadata": {},
   "source": [
    "Ma trận hệ số tương quan giữa các biến dữ liệu dạng số:"
   ]
  },
  {
   "cell_type": "code",
   "execution_count": 46,
   "id": "71a316d0",
   "metadata": {},
   "outputs": [
    {
     "data": {
      "text/plain": [
       "<Axes: >"
      ]
     },
     "execution_count": 46,
     "metadata": {},
     "output_type": "execute_result"
    },
    {
     "data": {
      "image/png": "[encoded data removed]",
      "text/plain": [
       "<Figure size 1200x1000 with 2 Axes>"
      ]
     },
     "metadata": {},
     "output_type": "display_data"
    }
   ],
   "source": [
    "plt.figure(figsize=(12,10))\n",
    "sns.heatmap(df[num_col].corr(), vmin=-1.0, vmax=1.0, linewidths=0.5, cmap='icefire', annot=True, fmt='.2f')"
   ]
  },
  {
   "cell_type": "markdown",
   "id": "0a9b0df1",
   "metadata": {},
   "source": [
    "# 4. Chuẩn bị dữ liệu (Data Preprocessing)\n",
    "Xử lý dữ liệu thô."
   ]
  },
  {
   "cell_type": "markdown",
   "id": "3a91c87d",
   "metadata": {},
   "source": [
    "## 4.1. Xử lý Missing data"
   ]
  },
  {
   "cell_type": "code",
   "execution_count": 47,
   "id": "57068923",
   "metadata": {},
   "outputs": [
    {
     "data": {
      "text/plain": [
       "Attrition_Flag              0\n",
       "Customer_Age                0\n",
       "Gender                      0\n",
       "Dependent_count             0\n",
       "Education_Level             0\n",
       "Marital_Status              0\n",
       "Income_Category             0\n",
       "Card_Category               0\n",
       "Months_on_book              0\n",
       "Total_Relationship_Count    0\n",
       "Months_Inactive_12_mon      0\n",
       "Contacts_Count_12_mon       0\n",
       "Credit_Limit                0\n",
       "Total_Revolving_Bal         0\n",
       "Avg_Open_To_Buy             0\n",
       "Total_Amt_Chng_Q4_Q1        0\n",
       "Total_Trans_Amt             0\n",
       "Total_Trans_Ct              0\n",
       "Total_Ct_Chng_Q4_Q1         0\n",
       "Avg_Utilization_Ratio       0\n",
       "dtype: int64"
      ]
     },
     "execution_count": 47,
     "metadata": {},
     "output_type": "execute_result"
    }
   ],
   "source": [
    "# kiểm tra data bị missing\n",
    "df.isna().sum()"
   ]
  },
  {
   "cell_type": "markdown",
   "id": "15ef4adb",
   "metadata": {},
   "source": [
    "Tập dữ liệu không có missing value."
   ]
  },
  {
   "cell_type": "markdown",
   "id": "fa038b1a",
   "metadata": {},
   "source": [
    "## 4.2. Xử lý các giá trị ngoại lai (Outliers)"
   ]
  },
  {
   "cell_type": "markdown",
   "id": "3598381a",
   "metadata": {},
   "source": [
    "- Giá trị ngoại lai (Outliers) trong dữ liệu là gì?\n",
    "\n",
    "Dữ liệu ngoại lai là những giá trị dữ liệu (records) được ghi nhận có sự khác biệt bất thường so với nhứng giá trị dữ liệu khác, không theo một quy tắc chung nào và có thể gây ra sự sai lệch trong kết quả phân tích và việc này có thể gây ra sự sai lệch trong kết quả phân tích và việc xây dựng mô hình dự đoán.\n",
    "- Làm thế nào để xác định và xử lý các giá trị ngoại lai (Outliers)?\n",
    "\n",
    "Nhóm sử dụng phương pháp khoảng tứ phân vị **(IQR)** để xác định các giá trị ngoại lai. Tuy nhiên, nhóm không tiến hành code từ đầu để xác định từng giá trị ngoại lai mà sử dụng hàm **'detect_outliers'** từ thư viện 'datasist.structdata', hàm này sử dụng phương pháp IQR để xác định Outliers và trả về hàng mà Outliers được xác định.\n",
    "\n",
    "Để hiểu rõ hơn:\n",
    " - Về phương pháp IQR: <https://tiensu.github.io/blog/77_data_prepeation_for_ml_data_cleaning_outlier/>\n",
    " - Về hàm 'detect_outliers': <https://risenw.github.io/datasist/structdata.html>"
   ]
  },
  {
   "cell_type": "code",
   "execution_count": 53,
   "id": "b68b0285",
   "metadata": {},
   "outputs": [
    {
     "name": "stdout",
     "output_type": "stream",
     "text": [
      "Số giá trị ngoại lai: 1274\n",
      "Danh sách dòng chứa các giá trị ngoại lai:  [251, 254, 11, 18, 39, 52, 108, 151, 177, 182, 208, 311, 317, 358, 388, 432, 617, 659, 1013, 1098, 1118, 1248, 1327, 1599, 1748, 1789, 1830, 1883, 1927, 1970, 1990, 2099, 2104, 2120, 2152, 2170, 2180, 2214, 2236, 2265, 2333, 2348, 2377, 2379, 2451, 2483, 2574, 2609, 2617, 2627, 2693, 2729, 2735, 2749, 2896, 2955, 2956, 2966, 2977, 3152, 3252, 3332, 3418, 3682, 3732, 3747, 3764, 3935, 4511, 4768, 4890, 5009, 5044, 5049, 5092, 5163, 5362, 6049, 6119, 6806, 7065, 8411, 8788, 8822, 9093, 9128, 9150, 9313, 9467, 9502, 9504, 9594, 9625, 9626, 9631, 9638, 9640, 9667, 9727, 9736, 9772, 9773, 9817, 9818, 9838, 9850, 9873, 9894, 9898, 9915, 9919, 9926, 9929, 9934, 10028, 10042, 10062, 10069, 10107, 10114, 12, 29, 31, 118, 202, 313, 373, 404, 564, 592, 749, 817, 1479, 1646, 1794, 2255, 2619, 2671, 2846, 3205, 3311, 3392, 3643, 4032, 4465, 4621, 4749, 4799, 5020, 5085, 5164, 5249, 5256, 5762, 5971, 6083, 6343, 6561, 6818, 6847, 6907, 7110, 7589, 8125, 8442, 8574, 8848, 8921, 8976, 9028, 9094, 9162, 9176, 9179, 9192, 9387, 9399, 9499, 9560, 9569, 9596, 9605, 9879, 9884, 9887, 9932, 9955, 9964, 10035, 10049, 10066, 2, 4, 8, 46, 80, 91, 126, 137, 147, 178, 191, 209, 225, 231, 271, 273, 281, 294, 305, 324, 346, 361, 395, 407, 427, 465, 488, 491, 495, 505, 527, 550, 555, 569, 724, 735, 769, 900, 929, 968, 1262, 1617, 1946, 2020, 2147, 2148, 2321, 2337, 2355, 2358, 2414, 2494, 2499, 2510, 2519, 2579, 2656, 2677, 2681, 2724, 2852, 2879, 2912, 2921, 2938, 2954, 2979, 2985, 3049, 3101, 3168, 3273, 3408, 3410, 3416, 3614, 3641, 3713, 3742, 3876, 3988, 4306, 4494, 4579, 4681, 5068, 5276, 5878, 7998, 8310, 8702, 8768, 9023, 9126, 9228, 9297, 9393, 9430, 9492, 9495, 9602, 9609, 9655, 9663, 9672, 9757, 9795, 9796, 9809, 9857, 9862, 9928, 9945, 9962, 9963, 9967, 9971, 10017, 10018, 10025, 10029, 10032, 10077, 10096, 10101, 10106, 10109, 10120, 6, 7, 16, 40, 45, 61, 65, 69, 70, 74, 79, 81, 84, 101, 106, 109, 120, 124, 158, 168, 173, 176, 203, 204, 211, 218, 229, 237, 260, 262, 280, 286, 303, 321, 323, 334, 345, 359, 362, 396, 397, 403, 408, 443, 450, 453, 456, 471, 480, 490, 496, 519, 523, 524, 541, 571, 587, 640, 650, 652, 653, 663, 668, 673, 692, 695, 715, 726, 731, 739, 745, 754, 758, 768, 784, 788, 793, 839, 842, 843, 847, 892, 926, 946, 957, 994, 1007, 1012, 1021, 1022, 1025, 1026, 1027, 1032, 1072, 1080, 1086, 1101, 1116, 1133, 1135, 1138, 1170, 1190, 1223, 1226, 1249, 1251, 1266, 1277, 1278, 1285, 1293, 1302, 1311, 1326, 1341, 1376, 1416, 1422, 1428, 1437, 1438, 1451, 1459, 1461, 1468, 1469, 1490, 1494, 1506, 1516, 1526, 1543, 1564, 1566, 1578, 1641, 1642, 1649, 1665, 1684, 1691, 1700, 1704, 1707, 1713, 1784, 1815, 1827, 1868, 1878, 1885, 1894, 1896, 1898, 1924, 1925, 1948, 1961, 1986, 1991, 2010, 2022, 2038, 2083, 2096, 2142, 2160, 2189, 2196, 2200, 2201, 2208, 2262, 2269, 2288, 2289, 2300, 2319, 2338, 2341, 2353, 2356, 2372, 2398, 2401, 2408, 2411, 2416, 2425, 2431, 2432, 2440, 2448, 2459, 2469, 2476, 2486, 2512, 2516, 2528, 2541, 2547, 2564, 2565, 2575, 2592, 2600, 2604, 2608, 2615, 2618, 2629, 2630, 2633, 2652, 2668, 2678, 2704, 2706, 2720, 2727, 2744, 2750, 2758, 2762, 2763, 2772, 2786, 2796, 2797, 2810, 2816, 2817, 2824, 2828, 2833, 2853, 2863, 2878, 2888, 2889, 2892, 2911, 2916, 2940, 2943, 2944, 2971, 2983, 2984, 2986, 2997, 3003, 3010, 3017, 3024, 3028, 3037, 3046, 3060, 3069, 3070, 3104, 3113, 3127, 3128, 3135, 3147, 3148, 3163, 3165, 3200, 3202, 3211, 3217, 3231, 3245, 3249, 3259, 3271, 3280, 3310, 3317, 3325, 3326, 3356, 3362, 3382, 3393, 3402, 3429, 3433, 3434, 3453, 3456, 3462, 3472, 3475, 3488, 3496, 3506, 3519, 3535, 3544, 3548, 3556, 3560, 3570, 3577, 3600, 3605, 3621, 3636, 3646, 3657, 3658, 3665, 3668, 3678, 3679, 3685, 3690, 3708, 3735, 3750, 3753, 3771, 3772, 3807, 3813, 3831, 3834, 3860, 3867, 3888, 3893, 3902, 3904, 3928, 3933, 3934, 3949, 3954, 3984, 3989, 3990, 3994, 4021, 4027, 4029, 4034, 4036, 4082, 4108, 4111, 4120, 4134, 4140, 4145, 4164, 4165, 4172, 4179, 4185, 4193, 4213, 4215, 4225, 4228, 4236, 4242, 4256, 4259, 4268, 4280, 4286, 4291, 4312, 4320, 4327, 4334, 4335, 4347, 4348, 4351, 4355, 4368, 4378, 4384, 4389, 4406, 4407, 4412, 4452, 4458, 4487, 4489, 4516, 4532, 4536, 4538, 4544, 4557, 4577, 4585, 4620, 4632, 4649, 4660, 4662, 4691, 4695, 4706, 4708, 4718, 4744, 4745, 4761, 4806, 4819, 4872, 4883, 4894, 4912, 4933, 4934, 4962, 4982, 4988, 5003, 5013, 5051, 5099, 5113, 5153, 5224, 5302, 5304, 5329, 5459, 5487, 5492, 5494, 5515, 5529, 5540, 5558, 5633, 5640, 5643, 5694, 5701, 5782, 5797, 5804, 5864, 5936, 5937, 5961, 5972, 5979, 5985, 5988, 6062, 6067, 6081, 6092, 6100, 6106, 6125, 6267, 6371, 6395, 6404, 6408, 6411, 6431, 6440, 6515, 6529, 6537, 6598, 6631, 6635, 6641, 6648, 6688, 6819, 6861, 6870, 6945, 7010, 7017, 7032, 7055, 7084, 7094, 7108, 7207, 7232, 7243, 7263, 7299, 7542, 7550, 7563, 7565, 7648, 7677, 7722, 7799, 7815, 7983, 8078, 8113, 8155, 8166, 8185, 8193, 8248, 8286, 8308, 8325, 8358, 8375, 8390, 8438, 8532, 8544, 8559, 8564, 8584, 8585, 8586, 8595, 8605, 8625, 8631, 8632, 8635, 8639, 8646, 8651, 8652, 8654, 8658, 8663, 8665, 8666, 8676, 8677, 8680, 8682, 8694, 8695, 8704, 8706, 8714, 8719, 8721, 8722, 8726, 8733, 8735, 8739, 8740, 8745, 8751, 8760, 8767, 8776, 8780, 8782, 8786, 8789, 8796, 8801, 8805, 8812, 8813, 8823, 8825, 8832, 8833, 8856, 8857, 8859, 8863, 8866, 8869, 8872, 8879, 8887, 8890, 8891, 8892, 8894, 8896, 8897, 8905, 8906, 8908, 8911, 8912, 8916, 8918, 8919, 8922, 8926, 8929, 8932, 8935, 8938, 8949, 8951, 8962, 8966, 8973, 8974, 8977, 8978, 8980, 8985, 8987, 8989, 8993, 8995, 8999, 9000, 9004, 9007, 9012, 9020, 9024, 9027, 9030, 9033, 9037, 9044, 9047, 9048, 9051, 9052, 9055, 9063, 9068, 9069, 9071, 9073, 9075, 9083, 9089, 9090, 9096, 9100, 9102, 9107, 9108, 9109, 9113, 9115, 9116, 9127, 9155, 9156, 9161, 9163, 9165, 9174, 9175, 9185, 9188, 9189, 9190, 9204, 9205, 9213, 9214, 9220, 9221, 9223, 9224, 9227, 9231, 9234, 9242, 9247, 9259, 9271, 9273, 9275, 9280, 9283, 9290, 9295, 9298, 9300, 9304, 9306, 9307, 9309, 9318, 9319, 9322, 9324, 9330, 9335, 9344, 9347, 9350, 9351, 9353, 9359, 9365, 9367, 9369, 9370, 9378, 9383, 9397, 9398, 9400, 9402, 9412, 9416, 9421, 9423, 9424, 9439, 9440, 9447, 9449, 9455, 9456, 9458, 9460, 9461, 9462, 9463, 9471, 9473, 9474, 9486, 9494, 9513, 9524, 9525, 9531, 9532, 9535, 9543, 9548, 9552, 9553, 9554, 9557, 9559, 9561, 9567, 9572, 9579, 9581, 9587, 9588, 9589, 9590, 9612, 9618, 9619, 9624, 9629, 9630, 9644, 9649, 9652, 9664, 9665, 9666, 9669, 9674, 9679, 9682, 9690, 9695, 9696, 9699, 9701, 9703, 9704, 9709, 9712, 9714, 9724, 9725, 9730, 9739, 9741, 9751, 9758, 9763, 9764, 9765, 9766, 9774, 9775, 9776, 9782, 9802, 9808, 9815, 9828, 9841, 9845, 9846, 9847, 9851, 9856, 9858, 9859, 9861, 9868, 9885, 9892, 9899, 9909, 9912, 9914, 9918, 9921, 9923, 9925, 9940, 9948, 9950, 9951, 9961, 9965, 9968, 9976, 9986, 9990, 9997, 9999, 10000, 10002, 10011, 10012, 10014, 10024, 10031, 10036, 10038, 10051, 10065, 10070, 10079, 10086, 10088, 10095, 10098, 10100, 10104, 10110, 10112, 651, 0, 1, 3, 15, 22, 32, 36, 42, 47, 68, 88, 89, 94, 113, 115, 122, 138, 142, 154, 162, 167, 190, 199, 219, 235, 278, 282, 284, 295, 344, 392, 466, 533, 547, 621, 760, 761, 773, 869, 978, 997, 1060, 1085, 1095, 1096, 1374, 1417, 1455, 1486, 1582, 1718, 1769, 1872, 1874, 1879, 1905, 2101, 2462, 2500, 2515, 2683, 2883, 3270, 3306, 3555, 3596, 4118, 4184, 4417, 4443, 4462, 4701, 4730, 4952, 5161, 5800, 5874, 6484, 6541, 7165, 7330, 7761, 8398, 9131, 9278, 9586, 9917, 9977]\n"
     ]
    }
   ],
   "source": [
    "# phát hiện các giá trị ngoại lai bằng hàm detect_outliers\n",
    "outliers_indices = detect_outliers(df, features=num_col, n=1.5)\n",
    "number_of_outliers = len(outliers_indices)\n",
    "\n",
    "# in ra số lượng giá trị ngoại lai\n",
    "print(f'Số giá trị ngoại lai: {number_of_outliers}')\n",
    "print('Danh sách dòng chứa các giá trị ngoại lai: ',outliers_indices)"
   ]
  },
  {
   "cell_type": "code",
   "execution_count": 54,
   "id": "979b813b",
   "metadata": {
    "scrolled": true
   },
   "outputs": [
    {
     "name": "stdout",
     "output_type": "stream",
     "text": [
      "Số chiều của dataset sau khi bỏ outliers: (8853, 20)\n"
     ]
    }
   ],
   "source": [
    "# xoá bỏ các giá trị ngoại lệ\n",
    "df = df.drop(outliers_indices)\n",
    "print(f\"Số chiều của dataset sau khi bỏ outliers: {df.shape}\")"
   ]
  },
  {
   "cell_type": "markdown",
   "id": "1def7ee0",
   "metadata": {},
   "source": [
    "Sau khi tìm và xử lý các giá trị ngoại lại, tệp dữ liệu của nhóm còn 20 trường với 8853 records."
   ]
  },
  {
   "cell_type": "markdown",
   "id": "57fa6679",
   "metadata": {},
   "source": [
    "## 4.3. Xử lý dữ liệu phân loại (Categorical data)\n",
    "- Dữ liệu phân loại là gì?\n",
    "\n",
    "Dữ liệu phân loại, không giống với dữ liệu dạng số (numerical data), là loại dữ liệu chỉ nhận một số lượng hữu hạn các giá trị cố định. Ví dụ trong một dataset về user, giới tính là một feature dạng categorical ví nó chỉ nhận 1 trong 2 giá trị: Nam hoặc Nữ. Như trong dataset nhóm lựa chọn, dữ liệu về tình trạng hôn nhân của khách hàng sẽ là cateegorical feature vì nó nhận giá trị như độc thân, đã kết hôn hay đã ly hôn. Các dữ liệu dạng phân loại thường được biểu diễn dưới dạng text.\n",
    "\n",
    "- Categorical data thường được chia làm 2 loại: nominal và ordinal data:\n",
    "\n",
    "- - **Nominal data** (dữ liệu dạng định danh): dữ liệu được label hoàn toàn không theo một thứ tự hay thứ bậc trước sau nào. Ví dụ Nam/ Nữ - thời tiết nắng/ mưa/ nhiều mây/ - tên các nước, các thành phố, vv. Trong dataset nhóm lựa chọn, nominal data là 'Gender' và \"Marital Status'.\n",
    "- - **Ordinal data** (dữ liệu dạng thứ bậc): ngược với nominal data, là dữ liệu được sắp xếp/ phân loại theo một thứ tự nhất đinh. Ví dụ tình hình kinh tế tốt/ trung bình/ xấu - kích cỡ quần áo XS/ S/ M/ L/ XL, vv. Trong dataset nhóm lựa chọn, ordinal data bao gồm 'Attrition Flag', 'Education Level', 'Income Category' và 'Card Category'."
   ]
  },
  {
   "cell_type": "code",
   "execution_count": 55,
   "id": "6bfd768f",
   "metadata": {},
   "outputs": [
    {
     "data": {
      "text/html": [
       "<div>\n",
       "<style scoped>\n",
       "    .dataframe tbody tr th:only-of-type {\n",
       "        vertical-align: middle;\n",
       "    }\n",
       "\n",
       "    .dataframe tbody tr th {\n",
       "        vertical-align: top;\n",
       "    }\n",
       "\n",
       "    .dataframe thead th {\n",
       "        text-align: right;\n",
       "    }\n",
       "</style>\n",
       "<table border=\"1\" class=\"dataframe\">\n",
       "  <thead>\n",
       "    <tr style=\"text-align: right;\">\n",
       "      <th></th>\n",
       "      <th>Attrition_Flag</th>\n",
       "      <th>Customer_Age</th>\n",
       "      <th>Gender</th>\n",
       "      <th>Dependent_count</th>\n",
       "      <th>Education_Level</th>\n",
       "      <th>Marital_Status</th>\n",
       "      <th>Income_Category</th>\n",
       "      <th>Card_Category</th>\n",
       "      <th>Months_on_book</th>\n",
       "      <th>Total_Relationship_Count</th>\n",
       "      <th>Months_Inactive_12_mon</th>\n",
       "      <th>Contacts_Count_12_mon</th>\n",
       "      <th>Credit_Limit</th>\n",
       "      <th>Total_Revolving_Bal</th>\n",
       "      <th>Avg_Open_To_Buy</th>\n",
       "      <th>Total_Amt_Chng_Q4_Q1</th>\n",
       "      <th>Total_Trans_Amt</th>\n",
       "      <th>Total_Trans_Ct</th>\n",
       "      <th>Total_Ct_Chng_Q4_Q1</th>\n",
       "      <th>Avg_Utilization_Ratio</th>\n",
       "    </tr>\n",
       "  </thead>\n",
       "  <tbody>\n",
       "    <tr>\n",
       "      <th>5</th>\n",
       "      <td>0</td>\n",
       "      <td>44</td>\n",
       "      <td>M</td>\n",
       "      <td>2</td>\n",
       "      <td>5</td>\n",
       "      <td>Married</td>\n",
       "      <td>2</td>\n",
       "      <td>0</td>\n",
       "      <td>36</td>\n",
       "      <td>3</td>\n",
       "      <td>1</td>\n",
       "      <td>2</td>\n",
       "      <td>4010.0</td>\n",
       "      <td>1247</td>\n",
       "      <td>2763.0</td>\n",
       "      <td>1.376</td>\n",
       "      <td>1088</td>\n",
       "      <td>24</td>\n",
       "      <td>0.846</td>\n",
       "      <td>0.311</td>\n",
       "    </tr>\n",
       "    <tr>\n",
       "      <th>9</th>\n",
       "      <td>0</td>\n",
       "      <td>48</td>\n",
       "      <td>M</td>\n",
       "      <td>2</td>\n",
       "      <td>5</td>\n",
       "      <td>Single</td>\n",
       "      <td>4</td>\n",
       "      <td>0</td>\n",
       "      <td>36</td>\n",
       "      <td>6</td>\n",
       "      <td>3</td>\n",
       "      <td>3</td>\n",
       "      <td>11656.0</td>\n",
       "      <td>1677</td>\n",
       "      <td>9979.0</td>\n",
       "      <td>1.524</td>\n",
       "      <td>1441</td>\n",
       "      <td>32</td>\n",
       "      <td>0.882</td>\n",
       "      <td>0.144</td>\n",
       "    </tr>\n",
       "    <tr>\n",
       "      <th>10</th>\n",
       "      <td>0</td>\n",
       "      <td>42</td>\n",
       "      <td>M</td>\n",
       "      <td>5</td>\n",
       "      <td>1</td>\n",
       "      <td>Unknown</td>\n",
       "      <td>5</td>\n",
       "      <td>0</td>\n",
       "      <td>31</td>\n",
       "      <td>5</td>\n",
       "      <td>3</td>\n",
       "      <td>2</td>\n",
       "      <td>6748.0</td>\n",
       "      <td>1467</td>\n",
       "      <td>5281.0</td>\n",
       "      <td>0.831</td>\n",
       "      <td>1201</td>\n",
       "      <td>42</td>\n",
       "      <td>0.680</td>\n",
       "      <td>0.217</td>\n",
       "    </tr>\n",
       "    <tr>\n",
       "      <th>13</th>\n",
       "      <td>0</td>\n",
       "      <td>35</td>\n",
       "      <td>M</td>\n",
       "      <td>3</td>\n",
       "      <td>5</td>\n",
       "      <td>Unknown</td>\n",
       "      <td>3</td>\n",
       "      <td>0</td>\n",
       "      <td>30</td>\n",
       "      <td>5</td>\n",
       "      <td>1</td>\n",
       "      <td>3</td>\n",
       "      <td>8547.0</td>\n",
       "      <td>1666</td>\n",
       "      <td>6881.0</td>\n",
       "      <td>1.163</td>\n",
       "      <td>1311</td>\n",
       "      <td>33</td>\n",
       "      <td>2.000</td>\n",
       "      <td>0.195</td>\n",
       "    </tr>\n",
       "    <tr>\n",
       "      <th>14</th>\n",
       "      <td>0</td>\n",
       "      <td>57</td>\n",
       "      <td>F</td>\n",
       "      <td>2</td>\n",
       "      <td>5</td>\n",
       "      <td>Married</td>\n",
       "      <td>1</td>\n",
       "      <td>0</td>\n",
       "      <td>48</td>\n",
       "      <td>5</td>\n",
       "      <td>2</td>\n",
       "      <td>2</td>\n",
       "      <td>2436.0</td>\n",
       "      <td>680</td>\n",
       "      <td>1756.0</td>\n",
       "      <td>1.190</td>\n",
       "      <td>1570</td>\n",
       "      <td>29</td>\n",
       "      <td>0.611</td>\n",
       "      <td>0.279</td>\n",
       "    </tr>\n",
       "  </tbody>\n",
       "</table>\n",
       "</div>"
      ],
      "text/plain": [
       "    Attrition_Flag  Customer_Age Gender  Dependent_count  Education_Level  \\\n",
       "5                0            44      M                2                5   \n",
       "9                0            48      M                2                5   \n",
       "10               0            42      M                5                1   \n",
       "13               0            35      M                3                5   \n",
       "14               0            57      F                2                5   \n",
       "\n",
       "   Marital_Status  Income_Category  Card_Category  Months_on_book  \\\n",
       "5         Married                2              0              36   \n",
       "9          Single                4              0              36   \n",
       "10        Unknown                5              0              31   \n",
       "13        Unknown                3              0              30   \n",
       "14        Married                1              0              48   \n",
       "\n",
       "    Total_Relationship_Count  Months_Inactive_12_mon  Contacts_Count_12_mon  \\\n",
       "5                          3                       1                      2   \n",
       "9                          6                       3                      3   \n",
       "10                         5                       3                      2   \n",
       "13                         5                       1                      3   \n",
       "14                         5                       2                      2   \n",
       "\n",
       "    Credit_Limit  Total_Revolving_Bal  Avg_Open_To_Buy  Total_Amt_Chng_Q4_Q1  \\\n",
       "5         4010.0                 1247           2763.0                 1.376   \n",
       "9        11656.0                 1677           9979.0                 1.524   \n",
       "10        6748.0                 1467           5281.0                 0.831   \n",
       "13        8547.0                 1666           6881.0                 1.163   \n",
       "14        2436.0                  680           1756.0                 1.190   \n",
       "\n",
       "    Total_Trans_Amt  Total_Trans_Ct  Total_Ct_Chng_Q4_Q1  \\\n",
       "5              1088              24                0.846   \n",
       "9              1441              32                0.882   \n",
       "10             1201              42                0.680   \n",
       "13             1311              33                2.000   \n",
       "14             1570              29                0.611   \n",
       "\n",
       "    Avg_Utilization_Ratio  \n",
       "5                   0.311  \n",
       "9                   0.144  \n",
       "10                  0.217  \n",
       "13                  0.195  \n",
       "14                  0.279  "
      ]
     },
     "execution_count": 55,
     "metadata": {},
     "output_type": "execute_result"
    }
   ],
   "source": [
    "# xử lý dữ liệu dạng thứ bậc bằng cách map số thứ tự cho từng thứ bậc với data tương ứng\n",
    "\n",
    "attrition_flag_dic = {\n",
    "    'Existing Customer' : 0,\n",
    "    'Attrited Customer' : 1\n",
    "}\n",
    "\n",
    "edu_level_dic = {  \n",
    "    'Unknown': 0, \n",
    "    'Uneducated': 1, \n",
    "    'High School': 2, \n",
    "    'College': 3,\n",
    "    'Post-Graduate': 4, \n",
    "    'Graduate': 5, \n",
    "    'Doctorate': 6\n",
    "} \n",
    "\n",
    "income_cat_dic = {\n",
    "    'Unknown': 0,\n",
    "    'Less than $40K': 1,\n",
    "    '$40K - $60K': 2,\n",
    "    '$60K - $80K': 3,\n",
    "    '$80K - $120K': 4,\n",
    "    '$120K +': 5\n",
    "}\n",
    "\n",
    "card_cat_dic = {\n",
    "    'Blue': 0,\n",
    "    'Silver': 1,\n",
    "    'Gold': 2,\n",
    "    'Platinum': 3\n",
    "}\n",
    "\n",
    "df['Attrition_Flag'] = df['Attrition_Flag'].map(attrition_flag_dic)\n",
    "\n",
    "df['Education_Level'] = df['Education_Level'].map(edu_level_dic)\n",
    "\n",
    "df['Income_Category'] = df['Income_Category'].map(income_cat_dic)\n",
    "\n",
    "df['Card_Category'] = df['Card_Category'].map(card_cat_dic)\n",
    "\n",
    "df.head()"
   ]
  },
  {
   "cell_type": "code",
   "execution_count": 56,
   "id": "4dbe1a2b",
   "metadata": {},
   "outputs": [
    {
     "name": "stdout",
     "output_type": "stream",
     "text": [
      "24 total features after one-hot encoding.\n"
     ]
    }
   ],
   "source": [
    "# sử dụng one-hot encoding để xử lý dữ liệu không có thứ bậc\n",
    "df = pd.get_dummies(df, columns=['Gender', 'Marital_Status'])\n",
    "\n",
    "encoded = list(df.columns)\n",
    "print(\"{} total features after one-hot encoding.\".format(len(encoded)))\n"
   ]
  },
  {
   "cell_type": "markdown",
   "id": "cf954562",
   "metadata": {},
   "source": [
    "Nhóm lựa chọn Mã hóa one-hot cho dữ liệu định tính không có thứ tự.\n",
    "Cách truyền thống nhất để đưa dữ liệu hạng mục về dạng số là mã hóa one-hot. Trong cách mã hóa này, một “từ điển” được xây dựng chứa tất cả các giá trị khả dĩ của từng dữ liệu hạng mục. Sau đó mỗi giá trị hạng mục sẽ được mã hóa bằng một vector nhị phân với toàn bộ các phần tử bằng 0 trừ một phần tử bằng 1 tương ứng với vị trí của giá trị hạng mục đó trong từ điển."
   ]
  },
  {
   "cell_type": "code",
   "execution_count": 57,
   "id": "349bf0ed",
   "metadata": {},
   "outputs": [
    {
     "data": {
      "text/html": [
       "<div>\n",
       "<style scoped>\n",
       "    .dataframe tbody tr th:only-of-type {\n",
       "        vertical-align: middle;\n",
       "    }\n",
       "\n",
       "    .dataframe tbody tr th {\n",
       "        vertical-align: top;\n",
       "    }\n",
       "\n",
       "    .dataframe thead th {\n",
       "        text-align: right;\n",
       "    }\n",
       "</style>\n",
       "<table border=\"1\" class=\"dataframe\">\n",
       "  <thead>\n",
       "    <tr style=\"text-align: right;\">\n",
       "      <th></th>\n",
       "      <th>Attrition_Flag</th>\n",
       "      <th>Customer_Age</th>\n",
       "      <th>Dependent_count</th>\n",
       "      <th>Education_Level</th>\n",
       "      <th>Income_Category</th>\n",
       "      <th>Card_Category</th>\n",
       "      <th>Months_on_book</th>\n",
       "      <th>Total_Relationship_Count</th>\n",
       "      <th>Months_Inactive_12_mon</th>\n",
       "      <th>Contacts_Count_12_mon</th>\n",
       "      <th>...</th>\n",
       "      <th>Total_Trans_Amt</th>\n",
       "      <th>Total_Trans_Ct</th>\n",
       "      <th>Total_Ct_Chng_Q4_Q1</th>\n",
       "      <th>Avg_Utilization_Ratio</th>\n",
       "      <th>Gender_F</th>\n",
       "      <th>Gender_M</th>\n",
       "      <th>Marital_Status_Divorced</th>\n",
       "      <th>Marital_Status_Married</th>\n",
       "      <th>Marital_Status_Single</th>\n",
       "      <th>Marital_Status_Unknown</th>\n",
       "    </tr>\n",
       "  </thead>\n",
       "  <tbody>\n",
       "    <tr>\n",
       "      <th>5</th>\n",
       "      <td>0</td>\n",
       "      <td>44</td>\n",
       "      <td>2</td>\n",
       "      <td>5</td>\n",
       "      <td>2</td>\n",
       "      <td>0</td>\n",
       "      <td>36</td>\n",
       "      <td>3</td>\n",
       "      <td>1</td>\n",
       "      <td>2</td>\n",
       "      <td>...</td>\n",
       "      <td>1088</td>\n",
       "      <td>24</td>\n",
       "      <td>0.846</td>\n",
       "      <td>0.311</td>\n",
       "      <td>False</td>\n",
       "      <td>True</td>\n",
       "      <td>False</td>\n",
       "      <td>True</td>\n",
       "      <td>False</td>\n",
       "      <td>False</td>\n",
       "    </tr>\n",
       "    <tr>\n",
       "      <th>9</th>\n",
       "      <td>0</td>\n",
       "      <td>48</td>\n",
       "      <td>2</td>\n",
       "      <td>5</td>\n",
       "      <td>4</td>\n",
       "      <td>0</td>\n",
       "      <td>36</td>\n",
       "      <td>6</td>\n",
       "      <td>3</td>\n",
       "      <td>3</td>\n",
       "      <td>...</td>\n",
       "      <td>1441</td>\n",
       "      <td>32</td>\n",
       "      <td>0.882</td>\n",
       "      <td>0.144</td>\n",
       "      <td>False</td>\n",
       "      <td>True</td>\n",
       "      <td>False</td>\n",
       "      <td>False</td>\n",
       "      <td>True</td>\n",
       "      <td>False</td>\n",
       "    </tr>\n",
       "    <tr>\n",
       "      <th>10</th>\n",
       "      <td>0</td>\n",
       "      <td>42</td>\n",
       "      <td>5</td>\n",
       "      <td>1</td>\n",
       "      <td>5</td>\n",
       "      <td>0</td>\n",
       "      <td>31</td>\n",
       "      <td>5</td>\n",
       "      <td>3</td>\n",
       "      <td>2</td>\n",
       "      <td>...</td>\n",
       "      <td>1201</td>\n",
       "      <td>42</td>\n",
       "      <td>0.680</td>\n",
       "      <td>0.217</td>\n",
       "      <td>False</td>\n",
       "      <td>True</td>\n",
       "      <td>False</td>\n",
       "      <td>False</td>\n",
       "      <td>False</td>\n",
       "      <td>True</td>\n",
       "    </tr>\n",
       "    <tr>\n",
       "      <th>13</th>\n",
       "      <td>0</td>\n",
       "      <td>35</td>\n",
       "      <td>3</td>\n",
       "      <td>5</td>\n",
       "      <td>3</td>\n",
       "      <td>0</td>\n",
       "      <td>30</td>\n",
       "      <td>5</td>\n",
       "      <td>1</td>\n",
       "      <td>3</td>\n",
       "      <td>...</td>\n",
       "      <td>1311</td>\n",
       "      <td>33</td>\n",
       "      <td>2.000</td>\n",
       "      <td>0.195</td>\n",
       "      <td>False</td>\n",
       "      <td>True</td>\n",
       "      <td>False</td>\n",
       "      <td>False</td>\n",
       "      <td>False</td>\n",
       "      <td>True</td>\n",
       "    </tr>\n",
       "    <tr>\n",
       "      <th>14</th>\n",
       "      <td>0</td>\n",
       "      <td>57</td>\n",
       "      <td>2</td>\n",
       "      <td>5</td>\n",
       "      <td>1</td>\n",
       "      <td>0</td>\n",
       "      <td>48</td>\n",
       "      <td>5</td>\n",
       "      <td>2</td>\n",
       "      <td>2</td>\n",
       "      <td>...</td>\n",
       "      <td>1570</td>\n",
       "      <td>29</td>\n",
       "      <td>0.611</td>\n",
       "      <td>0.279</td>\n",
       "      <td>True</td>\n",
       "      <td>False</td>\n",
       "      <td>False</td>\n",
       "      <td>True</td>\n",
       "      <td>False</td>\n",
       "      <td>False</td>\n",
       "    </tr>\n",
       "  </tbody>\n",
       "</table>\n",
       "<p>5 rows × 24 columns</p>\n",
       "</div>"
      ],
      "text/plain": [
       "    Attrition_Flag  Customer_Age  Dependent_count  Education_Level  \\\n",
       "5                0            44                2                5   \n",
       "9                0            48                2                5   \n",
       "10               0            42                5                1   \n",
       "13               0            35                3                5   \n",
       "14               0            57                2                5   \n",
       "\n",
       "    Income_Category  Card_Category  Months_on_book  Total_Relationship_Count  \\\n",
       "5                 2              0              36                         3   \n",
       "9                 4              0              36                         6   \n",
       "10                5              0              31                         5   \n",
       "13                3              0              30                         5   \n",
       "14                1              0              48                         5   \n",
       "\n",
       "    Months_Inactive_12_mon  Contacts_Count_12_mon  ...  Total_Trans_Amt  \\\n",
       "5                        1                      2  ...             1088   \n",
       "9                        3                      3  ...             1441   \n",
       "10                       3                      2  ...             1201   \n",
       "13                       1                      3  ...             1311   \n",
       "14                       2                      2  ...             1570   \n",
       "\n",
       "    Total_Trans_Ct  Total_Ct_Chng_Q4_Q1  Avg_Utilization_Ratio  Gender_F  \\\n",
       "5               24                0.846                  0.311     False   \n",
       "9               32                0.882                  0.144     False   \n",
       "10              42                0.680                  0.217     False   \n",
       "13              33                2.000                  0.195     False   \n",
       "14              29                0.611                  0.279      True   \n",
       "\n",
       "    Gender_M  Marital_Status_Divorced  Marital_Status_Married  \\\n",
       "5       True                    False                    True   \n",
       "9       True                    False                   False   \n",
       "10      True                    False                   False   \n",
       "13      True                    False                   False   \n",
       "14     False                    False                    True   \n",
       "\n",
       "    Marital_Status_Single  Marital_Status_Unknown  \n",
       "5                   False                   False  \n",
       "9                    True                   False  \n",
       "10                  False                    True  \n",
       "13                  False                    True  \n",
       "14                  False                   False  \n",
       "\n",
       "[5 rows x 24 columns]"
      ]
     },
     "execution_count": 57,
     "metadata": {},
     "output_type": "execute_result"
    }
   ],
   "source": [
    "df.head()"
   ]
  },
  {
   "cell_type": "markdown",
   "id": "ded4fcaf",
   "metadata": {},
   "source": [
    "## 4.4. Chia dữ liệu thành tập Train và tập Test\n",
    "Chúng ta sẽ sử dụng thư viện `train_test_split()` để chia dữ liệu thành 2 tập: train và test. Nhóm lựa chọn tỷ lệ tập train:test là 80:20."
   ]
  },
  {
   "cell_type": "markdown",
   "id": "a7a1b6a7",
   "metadata": {},
   "source": [
    "### Tách các biến dự đoán và biến mục tiêu"
   ]
  },
  {
   "cell_type": "code",
   "execution_count": 58,
   "id": "c1fcba2c",
   "metadata": {},
   "outputs": [],
   "source": [
    "x = df.drop(['Attrition_Flag'], axis=1)\n",
    "y = df['Attrition_Flag']"
   ]
  },
  {
   "cell_type": "code",
   "execution_count": 59,
   "id": "c2d874fd",
   "metadata": {},
   "outputs": [
    {
     "data": {
      "text/plain": [
       "((8853, 23), (8853,))"
      ]
     },
     "execution_count": 59,
     "metadata": {},
     "output_type": "execute_result"
    }
   ],
   "source": [
    "x.shape, y.shape"
   ]
  },
  {
   "cell_type": "markdown",
   "id": "b309c312",
   "metadata": {},
   "source": [
    "### Chia dữ liệu thành 2 tập"
   ]
  },
  {
   "cell_type": "code",
   "execution_count": 61,
   "id": "89da5c88",
   "metadata": {},
   "outputs": [
    {
     "name": "stdout",
     "output_type": "stream",
     "text": [
      "Tập huấn luyện mô hình có 7082 quan sát.\n",
      "Tập kiểm tra mô hình có 1771 quan sát.\n"
     ]
    }
   ],
   "source": [
    "# chia dữ liệu thành 2 tập: Train và Test (80% training, 20% testing)\n",
    "X_train, X_test, y_train, y_test = train_test_split(x, \n",
    "                                                    y, \n",
    "                                                    test_size = 0.2, \n",
    "                                                    random_state = 42)\n",
    "\n",
    "# hiển thị kết quả mẫu cho từng tập\n",
    "print(\"Tập huấn luyện mô hình có {} quan sát.\".format(X_train.shape[0]))\n",
    "print(\"Tập kiểm tra mô hình có {} quan sát.\".format(X_test.shape[0]))"
   ]
  },
  {
   "cell_type": "markdown",
   "id": "2c81cabe",
   "metadata": {},
   "source": [
    "## 4.5. Xử lý dữ liệu mất cân bằng"
   ]
  },
  {
   "cell_type": "code",
   "execution_count": 62,
   "id": "73164a04",
   "metadata": {},
   "outputs": [
    {
     "data": {
      "text/plain": [
       "Attrition_Flag\n",
       "0    5940\n",
       "1    1142\n",
       "Name: count, dtype: int64"
      ]
     },
     "execution_count": 62,
     "metadata": {},
     "output_type": "execute_result"
    }
   ],
   "source": [
    "y_train.value_counts()"
   ]
  },
  {
   "cell_type": "markdown",
   "id": "b82d36c5",
   "metadata": {},
   "source": [
    "Dữ liệu bị mất cân bằng nên nhóm sử dụng **SMOTE** để cân bằng dữ liệu vì việc lấy mẫu có thể gây mất dữ liệu và ảnh hưởng đến chất lượng dự đoán khi dữ liệu ban đầu bị mất cân bằng.\n",
    "- **SMOTE** (Synthetic Minority Over-sampling) là phương pháp sinh mẫu (thuộc phương pháp **Over Sampling**) nhằm gia tăng kích thước mẫu của nhóm thiểu số trong trường hợp xảy ra mất cân bằng mẫu. Để gia tăng kích thước mẫu, với mỗi một mẫu thuộc nhóm thiểu số ta sẽ lựa chọn ra mẫu láng giềng gần nhất với nó và sau đó thực hiện tổ hợp tuyến tính để tạo ra mẫu giả lập. Phương pháp để lựa chọn ra các láng giềng của một quan sát có thể dựa trên thuật toán kNN hoặc SVM."
   ]
  },
  {
   "cell_type": "code",
   "execution_count": 63,
   "id": "b6f35801",
   "metadata": {},
   "outputs": [],
   "source": [
    "sm = SMOTE(random_state=42)\n",
    "X_train, y_train = sm.fit_resample(X_train, y_train)"
   ]
  },
  {
   "cell_type": "code",
   "execution_count": 64,
   "id": "2376be15",
   "metadata": {},
   "outputs": [
    {
     "data": {
      "text/plain": [
       "Attrition_Flag\n",
       "1    5940\n",
       "0    5940\n",
       "Name: count, dtype: int64"
      ]
     },
     "execution_count": 64,
     "metadata": {},
     "output_type": "execute_result"
    }
   ],
   "source": [
    "y_train.value_counts()"
   ]
  },
  {
   "cell_type": "markdown",
   "id": "1fcf49c7",
   "metadata": {},
   "source": [
    "Bây giờ dữ liệu đã cân bằng."
   ]
  },
  {
   "cell_type": "markdown",
   "id": "f700cab5",
   "metadata": {},
   "source": [
    "## 4.6. Chuẩn hoá dữ liệu (Feature Scaling)\n",
    "**Feature Scaling** (hay còn gọi là Data Normalization) là một kỹ thuật được sử dụng để chuẩn hoá dữ liệu về cùng phạm vi (same range).\n",
    "\n",
    "Chuẩn hoá dữ liệu tuần tự với **StandardScaler**."
   ]
  },
  {
   "cell_type": "code",
   "execution_count": 102,
   "id": "8d79028e",
   "metadata": {},
   "outputs": [
    {
     "data": {
      "text/html": [
       "<div>\n",
       "<style scoped>\n",
       "    .dataframe tbody tr th:only-of-type {\n",
       "        vertical-align: middle;\n",
       "    }\n",
       "\n",
       "    .dataframe tbody tr th {\n",
       "        vertical-align: top;\n",
       "    }\n",
       "\n",
       "    .dataframe thead th {\n",
       "        text-align: right;\n",
       "    }\n",
       "</style>\n",
       "<table border=\"1\" class=\"dataframe\">\n",
       "  <thead>\n",
       "    <tr style=\"text-align: right;\">\n",
       "      <th></th>\n",
       "      <th>Customer_Age</th>\n",
       "      <th>Dependent_count</th>\n",
       "      <th>Education_Level</th>\n",
       "      <th>Income_Category</th>\n",
       "      <th>Card_Category</th>\n",
       "      <th>Months_on_book</th>\n",
       "      <th>Total_Relationship_Count</th>\n",
       "      <th>Months_Inactive_12_mon</th>\n",
       "      <th>Contacts_Count_12_mon</th>\n",
       "      <th>Credit_Limit</th>\n",
       "      <th>...</th>\n",
       "      <th>Total_Trans_Amt</th>\n",
       "      <th>Total_Trans_Ct</th>\n",
       "      <th>Total_Ct_Chng_Q4_Q1</th>\n",
       "      <th>Avg_Utilization_Ratio</th>\n",
       "      <th>Gender_F</th>\n",
       "      <th>Gender_M</th>\n",
       "      <th>Marital_Status_Divorced</th>\n",
       "      <th>Marital_Status_Married</th>\n",
       "      <th>Marital_Status_Single</th>\n",
       "      <th>Marital_Status_Unknown</th>\n",
       "    </tr>\n",
       "  </thead>\n",
       "  <tbody>\n",
       "    <tr>\n",
       "      <th>0</th>\n",
       "      <td>0.931732</td>\n",
       "      <td>-0.163926</td>\n",
       "      <td>3</td>\n",
       "      <td>1</td>\n",
       "      <td>0</td>\n",
       "      <td>1.154546</td>\n",
       "      <td>-0.331522</td>\n",
       "      <td>0.751478</td>\n",
       "      <td>0.479457</td>\n",
       "      <td>-0.867929</td>\n",
       "      <td>...</td>\n",
       "      <td>-0.307218</td>\n",
       "      <td>-0.379144</td>\n",
       "      <td>-0.212054</td>\n",
       "      <td>-0.887260</td>\n",
       "      <td>True</td>\n",
       "      <td>False</td>\n",
       "      <td>False</td>\n",
       "      <td>True</td>\n",
       "      <td>False</td>\n",
       "      <td>False</td>\n",
       "    </tr>\n",
       "    <tr>\n",
       "      <th>1</th>\n",
       "      <td>-0.708602</td>\n",
       "      <td>0.664771</td>\n",
       "      <td>4</td>\n",
       "      <td>5</td>\n",
       "      <td>0</td>\n",
       "      <td>-0.933402</td>\n",
       "      <td>1.665344</td>\n",
       "      <td>-1.539401</td>\n",
       "      <td>0.479457</td>\n",
       "      <td>-0.469235</td>\n",
       "      <td>...</td>\n",
       "      <td>0.408667</td>\n",
       "      <td>1.045911</td>\n",
       "      <td>-0.307518</td>\n",
       "      <td>1.660662</td>\n",
       "      <td>False</td>\n",
       "      <td>True</td>\n",
       "      <td>True</td>\n",
       "      <td>False</td>\n",
       "      <td>False</td>\n",
       "      <td>False</td>\n",
       "    </tr>\n",
       "    <tr>\n",
       "      <th>2</th>\n",
       "      <td>-2.075548</td>\n",
       "      <td>-0.992623</td>\n",
       "      <td>4</td>\n",
       "      <td>1</td>\n",
       "      <td>1</td>\n",
       "      <td>0.040974</td>\n",
       "      <td>1.665344</td>\n",
       "      <td>0.751478</td>\n",
       "      <td>2.467920</td>\n",
       "      <td>1.282810</td>\n",
       "      <td>...</td>\n",
       "      <td>1.356445</td>\n",
       "      <td>0.632186</td>\n",
       "      <td>-0.078405</td>\n",
       "      <td>-0.887260</td>\n",
       "      <td>False</td>\n",
       "      <td>True</td>\n",
       "      <td>False</td>\n",
       "      <td>False</td>\n",
       "      <td>True</td>\n",
       "      <td>False</td>\n",
       "    </tr>\n",
       "    <tr>\n",
       "      <th>3</th>\n",
       "      <td>1.205121</td>\n",
       "      <td>-0.163926</td>\n",
       "      <td>3</td>\n",
       "      <td>1</td>\n",
       "      <td>0</td>\n",
       "      <td>1.015350</td>\n",
       "      <td>0.999722</td>\n",
       "      <td>-0.393962</td>\n",
       "      <td>-1.509006</td>\n",
       "      <td>-0.716591</td>\n",
       "      <td>...</td>\n",
       "      <td>0.296976</td>\n",
       "      <td>0.770094</td>\n",
       "      <td>-0.274106</td>\n",
       "      <td>1.234825</td>\n",
       "      <td>True</td>\n",
       "      <td>False</td>\n",
       "      <td>True</td>\n",
       "      <td>False</td>\n",
       "      <td>False</td>\n",
       "      <td>False</td>\n",
       "    </tr>\n",
       "    <tr>\n",
       "      <th>4</th>\n",
       "      <td>-0.708602</td>\n",
       "      <td>0.664771</td>\n",
       "      <td>5</td>\n",
       "      <td>2</td>\n",
       "      <td>0</td>\n",
       "      <td>-0.933402</td>\n",
       "      <td>0.999722</td>\n",
       "      <td>-1.539401</td>\n",
       "      <td>0.479457</td>\n",
       "      <td>-0.767367</td>\n",
       "      <td>...</td>\n",
       "      <td>-0.228503</td>\n",
       "      <td>0.080551</td>\n",
       "      <td>1.081478</td>\n",
       "      <td>1.025456</td>\n",
       "      <td>True</td>\n",
       "      <td>False</td>\n",
       "      <td>False</td>\n",
       "      <td>True</td>\n",
       "      <td>False</td>\n",
       "      <td>False</td>\n",
       "    </tr>\n",
       "    <tr>\n",
       "      <th>...</th>\n",
       "      <td>...</td>\n",
       "      <td>...</td>\n",
       "      <td>...</td>\n",
       "      <td>...</td>\n",
       "      <td>...</td>\n",
       "      <td>...</td>\n",
       "      <td>...</td>\n",
       "      <td>...</td>\n",
       "      <td>...</td>\n",
       "      <td>...</td>\n",
       "      <td>...</td>\n",
       "      <td>...</td>\n",
       "      <td>...</td>\n",
       "      <td>...</td>\n",
       "      <td>...</td>\n",
       "      <td>...</td>\n",
       "      <td>...</td>\n",
       "      <td>...</td>\n",
       "      <td>...</td>\n",
       "      <td>...</td>\n",
       "      <td>...</td>\n",
       "    </tr>\n",
       "    <tr>\n",
       "      <th>11875</th>\n",
       "      <td>0.384954</td>\n",
       "      <td>-0.163926</td>\n",
       "      <td>5</td>\n",
       "      <td>1</td>\n",
       "      <td>0</td>\n",
       "      <td>0.319367</td>\n",
       "      <td>0.999722</td>\n",
       "      <td>-0.393962</td>\n",
       "      <td>-0.514774</td>\n",
       "      <td>-0.725733</td>\n",
       "      <td>...</td>\n",
       "      <td>-1.056080</td>\n",
       "      <td>-1.712261</td>\n",
       "      <td>0.803073</td>\n",
       "      <td>-0.887260</td>\n",
       "      <td>True</td>\n",
       "      <td>False</td>\n",
       "      <td>False</td>\n",
       "      <td>True</td>\n",
       "      <td>True</td>\n",
       "      <td>False</td>\n",
       "    </tr>\n",
       "    <tr>\n",
       "      <th>11876</th>\n",
       "      <td>-0.435213</td>\n",
       "      <td>0.664771</td>\n",
       "      <td>5</td>\n",
       "      <td>1</td>\n",
       "      <td>0</td>\n",
       "      <td>0.040974</td>\n",
       "      <td>-1.662767</td>\n",
       "      <td>-0.393962</td>\n",
       "      <td>1.473689</td>\n",
       "      <td>-0.861658</td>\n",
       "      <td>...</td>\n",
       "      <td>-0.614280</td>\n",
       "      <td>-0.654961</td>\n",
       "      <td>-0.985870</td>\n",
       "      <td>-0.887260</td>\n",
       "      <td>True</td>\n",
       "      <td>False</td>\n",
       "      <td>False</td>\n",
       "      <td>True</td>\n",
       "      <td>True</td>\n",
       "      <td>False</td>\n",
       "    </tr>\n",
       "    <tr>\n",
       "      <th>11877</th>\n",
       "      <td>-0.298519</td>\n",
       "      <td>0.664771</td>\n",
       "      <td>1</td>\n",
       "      <td>5</td>\n",
       "      <td>0</td>\n",
       "      <td>0.040974</td>\n",
       "      <td>-0.997145</td>\n",
       "      <td>0.751478</td>\n",
       "      <td>-0.514774</td>\n",
       "      <td>-0.145223</td>\n",
       "      <td>...</td>\n",
       "      <td>-0.372460</td>\n",
       "      <td>-0.471083</td>\n",
       "      <td>-1.665567</td>\n",
       "      <td>-0.576274</td>\n",
       "      <td>False</td>\n",
       "      <td>True</td>\n",
       "      <td>False</td>\n",
       "      <td>True</td>\n",
       "      <td>True</td>\n",
       "      <td>False</td>\n",
       "    </tr>\n",
       "    <tr>\n",
       "      <th>11878</th>\n",
       "      <td>2.025289</td>\n",
       "      <td>-0.992623</td>\n",
       "      <td>2</td>\n",
       "      <td>2</td>\n",
       "      <td>0</td>\n",
       "      <td>1.432940</td>\n",
       "      <td>-0.997145</td>\n",
       "      <td>0.751478</td>\n",
       "      <td>-0.514774</td>\n",
       "      <td>0.329941</td>\n",
       "      <td>...</td>\n",
       "      <td>0.541278</td>\n",
       "      <td>0.632186</td>\n",
       "      <td>-0.047446</td>\n",
       "      <td>0.234086</td>\n",
       "      <td>True</td>\n",
       "      <td>True</td>\n",
       "      <td>False</td>\n",
       "      <td>False</td>\n",
       "      <td>True</td>\n",
       "      <td>False</td>\n",
       "    </tr>\n",
       "    <tr>\n",
       "      <th>11879</th>\n",
       "      <td>1.478510</td>\n",
       "      <td>-0.163926</td>\n",
       "      <td>0</td>\n",
       "      <td>3</td>\n",
       "      <td>0</td>\n",
       "      <td>1.432940</td>\n",
       "      <td>-0.997145</td>\n",
       "      <td>-1.539401</td>\n",
       "      <td>-0.514774</td>\n",
       "      <td>-0.703429</td>\n",
       "      <td>...</td>\n",
       "      <td>-0.386998</td>\n",
       "      <td>-0.792870</td>\n",
       "      <td>-0.956399</td>\n",
       "      <td>0.317615</td>\n",
       "      <td>False</td>\n",
       "      <td>True</td>\n",
       "      <td>False</td>\n",
       "      <td>True</td>\n",
       "      <td>True</td>\n",
       "      <td>False</td>\n",
       "    </tr>\n",
       "  </tbody>\n",
       "</table>\n",
       "<p>11880 rows × 23 columns</p>\n",
       "</div>"
      ],
      "text/plain": [
       "       Customer_Age  Dependent_count  Education_Level  Income_Category  \\\n",
       "0          0.931732        -0.163926                3                1   \n",
       "1         -0.708602         0.664771                4                5   \n",
       "2         -2.075548        -0.992623                4                1   \n",
       "3          1.205121        -0.163926                3                1   \n",
       "4         -0.708602         0.664771                5                2   \n",
       "...             ...              ...              ...              ...   \n",
       "11875      0.384954        -0.163926                5                1   \n",
       "11876     -0.435213         0.664771                5                1   \n",
       "11877     -0.298519         0.664771                1                5   \n",
       "11878      2.025289        -0.992623                2                2   \n",
       "11879      1.478510        -0.163926                0                3   \n",
       "\n",
       "       Card_Category  Months_on_book  Total_Relationship_Count  \\\n",
       "0                  0        1.154546                 -0.331522   \n",
       "1                  0       -0.933402                  1.665344   \n",
       "2                  1        0.040974                  1.665344   \n",
       "3                  0        1.015350                  0.999722   \n",
       "4                  0       -0.933402                  0.999722   \n",
       "...              ...             ...                       ...   \n",
       "11875              0        0.319367                  0.999722   \n",
       "11876              0        0.040974                 -1.662767   \n",
       "11877              0        0.040974                 -0.997145   \n",
       "11878              0        1.432940                 -0.997145   \n",
       "11879              0        1.432940                 -0.997145   \n",
       "\n",
       "       Months_Inactive_12_mon  Contacts_Count_12_mon  Credit_Limit  ...  \\\n",
       "0                    0.751478               0.479457     -0.867929  ...   \n",
       "1                   -1.539401               0.479457     -0.469235  ...   \n",
       "2                    0.751478               2.467920      1.282810  ...   \n",
       "3                   -0.393962              -1.509006     -0.716591  ...   \n",
       "4                   -1.539401               0.479457     -0.767367  ...   \n",
       "...                       ...                    ...           ...  ...   \n",
       "11875               -0.393962              -0.514774     -0.725733  ...   \n",
       "11876               -0.393962               1.473689     -0.861658  ...   \n",
       "11877                0.751478              -0.514774     -0.145223  ...   \n",
       "11878                0.751478              -0.514774      0.329941  ...   \n",
       "11879               -1.539401              -0.514774     -0.703429  ...   \n",
       "\n",
       "       Total_Trans_Amt  Total_Trans_Ct  Total_Ct_Chng_Q4_Q1  \\\n",
       "0            -0.307218       -0.379144            -0.212054   \n",
       "1             0.408667        1.045911            -0.307518   \n",
       "2             1.356445        0.632186            -0.078405   \n",
       "3             0.296976        0.770094            -0.274106   \n",
       "4            -0.228503        0.080551             1.081478   \n",
       "...                ...             ...                  ...   \n",
       "11875        -1.056080       -1.712261             0.803073   \n",
       "11876        -0.614280       -0.654961            -0.985870   \n",
       "11877        -0.372460       -0.471083            -1.665567   \n",
       "11878         0.541278        0.632186            -0.047446   \n",
       "11879        -0.386998       -0.792870            -0.956399   \n",
       "\n",
       "       Avg_Utilization_Ratio  Gender_F  Gender_M  Marital_Status_Divorced  \\\n",
       "0                  -0.887260      True     False                    False   \n",
       "1                   1.660662     False      True                     True   \n",
       "2                  -0.887260     False      True                    False   \n",
       "3                   1.234825      True     False                     True   \n",
       "4                   1.025456      True     False                    False   \n",
       "...                      ...       ...       ...                      ...   \n",
       "11875              -0.887260      True     False                    False   \n",
       "11876              -0.887260      True     False                    False   \n",
       "11877              -0.576274     False      True                    False   \n",
       "11878               0.234086      True      True                    False   \n",
       "11879               0.317615     False      True                    False   \n",
       "\n",
       "       Marital_Status_Married  Marital_Status_Single  Marital_Status_Unknown  \n",
       "0                        True                  False                   False  \n",
       "1                       False                  False                   False  \n",
       "2                       False                   True                   False  \n",
       "3                       False                  False                   False  \n",
       "4                        True                  False                   False  \n",
       "...                       ...                    ...                     ...  \n",
       "11875                    True                   True                   False  \n",
       "11876                    True                   True                   False  \n",
       "11877                    True                   True                   False  \n",
       "11878                   False                   True                   False  \n",
       "11879                    True                   True                   False  \n",
       "\n",
       "[11880 rows x 23 columns]"
      ]
     },
     "execution_count": 102,
     "metadata": {},
     "output_type": "execute_result"
    }
   ],
   "source": [
    "# tạo hàm StandardScaler\n",
    "scaler = StandardScaler()\n",
    "\n",
    "# sử dụng hàm vào tệp dữ liệu train\n",
    "scaler.fit(X_train[num_col])\n",
    "\n",
    "# Transforming (standardize) the continuous features in the training and testing data\n",
    "X_train_cont_scaled = scaler.transform(X_train[num_col])\n",
    "X_test_cont_scaled = scaler.transform(X_test[num_col])\n",
    "\n",
    "# Replacing the scaled continuous features in the original data\n",
    "X_train[num_col] = X_train_cont_scaled\n",
    "X_test[num_col] = X_test_cont_scaled\n",
    "\n",
    "X_train"
   ]
  },
  {
   "cell_type": "markdown",
   "id": "8e387c4d",
   "metadata": {},
   "source": [
    "# 5. Huấn luyện mô hình và đánh giá mô hình\n",
    "Nhóm sẽ lựa chọn sử dụng 5 mô hình cho để huẩn luyện cho dataset này sau đó đánh giá độ chính xác của từng mô hình với biến dự đoán để chọn ra mô hình tốt nhất cho bài toán dự đoán khách hàng rời bỏ dịch vụ thẻ tín dụng của ngân hàng.\n",
    "5 mô hình nhóm lựa chọn bao gồm:\n",
    "- **Hồi quy tuyến tính đa biến (Linear Regression)**\n",
    "- **Hồi quy đa thức bậc 2 (Polynomial Regression)**\n",
    "- **Hồi quy Logistic (Logistic Regression)**\n",
    "- **K-Nearest Neighbors (KNN)**\n",
    "- **Cây quyết định (Decision Tree)**"
   ]
  },
  {
   "cell_type": "code",
   "execution_count": 92,
   "id": "db2d2d12",
   "metadata": {},
   "outputs": [],
   "source": [
    "# danh sách các mô hình hồi quy\n",
    "classifiers = {\n",
    "    \"Logistic Regression\": LogisticRegression(),\n",
    "    \"Decision Tree\": DecisionTreeClassifier(),\n",
    "    \"K-Nearest Neighbors\": KNeighborsClassifier(),\n",
    "    \"Linear Regression\": LinearRegression(),\n",
    "    \"Polynomial Regression\": PolynomialFeatures(degree=2)\n",
    "}"
   ]
  },
  {
   "cell_type": "markdown",
   "id": "125a35ca",
   "metadata": {},
   "source": [
    "## 5.1. Huấn luyện mô hình\n",
    "### Hồi quy tuyến tính đa biến (Linear Regression)\n",
    "Mô hình hồi quy tuyến tính chỉ sử dụng được cho các dữ liệu dạng số mà nhóm hướng đến sử dụng cả những dữ liệu phân loại (thường là dạng text), cho nên mô hình này là không phù hợp. Nhóm sẽ không sử dụng mô hình này cho tập data đã chọn."
   ]
  },
  {
   "cell_type": "code",
   "execution_count": 90,
   "id": "6a485527",
   "metadata": {},
   "outputs": [
    {
     "ename": "ValueError",
     "evalue": "Classification metrics can't handle a mix of binary and continuous targets",
     "output_type": "error",
     "traceback": [
      "\u001b[1;31m---------------------------------------------------------------------------\u001b[0m",
      "\u001b[1;31mValueError\u001b[0m                                Traceback (most recent call last)",
      "Cell \u001b[1;32mIn[90], line 8\u001b[0m\n\u001b[0;32m      4\u001b[0m y_pred \u001b[38;5;241m=\u001b[39m lr\u001b[38;5;241m.\u001b[39mpredict(X_test)\n\u001b[0;32m      6\u001b[0m \u001b[38;5;66;03m#f1 = f1_score(y_test, y_pred)\u001b[39;00m\n\u001b[1;32m----> 8\u001b[0m test_accuracy \u001b[38;5;241m=\u001b[39m accuracy_score(y_test, y_pred)\n\u001b[0;32m     10\u001b[0m \u001b[38;5;28mprint\u001b[39m(\u001b[38;5;124m'\u001b[39m\u001b[38;5;124mMô hình: Linear Regression\u001b[39m\u001b[38;5;124m'\u001b[39m)\n\u001b[0;32m     11\u001b[0m \u001b[38;5;28mprint\u001b[39m(\u001b[38;5;124mf\u001b[39m\u001b[38;5;124m'\u001b[39m\u001b[38;5;124mTraining Accuracy: \u001b[39m\u001b[38;5;132;01m{\u001b[39;00maccuracy_score(y_train,\u001b[38;5;250m \u001b[39mlr\u001b[38;5;241m.\u001b[39mpredict(X_train))\u001b[38;5;132;01m}\u001b[39;00m\u001b[38;5;124m'\u001b[39m)\n",
      "File \u001b[1;32m~\\miniconda3\\Lib\\site-packages\\sklearn\\utils\\_param_validation.py:214\u001b[0m, in \u001b[0;36mvalidate_params.<locals>.decorator.<locals>.wrapper\u001b[1;34m(*args, **kwargs)\u001b[0m\n\u001b[0;32m    208\u001b[0m \u001b[38;5;28;01mtry\u001b[39;00m:\n\u001b[0;32m    209\u001b[0m     \u001b[38;5;28;01mwith\u001b[39;00m config_context(\n\u001b[0;32m    210\u001b[0m         skip_parameter_validation\u001b[38;5;241m=\u001b[39m(\n\u001b[0;32m    211\u001b[0m             prefer_skip_nested_validation \u001b[38;5;129;01mor\u001b[39;00m global_skip_validation\n\u001b[0;32m    212\u001b[0m         )\n\u001b[0;32m    213\u001b[0m     ):\n\u001b[1;32m--> 214\u001b[0m         \u001b[38;5;28;01mreturn\u001b[39;00m func(\u001b[38;5;241m*\u001b[39margs, \u001b[38;5;241m*\u001b[39m\u001b[38;5;241m*\u001b[39mkwargs)\n\u001b[0;32m    215\u001b[0m \u001b[38;5;28;01mexcept\u001b[39;00m InvalidParameterError \u001b[38;5;28;01mas\u001b[39;00m e:\n\u001b[0;32m    216\u001b[0m     \u001b[38;5;66;03m# When the function is just a wrapper around an estimator, we allow\u001b[39;00m\n\u001b[0;32m    217\u001b[0m     \u001b[38;5;66;03m# the function to delegate validation to the estimator, but we replace\u001b[39;00m\n\u001b[0;32m    218\u001b[0m     \u001b[38;5;66;03m# the name of the estimator by the name of the function in the error\u001b[39;00m\n\u001b[0;32m    219\u001b[0m     \u001b[38;5;66;03m# message to avoid confusion.\u001b[39;00m\n\u001b[0;32m    220\u001b[0m     msg \u001b[38;5;241m=\u001b[39m re\u001b[38;5;241m.\u001b[39msub(\n\u001b[0;32m    221\u001b[0m         \u001b[38;5;124mr\u001b[39m\u001b[38;5;124m\"\u001b[39m\u001b[38;5;124mparameter of \u001b[39m\u001b[38;5;124m\\\u001b[39m\u001b[38;5;124mw+ must be\u001b[39m\u001b[38;5;124m\"\u001b[39m,\n\u001b[0;32m    222\u001b[0m         \u001b[38;5;124mf\u001b[39m\u001b[38;5;124m\"\u001b[39m\u001b[38;5;124mparameter of \u001b[39m\u001b[38;5;132;01m{\u001b[39;00mfunc\u001b[38;5;241m.\u001b[39m\u001b[38;5;18m__qualname__\u001b[39m\u001b[38;5;132;01m}\u001b[39;00m\u001b[38;5;124m must be\u001b[39m\u001b[38;5;124m\"\u001b[39m,\n\u001b[0;32m    223\u001b[0m         \u001b[38;5;28mstr\u001b[39m(e),\n\u001b[0;32m    224\u001b[0m     )\n",
      "File \u001b[1;32m~\\miniconda3\\Lib\\site-packages\\sklearn\\metrics\\_classification.py:220\u001b[0m, in \u001b[0;36maccuracy_score\u001b[1;34m(y_true, y_pred, normalize, sample_weight)\u001b[0m\n\u001b[0;32m    154\u001b[0m \u001b[38;5;250m\u001b[39m\u001b[38;5;124;03m\"\"\"Accuracy classification score.\u001b[39;00m\n\u001b[0;32m    155\u001b[0m \n\u001b[0;32m    156\u001b[0m \u001b[38;5;124;03mIn multilabel classification, this function computes subset accuracy:\u001b[39;00m\n\u001b[1;32m   (...)\u001b[0m\n\u001b[0;32m    216\u001b[0m \u001b[38;5;124;03m0.5\u001b[39;00m\n\u001b[0;32m    217\u001b[0m \u001b[38;5;124;03m\"\"\"\u001b[39;00m\n\u001b[0;32m    219\u001b[0m \u001b[38;5;66;03m# Compute accuracy for each possible representation\u001b[39;00m\n\u001b[1;32m--> 220\u001b[0m y_type, y_true, y_pred \u001b[38;5;241m=\u001b[39m _check_targets(y_true, y_pred)\n\u001b[0;32m    221\u001b[0m check_consistent_length(y_true, y_pred, sample_weight)\n\u001b[0;32m    222\u001b[0m \u001b[38;5;28;01mif\u001b[39;00m y_type\u001b[38;5;241m.\u001b[39mstartswith(\u001b[38;5;124m\"\u001b[39m\u001b[38;5;124mmultilabel\u001b[39m\u001b[38;5;124m\"\u001b[39m):\n",
      "File \u001b[1;32m~\\miniconda3\\Lib\\site-packages\\sklearn\\metrics\\_classification.py:93\u001b[0m, in \u001b[0;36m_check_targets\u001b[1;34m(y_true, y_pred)\u001b[0m\n\u001b[0;32m     90\u001b[0m     y_type \u001b[38;5;241m=\u001b[39m {\u001b[38;5;124m\"\u001b[39m\u001b[38;5;124mmulticlass\u001b[39m\u001b[38;5;124m\"\u001b[39m}\n\u001b[0;32m     92\u001b[0m \u001b[38;5;28;01mif\u001b[39;00m \u001b[38;5;28mlen\u001b[39m(y_type) \u001b[38;5;241m>\u001b[39m \u001b[38;5;241m1\u001b[39m:\n\u001b[1;32m---> 93\u001b[0m     \u001b[38;5;28;01mraise\u001b[39;00m \u001b[38;5;167;01mValueError\u001b[39;00m(\n\u001b[0;32m     94\u001b[0m         \u001b[38;5;124m\"\u001b[39m\u001b[38;5;124mClassification metrics can\u001b[39m\u001b[38;5;124m'\u001b[39m\u001b[38;5;124mt handle a mix of \u001b[39m\u001b[38;5;132;01m{0}\u001b[39;00m\u001b[38;5;124m and \u001b[39m\u001b[38;5;132;01m{1}\u001b[39;00m\u001b[38;5;124m targets\u001b[39m\u001b[38;5;124m\"\u001b[39m\u001b[38;5;241m.\u001b[39mformat(\n\u001b[0;32m     95\u001b[0m             type_true, type_pred\n\u001b[0;32m     96\u001b[0m         )\n\u001b[0;32m     97\u001b[0m     )\n\u001b[0;32m     99\u001b[0m \u001b[38;5;66;03m# We can't have more than one value on y_type => The set is no more needed\u001b[39;00m\n\u001b[0;32m    100\u001b[0m y_type \u001b[38;5;241m=\u001b[39m y_type\u001b[38;5;241m.\u001b[39mpop()\n",
      "\u001b[1;31mValueError\u001b[0m: Classification metrics can't handle a mix of binary and continuous targets"
     ]
    }
   ],
   "source": [
    "lr=LinearRegression()\n",
    "lr.fit(X_train, y_train)\n",
    "\n",
    "y_pred = lr.predict(X_test)\n",
    "\n",
    "f1 = f1_score(y_test, y_pred)\n",
    "\n",
    "test_accuracy = accuracy_score(y_test, y_pred)\n",
    "\n",
    "print('Mô hình: Linear Regression')\n",
    "print(f'Training Accuracy: {accuracy_score(y_train, lr.predict(X_train))}')\n",
    "print(f'Testing Accuracy: {accuracy_score(y_test, y_pred)}')\n",
    "print('------------------------------------------------------------------')\n",
    "print(f'Testing Confusion Matrix: \\n{confusion_matrix(y_test, y_pred)}')\n",
    "print('------------------------------------------------------------------')\n",
    "print(f'Testing Classification report:\\n{classification_report(y_test, y_pred)}')\n",
    "print('------------------------------------------------------------------')"
   ]
  },
  {
   "cell_type": "markdown",
   "id": "c0c4680c",
   "metadata": {},
   "source": [
    "Có thể thấy lỗi này xuất hiện khi cố gắng sử dụng mô hình hồi quy tuyến tính cho dữ liệu phân loại không có thứ bậc đã được chuyển về dạng mã nhị phân (True/False) ví dụ như 'Gender' và 'Marital Status'."
   ]
  },
  {
   "cell_type": "markdown",
   "id": "46366774",
   "metadata": {},
   "source": [
    "Loại bỏ mô hình hồi quy tuyến tính đa biến khỏi danh sách mô hình:"
   ]
  },
  {
   "cell_type": "code",
   "execution_count": 93,
   "id": "451520de",
   "metadata": {},
   "outputs": [
    {
     "name": "stdout",
     "output_type": "stream",
     "text": [
      "{'Logistic Regression': LogisticRegression(), 'Decision Tree': DecisionTreeClassifier(), 'K-Nearest Neighbors': KNeighborsClassifier(), 'Polynomial Regression': PolynomialFeatures()}\n"
     ]
    }
   ],
   "source": [
    "classifiers.pop('Linear Regression')\n",
    "print(classifiers)"
   ]
  },
  {
   "cell_type": "markdown",
   "id": "b4f0f365",
   "metadata": {},
   "source": [
    "### Hồi quy đa thức bậc 2 (Polynomial Regression)\n",
    "\n",
    "Nhóm tạo một mô hình Polynom2"
   ]
  },
  {
   "cell_type": "code",
   "execution_count": 96,
   "id": "a6420c2b",
   "metadata": {},
   "outputs": [],
   "source": [
    "pr=PolynomialFeatures(degree=2)\n",
    "X_pr=pr.fit_transform(X_train)"
   ]
  },
  {
   "cell_type": "code",
   "execution_count": 97,
   "id": "e9b840aa",
   "metadata": {},
   "outputs": [
    {
     "data": {
      "text/plain": [
       "(11880, 23)"
      ]
     },
     "execution_count": 97,
     "metadata": {},
     "output_type": "execute_result"
    }
   ],
   "source": [
    "X_train.shape"
   ]
  },
  {
   "cell_type": "markdown",
   "id": "7e67cb2a",
   "metadata": {},
   "source": [
    "Kích thước ban đầu của bộ dữ liệu bao gồm 23 features và 11880 samples dữ liệu."
   ]
  },
  {
   "cell_type": "code",
   "execution_count": 98,
   "id": "60af923d",
   "metadata": {},
   "outputs": [
    {
     "data": {
      "text/plain": [
       "(11880, 300)"
      ]
     },
     "execution_count": 98,
     "metadata": {},
     "output_type": "execute_result"
    }
   ],
   "source": [
    "X_pr.shape"
   ]
  },
  {
   "cell_type": "markdown",
   "id": "f47d6669",
   "metadata": {},
   "source": [
    "Sau khi biến đổi, của bộ dữ liệu mới bao gồm 300 features và 11880 samples dữ liệu."
   ]
  },
  {
   "cell_type": "markdown",
   "id": "c3ae990a",
   "metadata": {},
   "source": [
    "Sau đó, tạo một linear regression object để huấn luyện mô hình sử dụng bộ data được biến đổi."
   ]
  },
  {
   "cell_type": "code",
   "execution_count": 95,
   "id": "51b8b8cb",
   "metadata": {},
   "outputs": [
    {
     "ename": "ValueError",
     "evalue": "Classification metrics can't handle a mix of binary and continuous targets",
     "output_type": "error",
     "traceback": [
      "\u001b[1;31m---------------------------------------------------------------------------\u001b[0m",
      "\u001b[1;31mValueError\u001b[0m                                Traceback (most recent call last)",
      "Cell \u001b[1;32mIn[95], line 5\u001b[0m\n\u001b[0;32m      2\u001b[0m model\u001b[38;5;241m.\u001b[39mfit(X_pr,y_train)\n\u001b[0;32m      3\u001b[0m y_pred \u001b[38;5;241m=\u001b[39m lr\u001b[38;5;241m.\u001b[39mpredict(X_test)\n\u001b[1;32m----> 5\u001b[0m f1 \u001b[38;5;241m=\u001b[39m f1_score(y_test, y_pred)\n\u001b[0;32m      7\u001b[0m test_accuracy \u001b[38;5;241m=\u001b[39m accuracy_score(y_test, y_pred)\n\u001b[0;32m      9\u001b[0m \u001b[38;5;28mprint\u001b[39m(\u001b[38;5;124m'\u001b[39m\u001b[38;5;124mMô hình: Polynomial Regression\u001b[39m\u001b[38;5;124m'\u001b[39m)\n",
      "File \u001b[1;32m~\\miniconda3\\Lib\\site-packages\\sklearn\\utils\\_param_validation.py:214\u001b[0m, in \u001b[0;36mvalidate_params.<locals>.decorator.<locals>.wrapper\u001b[1;34m(*args, **kwargs)\u001b[0m\n\u001b[0;32m    208\u001b[0m \u001b[38;5;28;01mtry\u001b[39;00m:\n\u001b[0;32m    209\u001b[0m     \u001b[38;5;28;01mwith\u001b[39;00m config_context(\n\u001b[0;32m    210\u001b[0m         skip_parameter_validation\u001b[38;5;241m=\u001b[39m(\n\u001b[0;32m    211\u001b[0m             prefer_skip_nested_validation \u001b[38;5;129;01mor\u001b[39;00m global_skip_validation\n\u001b[0;32m    212\u001b[0m         )\n\u001b[0;32m    213\u001b[0m     ):\n\u001b[1;32m--> 214\u001b[0m         \u001b[38;5;28;01mreturn\u001b[39;00m func(\u001b[38;5;241m*\u001b[39margs, \u001b[38;5;241m*\u001b[39m\u001b[38;5;241m*\u001b[39mkwargs)\n\u001b[0;32m    215\u001b[0m \u001b[38;5;28;01mexcept\u001b[39;00m InvalidParameterError \u001b[38;5;28;01mas\u001b[39;00m e:\n\u001b[0;32m    216\u001b[0m     \u001b[38;5;66;03m# When the function is just a wrapper around an estimator, we allow\u001b[39;00m\n\u001b[0;32m    217\u001b[0m     \u001b[38;5;66;03m# the function to delegate validation to the estimator, but we replace\u001b[39;00m\n\u001b[0;32m    218\u001b[0m     \u001b[38;5;66;03m# the name of the estimator by the name of the function in the error\u001b[39;00m\n\u001b[0;32m    219\u001b[0m     \u001b[38;5;66;03m# message to avoid confusion.\u001b[39;00m\n\u001b[0;32m    220\u001b[0m     msg \u001b[38;5;241m=\u001b[39m re\u001b[38;5;241m.\u001b[39msub(\n\u001b[0;32m    221\u001b[0m         \u001b[38;5;124mr\u001b[39m\u001b[38;5;124m\"\u001b[39m\u001b[38;5;124mparameter of \u001b[39m\u001b[38;5;124m\\\u001b[39m\u001b[38;5;124mw+ must be\u001b[39m\u001b[38;5;124m\"\u001b[39m,\n\u001b[0;32m    222\u001b[0m         \u001b[38;5;124mf\u001b[39m\u001b[38;5;124m\"\u001b[39m\u001b[38;5;124mparameter of \u001b[39m\u001b[38;5;132;01m{\u001b[39;00mfunc\u001b[38;5;241m.\u001b[39m\u001b[38;5;18m__qualname__\u001b[39m\u001b[38;5;132;01m}\u001b[39;00m\u001b[38;5;124m must be\u001b[39m\u001b[38;5;124m\"\u001b[39m,\n\u001b[0;32m    223\u001b[0m         \u001b[38;5;28mstr\u001b[39m(e),\n\u001b[0;32m    224\u001b[0m     )\n",
      "File \u001b[1;32m~\\miniconda3\\Lib\\site-packages\\sklearn\\metrics\\_classification.py:1239\u001b[0m, in \u001b[0;36mf1_score\u001b[1;34m(y_true, y_pred, labels, pos_label, average, sample_weight, zero_division)\u001b[0m\n\u001b[0;32m   1070\u001b[0m \u001b[38;5;129m@validate_params\u001b[39m(\n\u001b[0;32m   1071\u001b[0m     {\n\u001b[0;32m   1072\u001b[0m         \u001b[38;5;124m\"\u001b[39m\u001b[38;5;124my_true\u001b[39m\u001b[38;5;124m\"\u001b[39m: [\u001b[38;5;124m\"\u001b[39m\u001b[38;5;124marray-like\u001b[39m\u001b[38;5;124m\"\u001b[39m, \u001b[38;5;124m\"\u001b[39m\u001b[38;5;124msparse matrix\u001b[39m\u001b[38;5;124m\"\u001b[39m],\n\u001b[1;32m   (...)\u001b[0m\n\u001b[0;32m   1097\u001b[0m     zero_division\u001b[38;5;241m=\u001b[39m\u001b[38;5;124m\"\u001b[39m\u001b[38;5;124mwarn\u001b[39m\u001b[38;5;124m\"\u001b[39m,\n\u001b[0;32m   1098\u001b[0m ):\n\u001b[0;32m   1099\u001b[0m \u001b[38;5;250m    \u001b[39m\u001b[38;5;124;03m\"\"\"Compute the F1 score, also known as balanced F-score or F-measure.\u001b[39;00m\n\u001b[0;32m   1100\u001b[0m \n\u001b[0;32m   1101\u001b[0m \u001b[38;5;124;03m    The F1 score can be interpreted as a harmonic mean of the precision and\u001b[39;00m\n\u001b[1;32m   (...)\u001b[0m\n\u001b[0;32m   1237\u001b[0m \u001b[38;5;124;03m    array([0.66666667, 1.        , 0.66666667])\u001b[39;00m\n\u001b[0;32m   1238\u001b[0m \u001b[38;5;124;03m    \"\"\"\u001b[39;00m\n\u001b[1;32m-> 1239\u001b[0m     \u001b[38;5;28;01mreturn\u001b[39;00m fbeta_score(\n\u001b[0;32m   1240\u001b[0m         y_true,\n\u001b[0;32m   1241\u001b[0m         y_pred,\n\u001b[0;32m   1242\u001b[0m         beta\u001b[38;5;241m=\u001b[39m\u001b[38;5;241m1\u001b[39m,\n\u001b[0;32m   1243\u001b[0m         labels\u001b[38;5;241m=\u001b[39mlabels,\n\u001b[0;32m   1244\u001b[0m         pos_label\u001b[38;5;241m=\u001b[39mpos_label,\n\u001b[0;32m   1245\u001b[0m         average\u001b[38;5;241m=\u001b[39maverage,\n\u001b[0;32m   1246\u001b[0m         sample_weight\u001b[38;5;241m=\u001b[39msample_weight,\n\u001b[0;32m   1247\u001b[0m         zero_division\u001b[38;5;241m=\u001b[39mzero_division,\n\u001b[0;32m   1248\u001b[0m     )\n",
      "File \u001b[1;32m~\\miniconda3\\Lib\\site-packages\\sklearn\\utils\\_param_validation.py:187\u001b[0m, in \u001b[0;36mvalidate_params.<locals>.decorator.<locals>.wrapper\u001b[1;34m(*args, **kwargs)\u001b[0m\n\u001b[0;32m    185\u001b[0m global_skip_validation \u001b[38;5;241m=\u001b[39m get_config()[\u001b[38;5;124m\"\u001b[39m\u001b[38;5;124mskip_parameter_validation\u001b[39m\u001b[38;5;124m\"\u001b[39m]\n\u001b[0;32m    186\u001b[0m \u001b[38;5;28;01mif\u001b[39;00m global_skip_validation:\n\u001b[1;32m--> 187\u001b[0m     \u001b[38;5;28;01mreturn\u001b[39;00m func(\u001b[38;5;241m*\u001b[39margs, \u001b[38;5;241m*\u001b[39m\u001b[38;5;241m*\u001b[39mkwargs)\n\u001b[0;32m    189\u001b[0m func_sig \u001b[38;5;241m=\u001b[39m signature(func)\n\u001b[0;32m    191\u001b[0m \u001b[38;5;66;03m# Map *args/**kwargs to the function signature\u001b[39;00m\n",
      "File \u001b[1;32m~\\miniconda3\\Lib\\site-packages\\sklearn\\metrics\\_classification.py:1413\u001b[0m, in \u001b[0;36mfbeta_score\u001b[1;34m(y_true, y_pred, beta, labels, pos_label, average, sample_weight, zero_division)\u001b[0m\n\u001b[0;32m   1251\u001b[0m \u001b[38;5;129m@validate_params\u001b[39m(\n\u001b[0;32m   1252\u001b[0m     {\n\u001b[0;32m   1253\u001b[0m         \u001b[38;5;124m\"\u001b[39m\u001b[38;5;124my_true\u001b[39m\u001b[38;5;124m\"\u001b[39m: [\u001b[38;5;124m\"\u001b[39m\u001b[38;5;124marray-like\u001b[39m\u001b[38;5;124m\"\u001b[39m, \u001b[38;5;124m\"\u001b[39m\u001b[38;5;124msparse matrix\u001b[39m\u001b[38;5;124m\"\u001b[39m],\n\u001b[1;32m   (...)\u001b[0m\n\u001b[0;32m   1280\u001b[0m     zero_division\u001b[38;5;241m=\u001b[39m\u001b[38;5;124m\"\u001b[39m\u001b[38;5;124mwarn\u001b[39m\u001b[38;5;124m\"\u001b[39m,\n\u001b[0;32m   1281\u001b[0m ):\n\u001b[0;32m   1282\u001b[0m \u001b[38;5;250m    \u001b[39m\u001b[38;5;124;03m\"\"\"Compute the F-beta score.\u001b[39;00m\n\u001b[0;32m   1283\u001b[0m \n\u001b[0;32m   1284\u001b[0m \u001b[38;5;124;03m    The F-beta score is the weighted harmonic mean of precision and recall,\u001b[39;00m\n\u001b[1;32m   (...)\u001b[0m\n\u001b[0;32m   1410\u001b[0m \u001b[38;5;124;03m    0.38...\u001b[39;00m\n\u001b[0;32m   1411\u001b[0m \u001b[38;5;124;03m    \"\"\"\u001b[39;00m\n\u001b[1;32m-> 1413\u001b[0m     _, _, f, _ \u001b[38;5;241m=\u001b[39m precision_recall_fscore_support(\n\u001b[0;32m   1414\u001b[0m         y_true,\n\u001b[0;32m   1415\u001b[0m         y_pred,\n\u001b[0;32m   1416\u001b[0m         beta\u001b[38;5;241m=\u001b[39mbeta,\n\u001b[0;32m   1417\u001b[0m         labels\u001b[38;5;241m=\u001b[39mlabels,\n\u001b[0;32m   1418\u001b[0m         pos_label\u001b[38;5;241m=\u001b[39mpos_label,\n\u001b[0;32m   1419\u001b[0m         average\u001b[38;5;241m=\u001b[39maverage,\n\u001b[0;32m   1420\u001b[0m         warn_for\u001b[38;5;241m=\u001b[39m(\u001b[38;5;124m\"\u001b[39m\u001b[38;5;124mf-score\u001b[39m\u001b[38;5;124m\"\u001b[39m,),\n\u001b[0;32m   1421\u001b[0m         sample_weight\u001b[38;5;241m=\u001b[39msample_weight,\n\u001b[0;32m   1422\u001b[0m         zero_division\u001b[38;5;241m=\u001b[39mzero_division,\n\u001b[0;32m   1423\u001b[0m     )\n\u001b[0;32m   1424\u001b[0m     \u001b[38;5;28;01mreturn\u001b[39;00m f\n",
      "File \u001b[1;32m~\\miniconda3\\Lib\\site-packages\\sklearn\\utils\\_param_validation.py:187\u001b[0m, in \u001b[0;36mvalidate_params.<locals>.decorator.<locals>.wrapper\u001b[1;34m(*args, **kwargs)\u001b[0m\n\u001b[0;32m    185\u001b[0m global_skip_validation \u001b[38;5;241m=\u001b[39m get_config()[\u001b[38;5;124m\"\u001b[39m\u001b[38;5;124mskip_parameter_validation\u001b[39m\u001b[38;5;124m\"\u001b[39m]\n\u001b[0;32m    186\u001b[0m \u001b[38;5;28;01mif\u001b[39;00m global_skip_validation:\n\u001b[1;32m--> 187\u001b[0m     \u001b[38;5;28;01mreturn\u001b[39;00m func(\u001b[38;5;241m*\u001b[39margs, \u001b[38;5;241m*\u001b[39m\u001b[38;5;241m*\u001b[39mkwargs)\n\u001b[0;32m    189\u001b[0m func_sig \u001b[38;5;241m=\u001b[39m signature(func)\n\u001b[0;32m    191\u001b[0m \u001b[38;5;66;03m# Map *args/**kwargs to the function signature\u001b[39;00m\n",
      "File \u001b[1;32m~\\miniconda3\\Lib\\site-packages\\sklearn\\metrics\\_classification.py:1724\u001b[0m, in \u001b[0;36mprecision_recall_fscore_support\u001b[1;34m(y_true, y_pred, beta, labels, pos_label, average, warn_for, sample_weight, zero_division)\u001b[0m\n\u001b[0;32m   1566\u001b[0m \u001b[38;5;250m\u001b[39m\u001b[38;5;124;03m\"\"\"Compute precision, recall, F-measure and support for each class.\u001b[39;00m\n\u001b[0;32m   1567\u001b[0m \n\u001b[0;32m   1568\u001b[0m \u001b[38;5;124;03mThe precision is the ratio ``tp / (tp + fp)`` where ``tp`` is the number of\u001b[39;00m\n\u001b[1;32m   (...)\u001b[0m\n\u001b[0;32m   1721\u001b[0m \u001b[38;5;124;03m array([2, 2, 2]))\u001b[39;00m\n\u001b[0;32m   1722\u001b[0m \u001b[38;5;124;03m\"\"\"\u001b[39;00m\n\u001b[0;32m   1723\u001b[0m zero_division_value \u001b[38;5;241m=\u001b[39m _check_zero_division(zero_division)\n\u001b[1;32m-> 1724\u001b[0m labels \u001b[38;5;241m=\u001b[39m _check_set_wise_labels(y_true, y_pred, average, labels, pos_label)\n\u001b[0;32m   1726\u001b[0m \u001b[38;5;66;03m# Calculate tp_sum, pred_sum, true_sum ###\u001b[39;00m\n\u001b[0;32m   1727\u001b[0m samplewise \u001b[38;5;241m=\u001b[39m average \u001b[38;5;241m==\u001b[39m \u001b[38;5;124m\"\u001b[39m\u001b[38;5;124msamples\u001b[39m\u001b[38;5;124m\"\u001b[39m\n",
      "File \u001b[1;32m~\\miniconda3\\Lib\\site-packages\\sklearn\\metrics\\_classification.py:1501\u001b[0m, in \u001b[0;36m_check_set_wise_labels\u001b[1;34m(y_true, y_pred, average, labels, pos_label)\u001b[0m\n\u001b[0;32m   1498\u001b[0m \u001b[38;5;28;01mif\u001b[39;00m average \u001b[38;5;129;01mnot\u001b[39;00m \u001b[38;5;129;01min\u001b[39;00m average_options \u001b[38;5;129;01mand\u001b[39;00m average \u001b[38;5;241m!=\u001b[39m \u001b[38;5;124m\"\u001b[39m\u001b[38;5;124mbinary\u001b[39m\u001b[38;5;124m\"\u001b[39m:\n\u001b[0;32m   1499\u001b[0m     \u001b[38;5;28;01mraise\u001b[39;00m \u001b[38;5;167;01mValueError\u001b[39;00m(\u001b[38;5;124m\"\u001b[39m\u001b[38;5;124maverage has to be one of \u001b[39m\u001b[38;5;124m\"\u001b[39m \u001b[38;5;241m+\u001b[39m \u001b[38;5;28mstr\u001b[39m(average_options))\n\u001b[1;32m-> 1501\u001b[0m y_type, y_true, y_pred \u001b[38;5;241m=\u001b[39m _check_targets(y_true, y_pred)\n\u001b[0;32m   1502\u001b[0m \u001b[38;5;66;03m# Convert to Python primitive type to avoid NumPy type / Python str\u001b[39;00m\n\u001b[0;32m   1503\u001b[0m \u001b[38;5;66;03m# comparison. See https://github.com/numpy/numpy/issues/6784\u001b[39;00m\n\u001b[0;32m   1504\u001b[0m present_labels \u001b[38;5;241m=\u001b[39m unique_labels(y_true, y_pred)\u001b[38;5;241m.\u001b[39mtolist()\n",
      "File \u001b[1;32m~\\miniconda3\\Lib\\site-packages\\sklearn\\metrics\\_classification.py:93\u001b[0m, in \u001b[0;36m_check_targets\u001b[1;34m(y_true, y_pred)\u001b[0m\n\u001b[0;32m     90\u001b[0m     y_type \u001b[38;5;241m=\u001b[39m {\u001b[38;5;124m\"\u001b[39m\u001b[38;5;124mmulticlass\u001b[39m\u001b[38;5;124m\"\u001b[39m}\n\u001b[0;32m     92\u001b[0m \u001b[38;5;28;01mif\u001b[39;00m \u001b[38;5;28mlen\u001b[39m(y_type) \u001b[38;5;241m>\u001b[39m \u001b[38;5;241m1\u001b[39m:\n\u001b[1;32m---> 93\u001b[0m     \u001b[38;5;28;01mraise\u001b[39;00m \u001b[38;5;167;01mValueError\u001b[39;00m(\n\u001b[0;32m     94\u001b[0m         \u001b[38;5;124m\"\u001b[39m\u001b[38;5;124mClassification metrics can\u001b[39m\u001b[38;5;124m'\u001b[39m\u001b[38;5;124mt handle a mix of \u001b[39m\u001b[38;5;132;01m{0}\u001b[39;00m\u001b[38;5;124m and \u001b[39m\u001b[38;5;132;01m{1}\u001b[39;00m\u001b[38;5;124m targets\u001b[39m\u001b[38;5;124m\"\u001b[39m\u001b[38;5;241m.\u001b[39mformat(\n\u001b[0;32m     95\u001b[0m             type_true, type_pred\n\u001b[0;32m     96\u001b[0m         )\n\u001b[0;32m     97\u001b[0m     )\n\u001b[0;32m     99\u001b[0m \u001b[38;5;66;03m# We can't have more than one value on y_type => The set is no more needed\u001b[39;00m\n\u001b[0;32m    100\u001b[0m y_type \u001b[38;5;241m=\u001b[39m y_type\u001b[38;5;241m.\u001b[39mpop()\n",
      "\u001b[1;31mValueError\u001b[0m: Classification metrics can't handle a mix of binary and continuous targets"
     ]
    }
   ],
   "source": [
    "model=LinearRegression()\n",
    "model.fit(X_pr,y_train)\n",
    "y_pred = lr.predict(X_test)\n",
    "\n",
    "f1 = f1_score(y_test, y_pred)\n",
    "\n",
    "test_accuracy = accuracy_score(y_test, y_pred)\n",
    "\n",
    "print('Mô hình: Polynomial Regression')\n",
    "print(f'Training Accuracy: {accuracy_score(y_train, lr.predict(X_pr))}')\n",
    "print(f'Testing Accuracy: {accuracy_score(y_test, y_pred)}')\n",
    "print('------------------------------------------------------------------')\n",
    "print(f'Testing Confusion Matrix: \\n{confusion_matrix(y_test, y_pred)}')\n",
    "print('------------------------------------------------------------------')\n",
    "print(f'Testing Classification report:\\n{classification_report(y_test, y_pred)}')\n",
    "print('------------------------------------------------------------------')"
   ]
  },
  {
   "cell_type": "markdown",
   "id": "9d4397d3",
   "metadata": {},
   "source": [
    "Mô hình hồi quy đa thức bậc 2 sẽ biến đổi tập dữ liệu rồi huấn luyện mô hình bằng **Linear Regression** mà Linear Regression chỉ sử dụng được cho các dữ liệu dạng số mà nhóm hướng đến sử dụng cả những dữ liệu phân loại (thường là dạng text), cho nên mô hình này là không phù hợp. Nhóm sẽ không sử dụng mô hình này cho tập data đã chọn. Khi sử dụng **Polynom2** thì nhóm gặp phải lỗi như khi sử dụng **Linear Regression**."
   ]
  },
  {
   "cell_type": "markdown",
   "id": "b3ef6a10",
   "metadata": {},
   "source": [
    "Loại bỏ mô hình hồi quy đa thức bậc 2 khỏi danh sách mô hình:"
   ]
  },
  {
   "cell_type": "code",
   "execution_count": 100,
   "id": "6168d48e",
   "metadata": {},
   "outputs": [
    {
     "name": "stdout",
     "output_type": "stream",
     "text": [
      "{'Logistic Regression': LogisticRegression(), 'Decision Tree': DecisionTreeClassifier(), 'K-Nearest Neighbors': KNeighborsClassifier()}\n"
     ]
    }
   ],
   "source": [
    "classifiers.pop('Polynomial Regression')\n",
    "print(classifiers)"
   ]
  },
  {
   "cell_type": "markdown",
   "id": "efc75b52",
   "metadata": {},
   "source": [
    "### Hồi quy Logistic (Logistic Regression)\n",
    "\n",
    "Hồi quy logistic là một trong những thuật toán Machine Learning đơn giản và được sử dụng phổ biến nhất cho các bài toán phân loạn 2 lớp. Nó rất dễ thực hiện và có thể được sử dụng làm mô hình cơ sở cho bất kỳ bài toán phân loại nhị phân nào.\n",
    "\n",
    "Hồi quy logistic có thể được sử dụng cho các vấn đề phân loại khác nhau như phát hiện thư rác, dự đoán bệnh, dự đoán khách hàng rời bỏ, dự đoạn xác suất sử dụng dịch vụ của khách hàng."
   ]
  },
  {
   "cell_type": "code",
   "execution_count": 106,
   "id": "e8b14dc9",
   "metadata": {},
   "outputs": [
    {
     "name": "stdout",
     "output_type": "stream",
     "text": [
      "Mô hình: Logistic Regression\n",
      "Training Accuracy: 0.9190235690235691\n",
      "Testing Accuracy: 0.8797289666854884\n",
      "------------------------------------------------------------------\n",
      "Testing Confusion Matrix: \n",
      "[[1372  136]\n",
      " [  77  186]]\n",
      "------------------------------------------------------------------\n",
      "Testing Classification report:\n",
      "              precision    recall  f1-score   support\n",
      "\n",
      "           0       0.95      0.91      0.93      1508\n",
      "           1       0.58      0.71      0.64       263\n",
      "\n",
      "    accuracy                           0.88      1771\n",
      "   macro avg       0.76      0.81      0.78      1771\n",
      "weighted avg       0.89      0.88      0.88      1771\n",
      "\n",
      "------------------------------------------------------------------\n"
     ]
    }
   ],
   "source": [
    "logreg = LogisticRegression()\n",
    "\n",
    "logreg.fit(X_train,y_train)\n",
    "\n",
    "y_pred=logreg.predict(X_test)\n",
    "\n",
    "f1 = f1_score(y_test, y_pred)\n",
    "\n",
    "test_accuracy = accuracy_score(y_test, y_pred)\n",
    "\n",
    "print('Mô hình: Logistic Regression')\n",
    "print(f'Training Accuracy: {accuracy_score(y_train, logreg.predict(X_train))}')\n",
    "print(f'Testing Accuracy: {accuracy_score(y_test, y_pred)}')\n",
    "print('------------------------------------------------------------------')\n",
    "print(f'Testing Confusion Matrix: \\n{confusion_matrix(y_test, y_pred)}')\n",
    "print('------------------------------------------------------------------')\n",
    "print(f'Testing Classification report:\\n{classification_report(y_test, y_pred)}')\n",
    "print('------------------------------------------------------------------')"
   ]
  },
  {
   "cell_type": "markdown",
   "id": "743b86e5",
   "metadata": {},
   "source": [
    "Độ chính xác của mô hình với tập huấn luyện là: 91.902%\n",
    "\n",
    "Độ chính xác của mô hình với tập kiểm tra là: 87.973%\n",
    "\n",
    "**Precision**: có nghĩa là độ chính xác, tức là mô hình chính xác đến mức nào. Nói cách khác, khi một mô hình đưa ra dự đoán, mức độ thường xuyên dự đoán đó đúng. Trong bài toán này, khi mô hình Hồi quy Logistic dự đoán khách hàng sẽ rời bỏ dịch vụ, thì có tới 58% trường hợp dự đoán chính xác là sẽ rời bỏ dịch vụ.\n",
    "\n",
    "**Recall**: Mô hình chỉ có thể dự đoán chính xác được 71% số khách hàng rời bỏ dịch vụ trong bộ data set. Còn 30% còn lại mô hình dự đoán sai khi dự đoán khách hàng vẫn tiếp tục dịch vụ, nhưng thực tế số liệu ghi nhận trong tập test cho rằng khách hàng không còn dùng dịch vụ.\n",
    "\n",
    "**F1 Score** là trung bình điều hòa giữa precision và recall. Do đó nó đại diện hơn trong việc đánh giá độ chính xác trên đồng thời precision và recall. Nhóm sẽ dựa chủ yếu là **F1 score** để lụa chọn mô hình phù hợp nhất cho bài toán. Hồi quy Logistic có F1 score là 88%.\n",
    "\n",
    "Từ các khía cạnh trên, có thể đánh giá mô hình Hồi quy Logistic dự đoán khá tốt khách hàng có rời bỏ dịch vụ thẻ tín dụng của ngân hàng hay không."
   ]
  },
  {
   "cell_type": "markdown",
   "id": "3a35a207",
   "metadata": {},
   "source": [
    "### K-Nearest Neighbors (KNN)\n",
    "Thuật toán **KNN** cho rằng những dữ liệu tương tự nhau sẽ tồn tại gần nhau trong một không gian, từ đó công việc của chúng ta là sẽ tìm k điểm gần với dữ liệu cần kiểm tra nhất. Việc tìm khoảng cách giữa 2 điểm củng có nhiều công thức có thể sử dụng, tùy trường hợp mà chúng ta lựa chọn cho phù hợp. \n",
    "\n",
    "Đây là 3 cách cơ bản để tính khoảng cách 2 điểm dữ liệu x, y có k thuộc tính:\n",
    "\n",
    "![!](\\Users\\Admin\\1.png)"
   ]
  },
  {
   "cell_type": "code",
   "execution_count": 107,
   "id": "422132fb",
   "metadata": {},
   "outputs": [
    {
     "name": "stdout",
     "output_type": "stream",
     "text": [
      "Mô hình: K-Nearest Neighbors\n",
      "Training Accuracy: 0.9618686868686869\n",
      "Testing Accuracy: 0.88085827216262\n",
      "------------------------------------------------------------------\n",
      "Testing Confusion Matrix: \n",
      "[[1349  159]\n",
      " [  52  211]]\n",
      "------------------------------------------------------------------\n",
      "Testing Classification report:\n",
      "              precision    recall  f1-score   support\n",
      "\n",
      "           0       0.96      0.89      0.93      1508\n",
      "           1       0.57      0.80      0.67       263\n",
      "\n",
      "    accuracy                           0.88      1771\n",
      "   macro avg       0.77      0.85      0.80      1771\n",
      "weighted avg       0.90      0.88      0.89      1771\n",
      "\n",
      "------------------------------------------------------------------\n"
     ]
    }
   ],
   "source": [
    "knn=KNeighborsClassifier()\n",
    "knn.fit(X_train,y_train)\n",
    "\n",
    "y_pred=knn.predict(X_test)\n",
    "\n",
    "f1 = f1_score(y_test, y_pred)\n",
    "\n",
    "test_accuracy = accuracy_score(y_test, y_pred)\n",
    "\n",
    "print('Mô hình: K-Nearest Neighbors')\n",
    "print(f'Training Accuracy: {accuracy_score(y_train, knn.predict(X_train))}')\n",
    "print(f'Testing Accuracy: {accuracy_score(y_test, y_pred)}')\n",
    "print('------------------------------------------------------------------')\n",
    "print(f'Testing Confusion Matrix: \\n{confusion_matrix(y_test, y_pred)}')\n",
    "print('------------------------------------------------------------------')\n",
    "print(f'Testing Classification report:\\n{classification_report(y_test, y_pred)}')\n",
    "print('------------------------------------------------------------------')"
   ]
  },
  {
   "cell_type": "markdown",
   "id": "31df6f62",
   "metadata": {},
   "source": [
    "Độ chính xác của mô hình với tập huấn luyện là: 96.187%\n",
    "\n",
    "Độ chính xác của mô hình với tập kiểm tra là: 88.086%\n",
    "\n",
    "**Precision**: có nghĩa là độ chính xác, tức là mô hình chính xác đến mức nào. Nói cách khác, khi một mô hình đưa ra dự đoán, mức độ thường xuyên dự đoán đó đúng. Trong bài toán này, khi mô hình Hồi quy Logistic dự đoán khách hàng sẽ rời bỏ dịch vụ, thì có tới 57% trường hợp dự đoán chính xác là sẽ rời bỏ dịch vụ.\n",
    "\n",
    "**Recall**: Mô hình chỉ có thể dự đoán chính xác được 80% số khách hàng rời bỏ dịch vụ trong bộ data set. Còn 20% còn lại mô hình dự đoán sai khi dự đoán khách hàng vẫn tiếp tục dịch vụ, nhưng thực tế số liệu ghi nhận trong tập test cho rằng khách hàng không còn dùng dịch vụ.\n",
    "\n",
    "**F1 Score** là trung bình điều hòa giữa precision và recall. Do đó nó đại diện hơn trong việc đánh giá độ chính xác trên đồng thời precision và recall. Mô hình K-Nearest Neighbors có F1 score là 88%.\n",
    "\n",
    "Từ các khía cạnh trên, có thể đánh giá mô hình **K-Nearest Neighbors** dự đoán khá tốt (tốt hơn Hồi quy Logistic) khách hàng có rời bỏ dịch vụ thẻ tín dụng của ngân hàng hay không."
   ]
  },
  {
   "cell_type": "markdown",
   "id": "6b2d2e7c",
   "metadata": {},
   "source": [
    "### Cây quyết định (Decision Tree)\n",
    "\n",
    "Mô hình **cây quyết định** là một mô hình được sử dụng khá phổ biến và hiệu quả trong cả hai lớp bài toán phân loại và dự báo của học có giám sát. Khác với những thuật toán khác trong học có giám sát, mô hình cây quyết định không tồn tại phương trình dự báo. Mọi việc chúng ta cần thực hiện đó là tìm ra một cây quyết định dự báo tốt trên tập huấn luyện và sử dụng cây quyết định này dự báo trên tập kiểm tra.\n",
    "\n",
    "![!](\\Users\\Admin\\2.png)"
   ]
  },
  {
   "cell_type": "code",
   "execution_count": 108,
   "id": "1ab72139",
   "metadata": {},
   "outputs": [
    {
     "name": "stdout",
     "output_type": "stream",
     "text": [
      "Mô hình: K-Nearest Neighbors\n",
      "Training Accuracy: 1.0\n",
      "Testing Accuracy: 0.9384528514963297\n",
      "------------------------------------------------------------------\n",
      "Testing Confusion Matrix: \n",
      "[[1442   66]\n",
      " [  43  220]]\n",
      "------------------------------------------------------------------\n",
      "Testing Classification report:\n",
      "              precision    recall  f1-score   support\n",
      "\n",
      "           0       0.97      0.96      0.96      1508\n",
      "           1       0.77      0.84      0.80       263\n",
      "\n",
      "    accuracy                           0.94      1771\n",
      "   macro avg       0.87      0.90      0.88      1771\n",
      "weighted avg       0.94      0.94      0.94      1771\n",
      "\n",
      "------------------------------------------------------------------\n"
     ]
    }
   ],
   "source": [
    "dtc=DecisionTreeClassifier()\n",
    "dtc.fit(X_train,y_train)\n",
    "\n",
    "y_pred=dtc.predict(X_test)\n",
    "\n",
    "f1 = f1_score(y_test, y_pred)\n",
    "\n",
    "test_accuracy = accuracy_score(y_test, y_pred)\n",
    "\n",
    "print('Mô hình: K-Nearest Neighbors')\n",
    "print(f'Training Accuracy: {accuracy_score(y_train, dtc.predict(X_train))}')\n",
    "print(f'Testing Accuracy: {accuracy_score(y_test, y_pred)}')\n",
    "print('------------------------------------------------------------------')\n",
    "print(f'Testing Confusion Matrix: \\n{confusion_matrix(y_test, y_pred)}')\n",
    "print('------------------------------------------------------------------')\n",
    "print(f'Testing Classification report:\\n{classification_report(y_test, y_pred)}')\n",
    "print('------------------------------------------------------------------')"
   ]
  },
  {
   "cell_type": "markdown",
   "id": "da9cd36b",
   "metadata": {},
   "source": [
    "Độ chính xác của mô hình với tập huấn luyện là: 100%\n",
    "\n",
    "Độ chính xác của mô hình với tập kiểm tra là: 93.845%\n",
    "\n",
    "**Precision**: có nghĩa là độ chính xác, tức là mô hình chính xác đến mức nào. Nói cách khác, khi một mô hình đưa ra dự đoán, mức độ thường xuyên dự đoán đó đúng. Trong bài toán này, khi mô hình Hồi quy Logistic dự đoán khách hàng sẽ rời bỏ dịch vụ, thì có tới 77% trường hợp dự đoán chính xác là sẽ rời bỏ dịch vụ.\n",
    "\n",
    "**Recall**: Mô hình chỉ có thể dự đoán chính xác được 84% số khách hàng rời bỏ dịch vụ trong bộ data set. Còn 16% còn lại mô hình dự đoán sai khi dự đoán khách hàng vẫn tiếp tục dịch vụ, nhưng thực tế số liệu ghi nhận trong tập test cho rằng khách hàng không còn dùng dịch vụ.\n",
    "\n",
    "**F1 Score** là trung bình điều hòa giữa precision và recall. Do đó nó đại diện hơn trong việc đánh giá độ chính xác trên đồng thời precision và recall. Mô hình **Cây quyết định (Decision Tree)** có F1 score là 94%.\n",
    "\n",
    "Từ các khía cạnh trên, có thể đánh giá mô hình **Decision Tree** dự đoán tốt (tốt hơn Hồi quy Logistic và K-Nearest Neighbors) khách hàng có rời bỏ dịch vụ thẻ tín dụng của ngân hàng hay không."
   ]
  },
  {
   "cell_type": "markdown",
   "id": "cd70996e",
   "metadata": {},
   "source": [
    "## 5.2. So sánh các mô hình\n"
   ]
  },
  {
   "cell_type": "code",
   "execution_count": 112,
   "id": "969bf879",
   "metadata": {},
   "outputs": [
    {
     "name": "stderr",
     "output_type": "stream",
     "text": [
      "C:\\Users\\Admin\\AppData\\Local\\Temp\\ipykernel_5864\\109583536.py:20: FutureWarning: \n",
      "\n",
      "Passing `palette` without assigning `hue` is deprecated and will be removed in v0.14.0. Assign the `y` variable to `hue` and set `legend=False` for the same effect.\n",
      "\n"
     ]
    },
    {
     "data": {
      "text/plain": [
       "Text(0, 0.5, 'Classifier')"
      ]
     },
     "execution_count": 112,
     "metadata": {},
     "output_type": "execute_result"
    },
    {
     "data": {
      "image/png": "[encoded data removed]",
      "text/plain": [
       "<Figure size 900x500 with 1 Axes>"
      ]
     },
     "metadata": {},
     "output_type": "display_data"
    }
   ],
   "source": [
    "classifier_names = []\n",
    "test_accuracy_scores = []\n",
    "f1_scores = []\n",
    "\n",
    "for name, model in classifiers.items():\n",
    "    model.fit(X_train, y_train)\n",
    "    y_pred = model.predict(X_test)  \n",
    "    classifier_names.append(name)\n",
    "    f1 = f1_score(y_test, y_pred)\n",
    "    f1_scores.append(f1)\n",
    "    test_accuracy = accuracy_score(y_test, y_pred)\n",
    "    test_accuracy_scores.append(test_accuracy)\n",
    "data = pd.DataFrame({'Classifier': classifier_names, 'Test Accuracy': test_accuracy_scores})\n",
    "\n",
    "# Sortiere das DataFrame nach  'Test Accuracy' in absteigender Reihenfolge\n",
    "data = data.sort_values(by='Test Accuracy', ascending=False)\n",
    "\n",
    "# Erstelle ein horizontales Balkendiagramm mit Seaborn\n",
    "plt.figure(figsize=(9, 5))\n",
    "ax = sns.barplot(data=data, x='Test Accuracy', y='Classifier', palette='viridis')\n",
    "plt.title('Test Accuracy Scores by Classifiers')\n",
    "plt.xlabel('Test Accuracy')\n",
    "plt.ylabel('Classifier')\n"
   ]
  },
  {
   "cell_type": "code",
   "execution_count": null,
   "id": "e9f75eb6",
   "metadata": {},
   "outputs": [],
   "source": []
  },
  {
   "cell_type": "code",
   "execution_count": null,
   "id": "92134c42",
   "metadata": {},
   "outputs": [],
   "source": []
  }
 ],
 "metadata": {
  "kernelspec": {
   "display_name": "Python 3 (ipykernel)",
   "language": "python",
   "name": "python3"
  },
  "language_info": {
   "codemirror_mode": {
    "name": "ipython",
    "version": 3
   },
   "file_extension": ".py",
   "mimetype": "text/x-python",
   "name": "python",
   "nbconvert_exporter": "python",
   "pygments_lexer": "ipython3",
   "version": "3.11.5"
  }
 },
 "nbformat": 4,
 "nbformat_minor": 5
}
