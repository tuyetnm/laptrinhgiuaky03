{
 "cells": [
  {
   "cell_type": "markdown",
   "id": "63553332",
   "metadata": {},
   "source": [
    "# Import thư viện"
   ]
  },
  {
   "cell_type": "code",
   "execution_count": 73,
   "id": "db365cb0",
   "metadata": {},
   "outputs": [],
   "source": [
    "import numpy as np \n",
    "import pandas as pd \n",
    "\n",
    "from collections import Counter\n",
    "from scipy import stats\n",
    "\n",
    "from sklearn.preprocessing import OneHotEncoder\n",
    "from sklearn.model_selection import train_test_split\n",
    "import imblearn\n",
    "\n",
    "import statsmodels.api as sm\n",
    "import statsmodels.formula.api as smf\n",
    "from sklearn.linear_model import LogisticRegression\n",
    "from sklearn.neighbors import KNeighborsClassifier\n",
    "from sklearn.svm import SVC\n",
    "from sklearn.naive_bayes import GaussianNB\n",
    "from sklearn.tree import DecisionTreeClassifier\n",
    "from sklearn.ensemble import RandomForestClassifier, AdaBoostClassifier, GradientBoostingClassifier\n",
    "from sklearn.feature_selection import SequentialFeatureSelector, SelectKBest, f_regression, RFE, SelectFromModel\n",
    "from sklearn.metrics import roc_curve, roc_auc_score\n",
    "from sklearn.metrics import precision_recall_curve\n",
    "from sklearn.metrics import confusion_matrix, ConfusionMatrixDisplay\n",
    "from sklearn.metrics import accuracy_score, precision_score, recall_score, f1_score\n",
    "from sklearn.preprocessing import StandardScaler, OneHotEncoder, RobustScaler\n",
    "import matplotlib\n",
    "from imblearn.pipeline import Pipeline \n",
    "import matplotlib.pyplot as plt\n",
    "matplotlib.style.use('tableau-colorblind10')\n",
    "import seaborn as sns\n",
    "from plotnine import *\n",
    "import plotly.graph_objects as go\n",
    "import plotly.express as px\n",
    "from imblearn.over_sampling import SMOTE\n",
    "import lightgbm as lgb\n",
    "import xgboost as xgb\n",
    "from sklearn.model_selection import GridSearchCV"
   ]
  },
  {
   "cell_type": "markdown",
   "id": "76464d8f",
   "metadata": {},
   "source": [
    "# Loading data"
   ]
  },
  {
   "cell_type": "code",
   "execution_count": 39,
   "id": "8d0bf3ac",
   "metadata": {},
   "outputs": [
    {
     "data": {
      "text/html": [
       "<div>\n",
       "<style scoped>\n",
       "    .dataframe tbody tr th:only-of-type {\n",
       "        vertical-align: middle;\n",
       "    }\n",
       "\n",
       "    .dataframe tbody tr th {\n",
       "        vertical-align: top;\n",
       "    }\n",
       "\n",
       "    .dataframe thead th {\n",
       "        text-align: right;\n",
       "    }\n",
       "</style>\n",
       "<table border=\"1\" class=\"dataframe\">\n",
       "  <thead>\n",
       "    <tr style=\"text-align: right;\">\n",
       "      <th></th>\n",
       "      <th>CLIENTNUM</th>\n",
       "      <th>Attrition_Flag</th>\n",
       "      <th>Customer_Age</th>\n",
       "      <th>Gender</th>\n",
       "      <th>Dependent_count</th>\n",
       "      <th>Education_Level</th>\n",
       "      <th>Marital_Status</th>\n",
       "      <th>Income_Category</th>\n",
       "      <th>Card_Category</th>\n",
       "      <th>Months_on_book</th>\n",
       "      <th>...</th>\n",
       "      <th>Credit_Limit</th>\n",
       "      <th>Total_Revolving_Bal</th>\n",
       "      <th>Avg_Open_To_Buy</th>\n",
       "      <th>Total_Amt_Chng_Q4_Q1</th>\n",
       "      <th>Total_Trans_Amt</th>\n",
       "      <th>Total_Trans_Ct</th>\n",
       "      <th>Total_Ct_Chng_Q4_Q1</th>\n",
       "      <th>Avg_Utilization_Ratio</th>\n",
       "      <th>Naive_Bayes_Classifier_Attrition_Flag_Card_Category_Contacts_Count_12_mon_Dependent_count_Education_Level_Months_Inactive_12_mon_1</th>\n",
       "      <th>Naive_Bayes_Classifier_Attrition_Flag_Card_Category_Contacts_Count_12_mon_Dependent_count_Education_Level_Months_Inactive_12_mon_2</th>\n",
       "    </tr>\n",
       "  </thead>\n",
       "  <tbody>\n",
       "    <tr>\n",
       "      <th>0</th>\n",
       "      <td>768805383</td>\n",
       "      <td>Existing Customer</td>\n",
       "      <td>45</td>\n",
       "      <td>M</td>\n",
       "      <td>3</td>\n",
       "      <td>High School</td>\n",
       "      <td>Married</td>\n",
       "      <td>$60K - $80K</td>\n",
       "      <td>Blue</td>\n",
       "      <td>39</td>\n",
       "      <td>...</td>\n",
       "      <td>12691.0</td>\n",
       "      <td>777</td>\n",
       "      <td>11914.0</td>\n",
       "      <td>1.335</td>\n",
       "      <td>1144</td>\n",
       "      <td>42</td>\n",
       "      <td>1.625</td>\n",
       "      <td>0.061</td>\n",
       "      <td>0.000093</td>\n",
       "      <td>0.99991</td>\n",
       "    </tr>\n",
       "    <tr>\n",
       "      <th>1</th>\n",
       "      <td>818770008</td>\n",
       "      <td>Existing Customer</td>\n",
       "      <td>49</td>\n",
       "      <td>F</td>\n",
       "      <td>5</td>\n",
       "      <td>Graduate</td>\n",
       "      <td>Single</td>\n",
       "      <td>Less than $40K</td>\n",
       "      <td>Blue</td>\n",
       "      <td>44</td>\n",
       "      <td>...</td>\n",
       "      <td>8256.0</td>\n",
       "      <td>864</td>\n",
       "      <td>7392.0</td>\n",
       "      <td>1.541</td>\n",
       "      <td>1291</td>\n",
       "      <td>33</td>\n",
       "      <td>3.714</td>\n",
       "      <td>0.105</td>\n",
       "      <td>0.000057</td>\n",
       "      <td>0.99994</td>\n",
       "    </tr>\n",
       "    <tr>\n",
       "      <th>2</th>\n",
       "      <td>713982108</td>\n",
       "      <td>Existing Customer</td>\n",
       "      <td>51</td>\n",
       "      <td>M</td>\n",
       "      <td>3</td>\n",
       "      <td>Graduate</td>\n",
       "      <td>Married</td>\n",
       "      <td>$80K - $120K</td>\n",
       "      <td>Blue</td>\n",
       "      <td>36</td>\n",
       "      <td>...</td>\n",
       "      <td>3418.0</td>\n",
       "      <td>0</td>\n",
       "      <td>3418.0</td>\n",
       "      <td>2.594</td>\n",
       "      <td>1887</td>\n",
       "      <td>20</td>\n",
       "      <td>2.333</td>\n",
       "      <td>0.000</td>\n",
       "      <td>0.000021</td>\n",
       "      <td>0.99998</td>\n",
       "    </tr>\n",
       "    <tr>\n",
       "      <th>3</th>\n",
       "      <td>769911858</td>\n",
       "      <td>Existing Customer</td>\n",
       "      <td>40</td>\n",
       "      <td>F</td>\n",
       "      <td>4</td>\n",
       "      <td>High School</td>\n",
       "      <td>Unknown</td>\n",
       "      <td>Less than $40K</td>\n",
       "      <td>Blue</td>\n",
       "      <td>34</td>\n",
       "      <td>...</td>\n",
       "      <td>3313.0</td>\n",
       "      <td>2517</td>\n",
       "      <td>796.0</td>\n",
       "      <td>1.405</td>\n",
       "      <td>1171</td>\n",
       "      <td>20</td>\n",
       "      <td>2.333</td>\n",
       "      <td>0.760</td>\n",
       "      <td>0.000134</td>\n",
       "      <td>0.99987</td>\n",
       "    </tr>\n",
       "    <tr>\n",
       "      <th>4</th>\n",
       "      <td>709106358</td>\n",
       "      <td>Existing Customer</td>\n",
       "      <td>40</td>\n",
       "      <td>M</td>\n",
       "      <td>3</td>\n",
       "      <td>Uneducated</td>\n",
       "      <td>Married</td>\n",
       "      <td>$60K - $80K</td>\n",
       "      <td>Blue</td>\n",
       "      <td>21</td>\n",
       "      <td>...</td>\n",
       "      <td>4716.0</td>\n",
       "      <td>0</td>\n",
       "      <td>4716.0</td>\n",
       "      <td>2.175</td>\n",
       "      <td>816</td>\n",
       "      <td>28</td>\n",
       "      <td>2.500</td>\n",
       "      <td>0.000</td>\n",
       "      <td>0.000022</td>\n",
       "      <td>0.99998</td>\n",
       "    </tr>\n",
       "  </tbody>\n",
       "</table>\n",
       "<p>5 rows × 23 columns</p>\n",
       "</div>"
      ],
      "text/plain": [
       "   CLIENTNUM     Attrition_Flag  Customer_Age Gender  Dependent_count  \\\n",
       "0  768805383  Existing Customer            45      M                3   \n",
       "1  818770008  Existing Customer            49      F                5   \n",
       "2  713982108  Existing Customer            51      M                3   \n",
       "3  769911858  Existing Customer            40      F                4   \n",
       "4  709106358  Existing Customer            40      M                3   \n",
       "\n",
       "  Education_Level Marital_Status Income_Category Card_Category  \\\n",
       "0     High School        Married     $60K - $80K          Blue   \n",
       "1        Graduate         Single  Less than $40K          Blue   \n",
       "2        Graduate        Married    $80K - $120K          Blue   \n",
       "3     High School        Unknown  Less than $40K          Blue   \n",
       "4      Uneducated        Married     $60K - $80K          Blue   \n",
       "\n",
       "   Months_on_book  ...  Credit_Limit  Total_Revolving_Bal  Avg_Open_To_Buy  \\\n",
       "0              39  ...       12691.0                  777          11914.0   \n",
       "1              44  ...        8256.0                  864           7392.0   \n",
       "2              36  ...        3418.0                    0           3418.0   \n",
       "3              34  ...        3313.0                 2517            796.0   \n",
       "4              21  ...        4716.0                    0           4716.0   \n",
       "\n",
       "   Total_Amt_Chng_Q4_Q1  Total_Trans_Amt  Total_Trans_Ct  Total_Ct_Chng_Q4_Q1  \\\n",
       "0                 1.335             1144              42                1.625   \n",
       "1                 1.541             1291              33                3.714   \n",
       "2                 2.594             1887              20                2.333   \n",
       "3                 1.405             1171              20                2.333   \n",
       "4                 2.175              816              28                2.500   \n",
       "\n",
       "   Avg_Utilization_Ratio  \\\n",
       "0                  0.061   \n",
       "1                  0.105   \n",
       "2                  0.000   \n",
       "3                  0.760   \n",
       "4                  0.000   \n",
       "\n",
       "   Naive_Bayes_Classifier_Attrition_Flag_Card_Category_Contacts_Count_12_mon_Dependent_count_Education_Level_Months_Inactive_12_mon_1  \\\n",
       "0                                           0.000093                                                                                    \n",
       "1                                           0.000057                                                                                    \n",
       "2                                           0.000021                                                                                    \n",
       "3                                           0.000134                                                                                    \n",
       "4                                           0.000022                                                                                    \n",
       "\n",
       "   Naive_Bayes_Classifier_Attrition_Flag_Card_Category_Contacts_Count_12_mon_Dependent_count_Education_Level_Months_Inactive_12_mon_2  \n",
       "0                                            0.99991                                                                                   \n",
       "1                                            0.99994                                                                                   \n",
       "2                                            0.99998                                                                                   \n",
       "3                                            0.99987                                                                                   \n",
       "4                                            0.99998                                                                                   \n",
       "\n",
       "[5 rows x 23 columns]"
      ]
     },
     "execution_count": 39,
     "metadata": {},
     "output_type": "execute_result"
    }
   ],
   "source": [
    "df = pd.read_csv('BankChurners.csv')\n",
    "df.head()"
   ]
  },
  {
   "cell_type": "markdown",
   "id": "512dd704",
   "metadata": {},
   "source": [
    "Thông tin về kiểu dữ liệu từng cột của dataset"
   ]
  },
  {
   "cell_type": "code",
   "execution_count": 9,
   "id": "56c7bc43",
   "metadata": {},
   "outputs": [
    {
     "name": "stdout",
     "output_type": "stream",
     "text": [
      "<class 'pandas.core.frame.DataFrame'>\n",
      "RangeIndex: 10127 entries, 0 to 10126\n",
      "Data columns (total 23 columns):\n",
      " #   Column                                                                                                                              Non-Null Count  Dtype  \n",
      "---  ------                                                                                                                              --------------  -----  \n",
      " 0   CLIENTNUM                                                                                                                           10127 non-null  int64  \n",
      " 1   Attrition_Flag                                                                                                                      10127 non-null  object \n",
      " 2   Customer_Age                                                                                                                        10127 non-null  int64  \n",
      " 3   Gender                                                                                                                              10127 non-null  object \n",
      " 4   Dependent_count                                                                                                                     10127 non-null  int64  \n",
      " 5   Education_Level                                                                                                                     10127 non-null  object \n",
      " 6   Marital_Status                                                                                                                      10127 non-null  object \n",
      " 7   Income_Category                                                                                                                     10127 non-null  object \n",
      " 8   Card_Category                                                                                                                       10127 non-null  object \n",
      " 9   Months_on_book                                                                                                                      10127 non-null  int64  \n",
      " 10  Total_Relationship_Count                                                                                                            10127 non-null  int64  \n",
      " 11  Months_Inactive_12_mon                                                                                                              10127 non-null  int64  \n",
      " 12  Contacts_Count_12_mon                                                                                                               10127 non-null  int64  \n",
      " 13  Credit_Limit                                                                                                                        10127 non-null  float64\n",
      " 14  Total_Revolving_Bal                                                                                                                 10127 non-null  int64  \n",
      " 15  Avg_Open_To_Buy                                                                                                                     10127 non-null  float64\n",
      " 16  Total_Amt_Chng_Q4_Q1                                                                                                                10127 non-null  float64\n",
      " 17  Total_Trans_Amt                                                                                                                     10127 non-null  int64  \n",
      " 18  Total_Trans_Ct                                                                                                                      10127 non-null  int64  \n",
      " 19  Total_Ct_Chng_Q4_Q1                                                                                                                 10127 non-null  float64\n",
      " 20  Avg_Utilization_Ratio                                                                                                               10127 non-null  float64\n",
      " 21  Naive_Bayes_Classifier_Attrition_Flag_Card_Category_Contacts_Count_12_mon_Dependent_count_Education_Level_Months_Inactive_12_mon_1  10127 non-null  float64\n",
      " 22  Naive_Bayes_Classifier_Attrition_Flag_Card_Category_Contacts_Count_12_mon_Dependent_count_Education_Level_Months_Inactive_12_mon_2  10127 non-null  float64\n",
      "dtypes: float64(7), int64(10), object(6)\n",
      "memory usage: 1.8+ MB\n"
     ]
    }
   ],
   "source": [
    "df.info()"
   ]
  },
  {
   "cell_type": "markdown",
   "id": "e57b3bc4",
   "metadata": {},
   "source": [
    "Xác định số lượng quan sát."
   ]
  },
  {
   "cell_type": "code",
   "execution_count": 40,
   "id": "8fdfd6e8",
   "metadata": {},
   "outputs": [
    {
     "data": {
      "text/plain": [
       "10127"
      ]
     },
     "execution_count": 40,
     "metadata": {},
     "output_type": "execute_result"
    }
   ],
   "source": [
    "len(df['CLIENTNUM'].unique())"
   ]
  },
  {
   "cell_type": "markdown",
   "id": "85de4f04",
   "metadata": {},
   "source": [
    "Do trường CLIENTNUM chính là trường đặc trưng cho từng quan sát nên ta lấy len của trường này để ra số lượng quan sát."
   ]
  },
  {
   "cell_type": "code",
   "execution_count": 41,
   "id": "175f426d",
   "metadata": {},
   "outputs": [],
   "source": [
    "df = df.drop(columns = ['CLIENTNUM', \n",
    "              'Naive_Bayes_Classifier_Attrition_Flag_Card_Category_Contacts_Count_12_mon_Dependent_count_Education_Level_Months_Inactive_12_mon_1', \n",
    "             'Naive_Bayes_Classifier_Attrition_Flag_Card_Category_Contacts_Count_12_mon_Dependent_count_Education_Level_Months_Inactive_12_mon_2'])"
   ]
  },
  {
   "cell_type": "code",
   "execution_count": 42,
   "id": "f0431e21",
   "metadata": {},
   "outputs": [
    {
     "name": "stdout",
     "output_type": "stream",
     "text": [
      "<class 'pandas.core.frame.DataFrame'>\n",
      "RangeIndex: 10127 entries, 0 to 10126\n",
      "Data columns (total 20 columns):\n",
      " #   Column                    Non-Null Count  Dtype  \n",
      "---  ------                    --------------  -----  \n",
      " 0   Attrition_Flag            10127 non-null  object \n",
      " 1   Customer_Age              10127 non-null  int64  \n",
      " 2   Gender                    10127 non-null  object \n",
      " 3   Dependent_count           10127 non-null  int64  \n",
      " 4   Education_Level           10127 non-null  object \n",
      " 5   Marital_Status            10127 non-null  object \n",
      " 6   Income_Category           10127 non-null  object \n",
      " 7   Card_Category             10127 non-null  object \n",
      " 8   Months_on_book            10127 non-null  int64  \n",
      " 9   Total_Relationship_Count  10127 non-null  int64  \n",
      " 10  Months_Inactive_12_mon    10127 non-null  int64  \n",
      " 11  Contacts_Count_12_mon     10127 non-null  int64  \n",
      " 12  Credit_Limit              10127 non-null  float64\n",
      " 13  Total_Revolving_Bal       10127 non-null  int64  \n",
      " 14  Avg_Open_To_Buy           10127 non-null  float64\n",
      " 15  Total_Amt_Chng_Q4_Q1      10127 non-null  float64\n",
      " 16  Total_Trans_Amt           10127 non-null  int64  \n",
      " 17  Total_Trans_Ct            10127 non-null  int64  \n",
      " 18  Total_Ct_Chng_Q4_Q1       10127 non-null  float64\n",
      " 19  Avg_Utilization_Ratio     10127 non-null  float64\n",
      "dtypes: float64(5), int64(9), object(6)\n",
      "memory usage: 1.5+ MB\n"
     ]
    }
   ],
   "source": [
    "df.info()"
   ]
  },
  {
   "cell_type": "markdown",
   "id": "87cf04da",
   "metadata": {},
   "source": [
    "# Khai phá dữ liệu"
   ]
  },
  {
   "cell_type": "code",
   "execution_count": 43,
   "id": "c171b321",
   "metadata": {},
   "outputs": [
    {
     "name": "stdout",
     "output_type": "stream",
     "text": [
      "cat_col : 6 \n",
      "num_col : 14\n"
     ]
    }
   ],
   "source": [
    "cat_col = [x for x in df.columns if df[x].dtype == 'O']\n",
    "num_col = [x for x in df.columns if x not in cat_col]\n",
    "\n",
    "print('cat_col : {} \\n\\\n",
    "num_col : {}'.format(len(cat_col), len(num_col)))"
   ]
  },
  {
   "cell_type": "markdown",
   "id": "602824d1",
   "metadata": {},
   "source": [
    "Chia data thành 2 loại: num_col là data dạng định lượng, cat_col là data dạng định tính."
   ]
  },
  {
   "cell_type": "markdown",
   "id": "8fc93833",
   "metadata": {},
   "source": [
    "Ma trận hệ số tương quan giữa các biến:"
   ]
  },
  {
   "cell_type": "code",
   "execution_count": 14,
   "id": "71a316d0",
   "metadata": {},
   "outputs": [
    {
     "data": {
      "text/plain": [
       "<Axes: >"
      ]
     },
     "execution_count": 14,
     "metadata": {},
     "output_type": "execute_result"
    },
    {
     "data": {
      "image/png": "[encoded data removed]",
      "text/plain": [
       "<Figure size 1200x1000 with 2 Axes>"
      ]
     },
     "metadata": {},
     "output_type": "display_data"
    }
   ],
   "source": [
    "plt.figure(figsize=(12,10))\n",
    "sns.heatmap(df[num_col].corr(), vmin=-1.0, vmax=1.0, linewidths=0.5, cmap='icefire', annot=True, fmt='.2f')"
   ]
  },
  {
   "cell_type": "markdown",
   "id": "9cc419d7",
   "metadata": {},
   "source": [
    "# Feature Engineering\n",
    "Chuyển đổi tập dữ liệu thô ban đầu thành tập các thuộc tính (features) có thể giúp biểu diễn tập dữ liệu ban đầu tốt hơn, tạo điều kiện để giải quyết các bài toán dễ dàng hơn, giúp tương thích với từng mô hình dự đoán cụ thể, cũng như cải thiện độ chính xác của mô hình dự đoán hiện tại.\n",
    "Cụ thể, với dataset này, thay vì sử dụng tất cả các thuộc tính được cung cấp (23 cột) để đưa vào mô hình phân lớp của mình thì thời gian để máy training rất lâu, đồng thời kết quả dự đoán có độ chính xác thấp. Thay vì làm như vậy, nhóm lựa chọn sử dụng ký thuật feature engineering để chọn ra một số thuộc tính phì hợp hơn như số dư quay vòng, số giao dịch được thực hiện...\n",
    "Ngoài ra, có thể thu thập thêm các thuộc tính cần thiết khác để bổ sung vào tập dữ liệu ban đầu, khi đó số thuộc tính đưa vào mô hình phân lớp được giảm đi đáng kể giúp tốc độ để máy training nhanh hơn. Hơn nữa, nhờ biểu diễn tốt tập dữ liệu ban đầu mà độ chính xác mô hình phân lớp được cải thiện đáng kể.\n",
    "Cụ thể, nhóm sẽ tiến hành:\n",
    "- Binning: Customer_Age, Months_on_book, Credit_Limit, Total_Revolving_Bal,\n",
    "Avg_Open_To_Buy, Total_Amt_Chng_Q4_Q1, Total_Trans_Amt, Total_Trans_Ct,\n",
    "Total_Ct_Chng_Q4_Q1, Avg_Utilization_Ratio\n",
    "- Weight of Evidence"
   ]
  },
  {
   "cell_type": "code",
   "execution_count": 15,
   "id": "2e40d344",
   "metadata": {},
   "outputs": [
    {
     "name": "stdout",
     "output_type": "stream",
     "text": [
      "<class 'pandas.core.frame.DataFrame'>\n",
      "RangeIndex: 10127 entries, 0 to 10126\n",
      "Data columns (total 20 columns):\n",
      " #   Column                    Non-Null Count  Dtype  \n",
      "---  ------                    --------------  -----  \n",
      " 0   Attrition_Flag            10127 non-null  object \n",
      " 1   Customer_Age              10127 non-null  int64  \n",
      " 2   Gender                    10127 non-null  object \n",
      " 3   Dependent_count           10127 non-null  int64  \n",
      " 4   Education_Level           10127 non-null  object \n",
      " 5   Marital_Status            10127 non-null  object \n",
      " 6   Income_Category           10127 non-null  object \n",
      " 7   Card_Category             10127 non-null  object \n",
      " 8   Months_on_book            10127 non-null  int64  \n",
      " 9   Total_Relationship_Count  10127 non-null  int64  \n",
      " 10  Months_Inactive_12_mon    10127 non-null  int64  \n",
      " 11  Contacts_Count_12_mon     10127 non-null  int64  \n",
      " 12  Credit_Limit              10127 non-null  float64\n",
      " 13  Total_Revolving_Bal       10127 non-null  int64  \n",
      " 14  Avg_Open_To_Buy           10127 non-null  float64\n",
      " 15  Total_Amt_Chng_Q4_Q1      10127 non-null  float64\n",
      " 16  Total_Trans_Amt           10127 non-null  int64  \n",
      " 17  Total_Trans_Ct            10127 non-null  int64  \n",
      " 18  Total_Ct_Chng_Q4_Q1       10127 non-null  float64\n",
      " 19  Avg_Utilization_Ratio     10127 non-null  float64\n",
      "dtypes: float64(5), int64(9), object(6)\n",
      "memory usage: 1.5+ MB\n"
     ]
    }
   ],
   "source": [
    "df.info()"
   ]
  },
  {
   "cell_type": "markdown",
   "id": "a396954c",
   "metadata": {},
   "source": [
    "Binning"
   ]
  },
  {
   "cell_type": "markdown",
   "id": "0a9b0df1",
   "metadata": {},
   "source": [
    "# 4. Data Processing\n",
    "Xử lý dữ liệu thô."
   ]
  },
  {
   "cell_type": "markdown",
   "id": "3a91c87d",
   "metadata": {},
   "source": [
    "# 4.1. Xử lý Missing data"
   ]
  },
  {
   "cell_type": "code",
   "execution_count": 44,
   "id": "57068923",
   "metadata": {},
   "outputs": [
    {
     "data": {
      "text/plain": [
       "Attrition_Flag              0\n",
       "Customer_Age                0\n",
       "Gender                      0\n",
       "Dependent_count             0\n",
       "Education_Level             0\n",
       "Marital_Status              0\n",
       "Income_Category             0\n",
       "Card_Category               0\n",
       "Months_on_book              0\n",
       "Total_Relationship_Count    0\n",
       "Months_Inactive_12_mon      0\n",
       "Contacts_Count_12_mon       0\n",
       "Credit_Limit                0\n",
       "Total_Revolving_Bal         0\n",
       "Avg_Open_To_Buy             0\n",
       "Total_Amt_Chng_Q4_Q1        0\n",
       "Total_Trans_Amt             0\n",
       "Total_Trans_Ct              0\n",
       "Total_Ct_Chng_Q4_Q1         0\n",
       "Avg_Utilization_Ratio       0\n",
       "dtype: int64"
      ]
     },
     "execution_count": 44,
     "metadata": {},
     "output_type": "execute_result"
    }
   ],
   "source": [
    "# kiểm tra data bị missing\n",
    "df.isna().sum()"
   ]
  },
  {
   "cell_type": "markdown",
   "id": "15ef4adb",
   "metadata": {},
   "source": [
    "Tập dữ liệu không có missing value."
   ]
  },
  {
   "cell_type": "markdown",
   "id": "fa038b1a",
   "metadata": {},
   "source": [
    "# 4.2. Xử lý các giá trị ngoại lệ (Outliers)"
   ]
  },
  {
   "cell_type": "code",
   "execution_count": 45,
   "id": "b68b0285",
   "metadata": {},
   "outputs": [
    {
     "name": "stdout",
     "output_type": "stream",
     "text": [
      "Số giá trị ngoại lệ: 1274\n"
     ]
    }
   ],
   "source": [
    "from datasist.structdata import detect_outliers\n",
    "# phát hiện các giá trị ngoại lệ\n",
    "outliers_indices = detect_outliers(df, features=num_col, n=1.5)\n",
    "number_of_outliers = len(outliers_indices)\n",
    "\n",
    "# in ra số lượng giá trị ngoại lệ\n",
    "print(f'Số giá trị ngoại lệ: {number_of_outliers}')"
   ]
  },
  {
   "cell_type": "code",
   "execution_count": 46,
   "id": "979b813b",
   "metadata": {},
   "outputs": [
    {
     "name": "stdout",
     "output_type": "stream",
     "text": [
      "Số chiều của dataset sau khi bỏ outliers: (8853, 20)\n"
     ]
    }
   ],
   "source": [
    "# xoá bỏ các giá trị ngoại lệ\n",
    "df = df.drop(outliers_indices)\n",
    "print(f\"Số chiều của dataset sau khi bỏ outliers: {df.shape}\")"
   ]
  },
  {
   "cell_type": "markdown",
   "id": "57fa6679",
   "metadata": {},
   "source": [
    "# 4.3. Xử lý dữ liệu định tính\n",
    "- Danh nghĩa: Các danh mục không có thứ tự hoặc xếp hạng có ý nghĩa như (Cờ tiêu hao, Giới tính, Tình trạng hôn nhân).\n",
    "- Thứ tự: Các danh mục có thứ tự hoặc xếp hạng có ý nghĩa như (Trình độ học vấn, Danh mục thu nhập, Danh mục thẻ)."
   ]
  },
  {
   "cell_type": "code",
   "execution_count": 47,
   "id": "6bfd768f",
   "metadata": {},
   "outputs": [
    {
     "data": {
      "text/html": [
       "<div>\n",
       "<style scoped>\n",
       "    .dataframe tbody tr th:only-of-type {\n",
       "        vertical-align: middle;\n",
       "    }\n",
       "\n",
       "    .dataframe tbody tr th {\n",
       "        vertical-align: top;\n",
       "    }\n",
       "\n",
       "    .dataframe thead th {\n",
       "        text-align: right;\n",
       "    }\n",
       "</style>\n",
       "<table border=\"1\" class=\"dataframe\">\n",
       "  <thead>\n",
       "    <tr style=\"text-align: right;\">\n",
       "      <th></th>\n",
       "      <th>Attrition_Flag</th>\n",
       "      <th>Customer_Age</th>\n",
       "      <th>Gender</th>\n",
       "      <th>Dependent_count</th>\n",
       "      <th>Education_Level</th>\n",
       "      <th>Marital_Status</th>\n",
       "      <th>Income_Category</th>\n",
       "      <th>Card_Category</th>\n",
       "      <th>Months_on_book</th>\n",
       "      <th>Total_Relationship_Count</th>\n",
       "      <th>Months_Inactive_12_mon</th>\n",
       "      <th>Contacts_Count_12_mon</th>\n",
       "      <th>Credit_Limit</th>\n",
       "      <th>Total_Revolving_Bal</th>\n",
       "      <th>Avg_Open_To_Buy</th>\n",
       "      <th>Total_Amt_Chng_Q4_Q1</th>\n",
       "      <th>Total_Trans_Amt</th>\n",
       "      <th>Total_Trans_Ct</th>\n",
       "      <th>Total_Ct_Chng_Q4_Q1</th>\n",
       "      <th>Avg_Utilization_Ratio</th>\n",
       "    </tr>\n",
       "  </thead>\n",
       "  <tbody>\n",
       "    <tr>\n",
       "      <th>5</th>\n",
       "      <td>0</td>\n",
       "      <td>44</td>\n",
       "      <td>M</td>\n",
       "      <td>2</td>\n",
       "      <td>5</td>\n",
       "      <td>Married</td>\n",
       "      <td>2</td>\n",
       "      <td>0</td>\n",
       "      <td>36</td>\n",
       "      <td>3</td>\n",
       "      <td>1</td>\n",
       "      <td>2</td>\n",
       "      <td>4010.0</td>\n",
       "      <td>1247</td>\n",
       "      <td>2763.0</td>\n",
       "      <td>1.376</td>\n",
       "      <td>1088</td>\n",
       "      <td>24</td>\n",
       "      <td>0.846</td>\n",
       "      <td>0.311</td>\n",
       "    </tr>\n",
       "    <tr>\n",
       "      <th>9</th>\n",
       "      <td>0</td>\n",
       "      <td>48</td>\n",
       "      <td>M</td>\n",
       "      <td>2</td>\n",
       "      <td>5</td>\n",
       "      <td>Single</td>\n",
       "      <td>4</td>\n",
       "      <td>0</td>\n",
       "      <td>36</td>\n",
       "      <td>6</td>\n",
       "      <td>3</td>\n",
       "      <td>3</td>\n",
       "      <td>11656.0</td>\n",
       "      <td>1677</td>\n",
       "      <td>9979.0</td>\n",
       "      <td>1.524</td>\n",
       "      <td>1441</td>\n",
       "      <td>32</td>\n",
       "      <td>0.882</td>\n",
       "      <td>0.144</td>\n",
       "    </tr>\n",
       "    <tr>\n",
       "      <th>10</th>\n",
       "      <td>0</td>\n",
       "      <td>42</td>\n",
       "      <td>M</td>\n",
       "      <td>5</td>\n",
       "      <td>1</td>\n",
       "      <td>Unknown</td>\n",
       "      <td>5</td>\n",
       "      <td>0</td>\n",
       "      <td>31</td>\n",
       "      <td>5</td>\n",
       "      <td>3</td>\n",
       "      <td>2</td>\n",
       "      <td>6748.0</td>\n",
       "      <td>1467</td>\n",
       "      <td>5281.0</td>\n",
       "      <td>0.831</td>\n",
       "      <td>1201</td>\n",
       "      <td>42</td>\n",
       "      <td>0.680</td>\n",
       "      <td>0.217</td>\n",
       "    </tr>\n",
       "    <tr>\n",
       "      <th>13</th>\n",
       "      <td>0</td>\n",
       "      <td>35</td>\n",
       "      <td>M</td>\n",
       "      <td>3</td>\n",
       "      <td>5</td>\n",
       "      <td>Unknown</td>\n",
       "      <td>3</td>\n",
       "      <td>0</td>\n",
       "      <td>30</td>\n",
       "      <td>5</td>\n",
       "      <td>1</td>\n",
       "      <td>3</td>\n",
       "      <td>8547.0</td>\n",
       "      <td>1666</td>\n",
       "      <td>6881.0</td>\n",
       "      <td>1.163</td>\n",
       "      <td>1311</td>\n",
       "      <td>33</td>\n",
       "      <td>2.000</td>\n",
       "      <td>0.195</td>\n",
       "    </tr>\n",
       "    <tr>\n",
       "      <th>14</th>\n",
       "      <td>0</td>\n",
       "      <td>57</td>\n",
       "      <td>F</td>\n",
       "      <td>2</td>\n",
       "      <td>5</td>\n",
       "      <td>Married</td>\n",
       "      <td>1</td>\n",
       "      <td>0</td>\n",
       "      <td>48</td>\n",
       "      <td>5</td>\n",
       "      <td>2</td>\n",
       "      <td>2</td>\n",
       "      <td>2436.0</td>\n",
       "      <td>680</td>\n",
       "      <td>1756.0</td>\n",
       "      <td>1.190</td>\n",
       "      <td>1570</td>\n",
       "      <td>29</td>\n",
       "      <td>0.611</td>\n",
       "      <td>0.279</td>\n",
       "    </tr>\n",
       "  </tbody>\n",
       "</table>\n",
       "</div>"
      ],
      "text/plain": [
       "    Attrition_Flag  Customer_Age Gender  Dependent_count  Education_Level  \\\n",
       "5                0            44      M                2                5   \n",
       "9                0            48      M                2                5   \n",
       "10               0            42      M                5                1   \n",
       "13               0            35      M                3                5   \n",
       "14               0            57      F                2                5   \n",
       "\n",
       "   Marital_Status  Income_Category  Card_Category  Months_on_book  \\\n",
       "5         Married                2              0              36   \n",
       "9          Single                4              0              36   \n",
       "10        Unknown                5              0              31   \n",
       "13        Unknown                3              0              30   \n",
       "14        Married                1              0              48   \n",
       "\n",
       "    Total_Relationship_Count  Months_Inactive_12_mon  Contacts_Count_12_mon  \\\n",
       "5                          3                       1                      2   \n",
       "9                          6                       3                      3   \n",
       "10                         5                       3                      2   \n",
       "13                         5                       1                      3   \n",
       "14                         5                       2                      2   \n",
       "\n",
       "    Credit_Limit  Total_Revolving_Bal  Avg_Open_To_Buy  Total_Amt_Chng_Q4_Q1  \\\n",
       "5         4010.0                 1247           2763.0                 1.376   \n",
       "9        11656.0                 1677           9979.0                 1.524   \n",
       "10        6748.0                 1467           5281.0                 0.831   \n",
       "13        8547.0                 1666           6881.0                 1.163   \n",
       "14        2436.0                  680           1756.0                 1.190   \n",
       "\n",
       "    Total_Trans_Amt  Total_Trans_Ct  Total_Ct_Chng_Q4_Q1  \\\n",
       "5              1088              24                0.846   \n",
       "9              1441              32                0.882   \n",
       "10             1201              42                0.680   \n",
       "13             1311              33                2.000   \n",
       "14             1570              29                0.611   \n",
       "\n",
       "    Avg_Utilization_Ratio  \n",
       "5                   0.311  \n",
       "9                   0.144  \n",
       "10                  0.217  \n",
       "13                  0.195  \n",
       "14                  0.279  "
      ]
     },
     "execution_count": 47,
     "metadata": {},
     "output_type": "execute_result"
    }
   ],
   "source": [
    "# sử dụng phương thức map để xử lý dữ liệu định tính có thứ tự.\n",
    "\n",
    "attrition_flag_dic = {\n",
    "    'Existing Customer' : 0,\n",
    "    'Attrited Customer' : 1\n",
    "}\n",
    "\n",
    "edu_level_dic = {  \n",
    "    'Unknown': 0, \n",
    "    'Uneducated': 1, \n",
    "    'High School': 2, \n",
    "    'College': 3,\n",
    "    'Post-Graduate': 4, \n",
    "    'Graduate': 5, \n",
    "    'Doctorate': 6\n",
    "} \n",
    "\n",
    "income_cat_dic = {\n",
    "    'Unknown': 0,\n",
    "    'Less than $40K': 1,\n",
    "    '$40K - $60K': 2,\n",
    "    '$60K - $80K': 3,\n",
    "    '$80K - $120K': 4,\n",
    "    '$120K +': 5\n",
    "}\n",
    "\n",
    "card_cat_dic = {\n",
    "    'Blue': 0,\n",
    "    'Silver': 1,\n",
    "    'Gold': 2,\n",
    "    'Platinum': 3\n",
    "}\n",
    "\n",
    "df['Attrition_Flag'] = df['Attrition_Flag'].map(attrition_flag_dic)\n",
    "\n",
    "df['Education_Level'] = df['Education_Level'].map(edu_level_dic)\n",
    "\n",
    "df['Income_Category'] = df['Income_Category'].map(income_cat_dic)\n",
    "\n",
    "df['Card_Category'] = df['Card_Category'].map(card_cat_dic)\n",
    "\n",
    "df.head()"
   ]
  },
  {
   "cell_type": "code",
   "execution_count": 48,
   "id": "4dbe1a2b",
   "metadata": {},
   "outputs": [
    {
     "name": "stdout",
     "output_type": "stream",
     "text": [
      "24 total features after one-hot encoding.\n"
     ]
    }
   ],
   "source": [
    "# sử dụng phương thưc get dummies để xử lý dữ liệu định tính danh nghĩa.\n",
    "df = pd.get_dummies(df, columns=['Gender', 'Marital_Status'])\n",
    "\n",
    "encoded = list(df.columns)\n",
    "print(\"{} total features after one-hot encoding.\".format(len(encoded)))\n"
   ]
  },
  {
   "cell_type": "markdown",
   "id": "cf954562",
   "metadata": {},
   "source": [
    "Nhóm lựa chọn Mã hóa one-hot cho dữ liệu định tính không có thứ tự.\n",
    "Cách truyền thống nhất để đưa dữ liệu hạng mục về dạng số là mã hóa one-hot. Trong cách mã hóa này, một “từ điển” được xây dựng chứa tất cả các giá trị khả dĩ của từng dữ liệu hạng mục. Sau đó mỗi giá trị hạng mục sẽ được mã hóa bằng một vector nhị phân với toàn bộ các phần tử bằng 0 trừ một phần tử bằng 1 tương ứng với vị trí của giá trị hạng mục đó trong từ điển."
   ]
  },
  {
   "cell_type": "code",
   "execution_count": 49,
   "id": "349bf0ed",
   "metadata": {},
   "outputs": [
    {
     "data": {
      "text/html": [
       "<div>\n",
       "<style scoped>\n",
       "    .dataframe tbody tr th:only-of-type {\n",
       "        vertical-align: middle;\n",
       "    }\n",
       "\n",
       "    .dataframe tbody tr th {\n",
       "        vertical-align: top;\n",
       "    }\n",
       "\n",
       "    .dataframe thead th {\n",
       "        text-align: right;\n",
       "    }\n",
       "</style>\n",
       "<table border=\"1\" class=\"dataframe\">\n",
       "  <thead>\n",
       "    <tr style=\"text-align: right;\">\n",
       "      <th></th>\n",
       "      <th>Attrition_Flag</th>\n",
       "      <th>Customer_Age</th>\n",
       "      <th>Dependent_count</th>\n",
       "      <th>Education_Level</th>\n",
       "      <th>Income_Category</th>\n",
       "      <th>Card_Category</th>\n",
       "      <th>Months_on_book</th>\n",
       "      <th>Total_Relationship_Count</th>\n",
       "      <th>Months_Inactive_12_mon</th>\n",
       "      <th>Contacts_Count_12_mon</th>\n",
       "      <th>...</th>\n",
       "      <th>Total_Trans_Amt</th>\n",
       "      <th>Total_Trans_Ct</th>\n",
       "      <th>Total_Ct_Chng_Q4_Q1</th>\n",
       "      <th>Avg_Utilization_Ratio</th>\n",
       "      <th>Gender_F</th>\n",
       "      <th>Gender_M</th>\n",
       "      <th>Marital_Status_Divorced</th>\n",
       "      <th>Marital_Status_Married</th>\n",
       "      <th>Marital_Status_Single</th>\n",
       "      <th>Marital_Status_Unknown</th>\n",
       "    </tr>\n",
       "  </thead>\n",
       "  <tbody>\n",
       "    <tr>\n",
       "      <th>5</th>\n",
       "      <td>0</td>\n",
       "      <td>44</td>\n",
       "      <td>2</td>\n",
       "      <td>5</td>\n",
       "      <td>2</td>\n",
       "      <td>0</td>\n",
       "      <td>36</td>\n",
       "      <td>3</td>\n",
       "      <td>1</td>\n",
       "      <td>2</td>\n",
       "      <td>...</td>\n",
       "      <td>1088</td>\n",
       "      <td>24</td>\n",
       "      <td>0.846</td>\n",
       "      <td>0.311</td>\n",
       "      <td>False</td>\n",
       "      <td>True</td>\n",
       "      <td>False</td>\n",
       "      <td>True</td>\n",
       "      <td>False</td>\n",
       "      <td>False</td>\n",
       "    </tr>\n",
       "    <tr>\n",
       "      <th>9</th>\n",
       "      <td>0</td>\n",
       "      <td>48</td>\n",
       "      <td>2</td>\n",
       "      <td>5</td>\n",
       "      <td>4</td>\n",
       "      <td>0</td>\n",
       "      <td>36</td>\n",
       "      <td>6</td>\n",
       "      <td>3</td>\n",
       "      <td>3</td>\n",
       "      <td>...</td>\n",
       "      <td>1441</td>\n",
       "      <td>32</td>\n",
       "      <td>0.882</td>\n",
       "      <td>0.144</td>\n",
       "      <td>False</td>\n",
       "      <td>True</td>\n",
       "      <td>False</td>\n",
       "      <td>False</td>\n",
       "      <td>True</td>\n",
       "      <td>False</td>\n",
       "    </tr>\n",
       "    <tr>\n",
       "      <th>10</th>\n",
       "      <td>0</td>\n",
       "      <td>42</td>\n",
       "      <td>5</td>\n",
       "      <td>1</td>\n",
       "      <td>5</td>\n",
       "      <td>0</td>\n",
       "      <td>31</td>\n",
       "      <td>5</td>\n",
       "      <td>3</td>\n",
       "      <td>2</td>\n",
       "      <td>...</td>\n",
       "      <td>1201</td>\n",
       "      <td>42</td>\n",
       "      <td>0.680</td>\n",
       "      <td>0.217</td>\n",
       "      <td>False</td>\n",
       "      <td>True</td>\n",
       "      <td>False</td>\n",
       "      <td>False</td>\n",
       "      <td>False</td>\n",
       "      <td>True</td>\n",
       "    </tr>\n",
       "    <tr>\n",
       "      <th>13</th>\n",
       "      <td>0</td>\n",
       "      <td>35</td>\n",
       "      <td>3</td>\n",
       "      <td>5</td>\n",
       "      <td>3</td>\n",
       "      <td>0</td>\n",
       "      <td>30</td>\n",
       "      <td>5</td>\n",
       "      <td>1</td>\n",
       "      <td>3</td>\n",
       "      <td>...</td>\n",
       "      <td>1311</td>\n",
       "      <td>33</td>\n",
       "      <td>2.000</td>\n",
       "      <td>0.195</td>\n",
       "      <td>False</td>\n",
       "      <td>True</td>\n",
       "      <td>False</td>\n",
       "      <td>False</td>\n",
       "      <td>False</td>\n",
       "      <td>True</td>\n",
       "    </tr>\n",
       "    <tr>\n",
       "      <th>14</th>\n",
       "      <td>0</td>\n",
       "      <td>57</td>\n",
       "      <td>2</td>\n",
       "      <td>5</td>\n",
       "      <td>1</td>\n",
       "      <td>0</td>\n",
       "      <td>48</td>\n",
       "      <td>5</td>\n",
       "      <td>2</td>\n",
       "      <td>2</td>\n",
       "      <td>...</td>\n",
       "      <td>1570</td>\n",
       "      <td>29</td>\n",
       "      <td>0.611</td>\n",
       "      <td>0.279</td>\n",
       "      <td>True</td>\n",
       "      <td>False</td>\n",
       "      <td>False</td>\n",
       "      <td>True</td>\n",
       "      <td>False</td>\n",
       "      <td>False</td>\n",
       "    </tr>\n",
       "  </tbody>\n",
       "</table>\n",
       "<p>5 rows × 24 columns</p>\n",
       "</div>"
      ],
      "text/plain": [
       "    Attrition_Flag  Customer_Age  Dependent_count  Education_Level  \\\n",
       "5                0            44                2                5   \n",
       "9                0            48                2                5   \n",
       "10               0            42                5                1   \n",
       "13               0            35                3                5   \n",
       "14               0            57                2                5   \n",
       "\n",
       "    Income_Category  Card_Category  Months_on_book  Total_Relationship_Count  \\\n",
       "5                 2              0              36                         3   \n",
       "9                 4              0              36                         6   \n",
       "10                5              0              31                         5   \n",
       "13                3              0              30                         5   \n",
       "14                1              0              48                         5   \n",
       "\n",
       "    Months_Inactive_12_mon  Contacts_Count_12_mon  ...  Total_Trans_Amt  \\\n",
       "5                        1                      2  ...             1088   \n",
       "9                        3                      3  ...             1441   \n",
       "10                       3                      2  ...             1201   \n",
       "13                       1                      3  ...             1311   \n",
       "14                       2                      2  ...             1570   \n",
       "\n",
       "    Total_Trans_Ct  Total_Ct_Chng_Q4_Q1  Avg_Utilization_Ratio  Gender_F  \\\n",
       "5               24                0.846                  0.311     False   \n",
       "9               32                0.882                  0.144     False   \n",
       "10              42                0.680                  0.217     False   \n",
       "13              33                2.000                  0.195     False   \n",
       "14              29                0.611                  0.279      True   \n",
       "\n",
       "    Gender_M  Marital_Status_Divorced  Marital_Status_Married  \\\n",
       "5       True                    False                    True   \n",
       "9       True                    False                   False   \n",
       "10      True                    False                   False   \n",
       "13      True                    False                   False   \n",
       "14     False                    False                    True   \n",
       "\n",
       "    Marital_Status_Single  Marital_Status_Unknown  \n",
       "5                   False                   False  \n",
       "9                    True                   False  \n",
       "10                  False                    True  \n",
       "13                  False                    True  \n",
       "14                  False                   False  \n",
       "\n",
       "[5 rows x 24 columns]"
      ]
     },
     "execution_count": 49,
     "metadata": {},
     "output_type": "execute_result"
    }
   ],
   "source": [
    "df.head()"
   ]
  },
  {
   "cell_type": "markdown",
   "id": "ded4fcaf",
   "metadata": {},
   "source": [
    "# 4.4. Chia dữ liệu thành tập Train và tập Test"
   ]
  },
  {
   "cell_type": "code",
   "execution_count": 50,
   "id": "c1fcba2c",
   "metadata": {},
   "outputs": [],
   "source": [
    "# lấy dữ liệu cho biến dự đoán và biến mục tiêu\n",
    "x = df.drop(['Attrition_Flag'], axis=1)\n",
    "y = df['Attrition_Flag']"
   ]
  },
  {
   "cell_type": "code",
   "execution_count": 51,
   "id": "c2d874fd",
   "metadata": {},
   "outputs": [
    {
     "data": {
      "text/plain": [
       "((8853, 23), (8853,))"
      ]
     },
     "execution_count": 51,
     "metadata": {},
     "output_type": "execute_result"
    }
   ],
   "source": [
    "x.shape, y.shape"
   ]
  },
  {
   "cell_type": "code",
   "execution_count": 52,
   "id": "89da5c88",
   "metadata": {},
   "outputs": [
    {
     "name": "stdout",
     "output_type": "stream",
     "text": [
      "Training set has 7082 samples.\n",
      "Testing set has 1771 samples.\n"
     ]
    }
   ],
   "source": [
    "# chia dữ liệu thành 2 tập: Train và Test (80% training, 20% testing)\n",
    "X_train, X_test, y_train, y_test = train_test_split(x, \n",
    "                                                    y, \n",
    "                                                    test_size = 0.2, \n",
    "                                                    random_state = 42)\n",
    "\n",
    "# hiển thị kết quả mẫu cho từng tập\n",
    "print(\"Training set has {} samples.\".format(X_train.shape[0]))\n",
    "print(\"Testing set has {} samples.\".format(X_test.shape[0]))"
   ]
  },
  {
   "cell_type": "markdown",
   "id": "2c81cabe",
   "metadata": {},
   "source": [
    "# 4.5. Xử lý dữ liệu mất cân bằng"
   ]
  },
  {
   "cell_type": "code",
   "execution_count": 53,
   "id": "73164a04",
   "metadata": {},
   "outputs": [
    {
     "data": {
      "text/plain": [
       "Attrition_Flag\n",
       "0    5940\n",
       "1    1142\n",
       "Name: count, dtype: int64"
      ]
     },
     "execution_count": 53,
     "metadata": {},
     "output_type": "execute_result"
    }
   ],
   "source": [
    "y_train.value_counts()"
   ]
  },
  {
   "cell_type": "markdown",
   "id": "b82d36c5",
   "metadata": {},
   "source": [
    "Dữ liệu bị mất cân bằng nên nhóm sử dụng SMOTE để cân bằng dữ liệu vì việc lấy mẫu có thể gây mất dữ liệu và ảnh hưởng đến chất lượng dự đoán khi dữ liệu ban đầu bị mất cân bằng.\n",
    "SMOTE (Synthetic Minority Over-sampling) là phương pháp sinh mẫu (thuộc phương pháp Over Sampling) nhằm gia tăng kích thước mẫu của nhóm thiểu số trong trường hợp xảy ra mất cân bằng mẫu. Để gia tăng kích thước mẫu, với mỗi một mẫu thuộc nhóm thiểu số ta sẽ lựa chọn ra mẫu láng giềng gần nhất với nó và sau đó thực hiện tổ hợp tuyến tính để tạo ra mẫu giả lập. Phương pháp để lựa chọn ra các láng giềng của một quan sát có thể dựa trên thuật toán kNN hoặc SVM."
   ]
  },
  {
   "cell_type": "code",
   "execution_count": 56,
   "id": "b6f35801",
   "metadata": {},
   "outputs": [],
   "source": [
    "sm = SMOTE(random_state=42)\n",
    "X_train, y_train = sm.fit_resample(X_train, y_train)"
   ]
  },
  {
   "cell_type": "code",
   "execution_count": 57,
   "id": "2376be15",
   "metadata": {},
   "outputs": [
    {
     "data": {
      "text/plain": [
       "Attrition_Flag\n",
       "1    5940\n",
       "0    5940\n",
       "Name: count, dtype: int64"
      ]
     },
     "execution_count": 57,
     "metadata": {},
     "output_type": "execute_result"
    }
   ],
   "source": [
    "y_train.value_counts()"
   ]
  },
  {
   "cell_type": "markdown",
   "id": "1fcf49c7",
   "metadata": {},
   "source": [
    "Bây giờ dữ liệu đã cân bằng."
   ]
  },
  {
   "cell_type": "markdown",
   "id": "f700cab5",
   "metadata": {},
   "source": [
    "# 4.6. Chuẩn hoá dữ liệu (Feature Scaling)\n",
    "Feature Scaling (hay còn gọi là Data Normalization) là một kỹ thuật được sử dụng để chuẩn hoá dữ liệu về cùng phạm vi (same range).\n",
    "Chuẩn hoá dữ liệu tuần tự với StandardScaler"
   ]
  },
  {
   "cell_type": "code",
   "execution_count": 61,
   "id": "8d79028e",
   "metadata": {},
   "outputs": [
    {
     "data": {
      "text/html": [
       "<div>\n",
       "<style scoped>\n",
       "    .dataframe tbody tr th:only-of-type {\n",
       "        vertical-align: middle;\n",
       "    }\n",
       "\n",
       "    .dataframe tbody tr th {\n",
       "        vertical-align: top;\n",
       "    }\n",
       "\n",
       "    .dataframe thead th {\n",
       "        text-align: right;\n",
       "    }\n",
       "</style>\n",
       "<table border=\"1\" class=\"dataframe\">\n",
       "  <thead>\n",
       "    <tr style=\"text-align: right;\">\n",
       "      <th></th>\n",
       "      <th>Customer_Age</th>\n",
       "      <th>Dependent_count</th>\n",
       "      <th>Education_Level</th>\n",
       "      <th>Income_Category</th>\n",
       "      <th>Card_Category</th>\n",
       "      <th>Months_on_book</th>\n",
       "      <th>Total_Relationship_Count</th>\n",
       "      <th>Months_Inactive_12_mon</th>\n",
       "      <th>Contacts_Count_12_mon</th>\n",
       "      <th>Credit_Limit</th>\n",
       "      <th>...</th>\n",
       "      <th>Total_Trans_Amt</th>\n",
       "      <th>Total_Trans_Ct</th>\n",
       "      <th>Total_Ct_Chng_Q4_Q1</th>\n",
       "      <th>Avg_Utilization_Ratio</th>\n",
       "      <th>Gender_F</th>\n",
       "      <th>Gender_M</th>\n",
       "      <th>Marital_Status_Divorced</th>\n",
       "      <th>Marital_Status_Married</th>\n",
       "      <th>Marital_Status_Single</th>\n",
       "      <th>Marital_Status_Unknown</th>\n",
       "    </tr>\n",
       "  </thead>\n",
       "  <tbody>\n",
       "    <tr>\n",
       "      <th>0</th>\n",
       "      <td>0.931732</td>\n",
       "      <td>-0.163926</td>\n",
       "      <td>3</td>\n",
       "      <td>1</td>\n",
       "      <td>0</td>\n",
       "      <td>1.154546</td>\n",
       "      <td>-0.331522</td>\n",
       "      <td>0.751478</td>\n",
       "      <td>0.479457</td>\n",
       "      <td>-0.867929</td>\n",
       "      <td>...</td>\n",
       "      <td>-0.307218</td>\n",
       "      <td>-0.379144</td>\n",
       "      <td>-0.212054</td>\n",
       "      <td>-0.887260</td>\n",
       "      <td>True</td>\n",
       "      <td>False</td>\n",
       "      <td>False</td>\n",
       "      <td>True</td>\n",
       "      <td>False</td>\n",
       "      <td>False</td>\n",
       "    </tr>\n",
       "    <tr>\n",
       "      <th>1</th>\n",
       "      <td>-0.708602</td>\n",
       "      <td>0.664771</td>\n",
       "      <td>4</td>\n",
       "      <td>5</td>\n",
       "      <td>0</td>\n",
       "      <td>-0.933402</td>\n",
       "      <td>1.665344</td>\n",
       "      <td>-1.539401</td>\n",
       "      <td>0.479457</td>\n",
       "      <td>-0.469235</td>\n",
       "      <td>...</td>\n",
       "      <td>0.408667</td>\n",
       "      <td>1.045911</td>\n",
       "      <td>-0.307518</td>\n",
       "      <td>1.660662</td>\n",
       "      <td>False</td>\n",
       "      <td>True</td>\n",
       "      <td>True</td>\n",
       "      <td>False</td>\n",
       "      <td>False</td>\n",
       "      <td>False</td>\n",
       "    </tr>\n",
       "    <tr>\n",
       "      <th>2</th>\n",
       "      <td>-2.075548</td>\n",
       "      <td>-0.992623</td>\n",
       "      <td>4</td>\n",
       "      <td>1</td>\n",
       "      <td>1</td>\n",
       "      <td>0.040974</td>\n",
       "      <td>1.665344</td>\n",
       "      <td>0.751478</td>\n",
       "      <td>2.467920</td>\n",
       "      <td>1.282810</td>\n",
       "      <td>...</td>\n",
       "      <td>1.356445</td>\n",
       "      <td>0.632186</td>\n",
       "      <td>-0.078405</td>\n",
       "      <td>-0.887260</td>\n",
       "      <td>False</td>\n",
       "      <td>True</td>\n",
       "      <td>False</td>\n",
       "      <td>False</td>\n",
       "      <td>True</td>\n",
       "      <td>False</td>\n",
       "    </tr>\n",
       "    <tr>\n",
       "      <th>3</th>\n",
       "      <td>1.205121</td>\n",
       "      <td>-0.163926</td>\n",
       "      <td>3</td>\n",
       "      <td>1</td>\n",
       "      <td>0</td>\n",
       "      <td>1.015350</td>\n",
       "      <td>0.999722</td>\n",
       "      <td>-0.393962</td>\n",
       "      <td>-1.509006</td>\n",
       "      <td>-0.716591</td>\n",
       "      <td>...</td>\n",
       "      <td>0.296976</td>\n",
       "      <td>0.770094</td>\n",
       "      <td>-0.274106</td>\n",
       "      <td>1.234825</td>\n",
       "      <td>True</td>\n",
       "      <td>False</td>\n",
       "      <td>True</td>\n",
       "      <td>False</td>\n",
       "      <td>False</td>\n",
       "      <td>False</td>\n",
       "    </tr>\n",
       "    <tr>\n",
       "      <th>4</th>\n",
       "      <td>-0.708602</td>\n",
       "      <td>0.664771</td>\n",
       "      <td>5</td>\n",
       "      <td>2</td>\n",
       "      <td>0</td>\n",
       "      <td>-0.933402</td>\n",
       "      <td>0.999722</td>\n",
       "      <td>-1.539401</td>\n",
       "      <td>0.479457</td>\n",
       "      <td>-0.767367</td>\n",
       "      <td>...</td>\n",
       "      <td>-0.228503</td>\n",
       "      <td>0.080551</td>\n",
       "      <td>1.081478</td>\n",
       "      <td>1.025456</td>\n",
       "      <td>True</td>\n",
       "      <td>False</td>\n",
       "      <td>False</td>\n",
       "      <td>True</td>\n",
       "      <td>False</td>\n",
       "      <td>False</td>\n",
       "    </tr>\n",
       "    <tr>\n",
       "      <th>...</th>\n",
       "      <td>...</td>\n",
       "      <td>...</td>\n",
       "      <td>...</td>\n",
       "      <td>...</td>\n",
       "      <td>...</td>\n",
       "      <td>...</td>\n",
       "      <td>...</td>\n",
       "      <td>...</td>\n",
       "      <td>...</td>\n",
       "      <td>...</td>\n",
       "      <td>...</td>\n",
       "      <td>...</td>\n",
       "      <td>...</td>\n",
       "      <td>...</td>\n",
       "      <td>...</td>\n",
       "      <td>...</td>\n",
       "      <td>...</td>\n",
       "      <td>...</td>\n",
       "      <td>...</td>\n",
       "      <td>...</td>\n",
       "      <td>...</td>\n",
       "    </tr>\n",
       "    <tr>\n",
       "      <th>11875</th>\n",
       "      <td>0.384954</td>\n",
       "      <td>-0.163926</td>\n",
       "      <td>5</td>\n",
       "      <td>1</td>\n",
       "      <td>0</td>\n",
       "      <td>0.319367</td>\n",
       "      <td>0.999722</td>\n",
       "      <td>-0.393962</td>\n",
       "      <td>-0.514774</td>\n",
       "      <td>-0.725733</td>\n",
       "      <td>...</td>\n",
       "      <td>-1.056080</td>\n",
       "      <td>-1.712261</td>\n",
       "      <td>0.803073</td>\n",
       "      <td>-0.887260</td>\n",
       "      <td>True</td>\n",
       "      <td>False</td>\n",
       "      <td>False</td>\n",
       "      <td>True</td>\n",
       "      <td>True</td>\n",
       "      <td>False</td>\n",
       "    </tr>\n",
       "    <tr>\n",
       "      <th>11876</th>\n",
       "      <td>-0.435213</td>\n",
       "      <td>0.664771</td>\n",
       "      <td>5</td>\n",
       "      <td>1</td>\n",
       "      <td>0</td>\n",
       "      <td>0.040974</td>\n",
       "      <td>-1.662767</td>\n",
       "      <td>-0.393962</td>\n",
       "      <td>1.473689</td>\n",
       "      <td>-0.861658</td>\n",
       "      <td>...</td>\n",
       "      <td>-0.614280</td>\n",
       "      <td>-0.654961</td>\n",
       "      <td>-0.985870</td>\n",
       "      <td>-0.887260</td>\n",
       "      <td>True</td>\n",
       "      <td>False</td>\n",
       "      <td>False</td>\n",
       "      <td>True</td>\n",
       "      <td>True</td>\n",
       "      <td>False</td>\n",
       "    </tr>\n",
       "    <tr>\n",
       "      <th>11877</th>\n",
       "      <td>-0.298519</td>\n",
       "      <td>0.664771</td>\n",
       "      <td>1</td>\n",
       "      <td>5</td>\n",
       "      <td>0</td>\n",
       "      <td>0.040974</td>\n",
       "      <td>-0.997145</td>\n",
       "      <td>0.751478</td>\n",
       "      <td>-0.514774</td>\n",
       "      <td>-0.145223</td>\n",
       "      <td>...</td>\n",
       "      <td>-0.372460</td>\n",
       "      <td>-0.471083</td>\n",
       "      <td>-1.665567</td>\n",
       "      <td>-0.576274</td>\n",
       "      <td>False</td>\n",
       "      <td>True</td>\n",
       "      <td>False</td>\n",
       "      <td>True</td>\n",
       "      <td>True</td>\n",
       "      <td>False</td>\n",
       "    </tr>\n",
       "    <tr>\n",
       "      <th>11878</th>\n",
       "      <td>2.025289</td>\n",
       "      <td>-0.992623</td>\n",
       "      <td>2</td>\n",
       "      <td>2</td>\n",
       "      <td>0</td>\n",
       "      <td>1.432940</td>\n",
       "      <td>-0.997145</td>\n",
       "      <td>0.751478</td>\n",
       "      <td>-0.514774</td>\n",
       "      <td>0.329941</td>\n",
       "      <td>...</td>\n",
       "      <td>0.541278</td>\n",
       "      <td>0.632186</td>\n",
       "      <td>-0.047446</td>\n",
       "      <td>0.234086</td>\n",
       "      <td>True</td>\n",
       "      <td>True</td>\n",
       "      <td>False</td>\n",
       "      <td>False</td>\n",
       "      <td>True</td>\n",
       "      <td>False</td>\n",
       "    </tr>\n",
       "    <tr>\n",
       "      <th>11879</th>\n",
       "      <td>1.478510</td>\n",
       "      <td>-0.163926</td>\n",
       "      <td>0</td>\n",
       "      <td>3</td>\n",
       "      <td>0</td>\n",
       "      <td>1.432940</td>\n",
       "      <td>-0.997145</td>\n",
       "      <td>-1.539401</td>\n",
       "      <td>-0.514774</td>\n",
       "      <td>-0.703429</td>\n",
       "      <td>...</td>\n",
       "      <td>-0.386998</td>\n",
       "      <td>-0.792870</td>\n",
       "      <td>-0.956399</td>\n",
       "      <td>0.317615</td>\n",
       "      <td>False</td>\n",
       "      <td>True</td>\n",
       "      <td>False</td>\n",
       "      <td>True</td>\n",
       "      <td>True</td>\n",
       "      <td>False</td>\n",
       "    </tr>\n",
       "  </tbody>\n",
       "</table>\n",
       "<p>11880 rows × 23 columns</p>\n",
       "</div>"
      ],
      "text/plain": [
       "       Customer_Age  Dependent_count  Education_Level  Income_Category  \\\n",
       "0          0.931732        -0.163926                3                1   \n",
       "1         -0.708602         0.664771                4                5   \n",
       "2         -2.075548        -0.992623                4                1   \n",
       "3          1.205121        -0.163926                3                1   \n",
       "4         -0.708602         0.664771                5                2   \n",
       "...             ...              ...              ...              ...   \n",
       "11875      0.384954        -0.163926                5                1   \n",
       "11876     -0.435213         0.664771                5                1   \n",
       "11877     -0.298519         0.664771                1                5   \n",
       "11878      2.025289        -0.992623                2                2   \n",
       "11879      1.478510        -0.163926                0                3   \n",
       "\n",
       "       Card_Category  Months_on_book  Total_Relationship_Count  \\\n",
       "0                  0        1.154546                 -0.331522   \n",
       "1                  0       -0.933402                  1.665344   \n",
       "2                  1        0.040974                  1.665344   \n",
       "3                  0        1.015350                  0.999722   \n",
       "4                  0       -0.933402                  0.999722   \n",
       "...              ...             ...                       ...   \n",
       "11875              0        0.319367                  0.999722   \n",
       "11876              0        0.040974                 -1.662767   \n",
       "11877              0        0.040974                 -0.997145   \n",
       "11878              0        1.432940                 -0.997145   \n",
       "11879              0        1.432940                 -0.997145   \n",
       "\n",
       "       Months_Inactive_12_mon  Contacts_Count_12_mon  Credit_Limit  ...  \\\n",
       "0                    0.751478               0.479457     -0.867929  ...   \n",
       "1                   -1.539401               0.479457     -0.469235  ...   \n",
       "2                    0.751478               2.467920      1.282810  ...   \n",
       "3                   -0.393962              -1.509006     -0.716591  ...   \n",
       "4                   -1.539401               0.479457     -0.767367  ...   \n",
       "...                       ...                    ...           ...  ...   \n",
       "11875               -0.393962              -0.514774     -0.725733  ...   \n",
       "11876               -0.393962               1.473689     -0.861658  ...   \n",
       "11877                0.751478              -0.514774     -0.145223  ...   \n",
       "11878                0.751478              -0.514774      0.329941  ...   \n",
       "11879               -1.539401              -0.514774     -0.703429  ...   \n",
       "\n",
       "       Total_Trans_Amt  Total_Trans_Ct  Total_Ct_Chng_Q4_Q1  \\\n",
       "0            -0.307218       -0.379144            -0.212054   \n",
       "1             0.408667        1.045911            -0.307518   \n",
       "2             1.356445        0.632186            -0.078405   \n",
       "3             0.296976        0.770094            -0.274106   \n",
       "4            -0.228503        0.080551             1.081478   \n",
       "...                ...             ...                  ...   \n",
       "11875        -1.056080       -1.712261             0.803073   \n",
       "11876        -0.614280       -0.654961            -0.985870   \n",
       "11877        -0.372460       -0.471083            -1.665567   \n",
       "11878         0.541278        0.632186            -0.047446   \n",
       "11879        -0.386998       -0.792870            -0.956399   \n",
       "\n",
       "       Avg_Utilization_Ratio  Gender_F  Gender_M  Marital_Status_Divorced  \\\n",
       "0                  -0.887260      True     False                    False   \n",
       "1                   1.660662     False      True                     True   \n",
       "2                  -0.887260     False      True                    False   \n",
       "3                   1.234825      True     False                     True   \n",
       "4                   1.025456      True     False                    False   \n",
       "...                      ...       ...       ...                      ...   \n",
       "11875              -0.887260      True     False                    False   \n",
       "11876              -0.887260      True     False                    False   \n",
       "11877              -0.576274     False      True                    False   \n",
       "11878               0.234086      True      True                    False   \n",
       "11879               0.317615     False      True                    False   \n",
       "\n",
       "       Marital_Status_Married  Marital_Status_Single  Marital_Status_Unknown  \n",
       "0                        True                  False                   False  \n",
       "1                       False                  False                   False  \n",
       "2                       False                   True                   False  \n",
       "3                       False                  False                   False  \n",
       "4                        True                  False                   False  \n",
       "...                       ...                    ...                     ...  \n",
       "11875                    True                   True                   False  \n",
       "11876                    True                   True                   False  \n",
       "11877                    True                   True                   False  \n",
       "11878                   False                   True                   False  \n",
       "11879                    True                   True                   False  \n",
       "\n",
       "[11880 rows x 23 columns]"
      ]
     },
     "execution_count": 61,
     "metadata": {},
     "output_type": "execute_result"
    }
   ],
   "source": [
    "# tạo hàm StandardScaler\n",
    "scaler = StandardScaler()\n",
    "\n",
    "# sử dụng hàm vào tệp dữ liệu train\n",
    "scaler.fit(X_train[num_col])\n",
    "\n",
    "# Transforming (standardize) the continuous features in the training and testing data\n",
    "X_train_cont_scaled = scaler.transform(X_train[num_col])\n",
    "X_test_cont_scaled = scaler.transform(X_test[num_col])\n",
    "\n",
    "# Replacing the scaled continuous features in the original data\n",
    "X_train[num_col] = X_train_cont_scaled\n",
    "X_test[num_col] = X_test_cont_scaled\n",
    "\n",
    "X_train"
   ]
  },
  {
   "cell_type": "markdown",
   "id": "8e387c4d",
   "metadata": {},
   "source": [
    "# 5. Huấn luyện mô hình và đánh giá mô hình"
   ]
  },
  {
   "cell_type": "code",
   "execution_count": 71,
   "id": "db2d2d12",
   "metadata": {},
   "outputs": [],
   "source": [
    "# danh sách các mô hình hồi quy\n",
    "classifiers = [\n",
    "    (\"Logistic Regression\", LogisticRegression(random_state=42, max_iter= 1500, n_jobs=-1)),\n",
    "    (\"Decision Tree\", DecisionTreeClassifier(random_state=42)),\n",
    "    (\"Random Forest\", RandomForestClassifier(random_state=42, n_jobs =-1)),\n",
    "    (\"AdaBoost\", AdaBoostClassifier(random_state=42)),\n",
    "    (\"Gradient Boosting\", GradientBoostingClassifier(random_state=42)),\n",
    "    (\"LightGBM\", lgb.LGBMClassifier(random_state=42, verbose=-1)),\n",
    "    (\"XGBoost\", xgb.XGBClassifier(random_state=42, n_jobs =-1))\n",
    "]"
   ]
  },
  {
   "cell_type": "markdown",
   "id": "69087a6a",
   "metadata": {},
   "source": [
    "# 5.1. K-fold Cross-Validation Evaluation and Feature Selection"
   ]
  },
  {
   "cell_type": "code",
   "execution_count": 74,
   "id": "99fc51fa",
   "metadata": {},
   "outputs": [
    {
     "name": "stdout",
     "output_type": "stream",
     "text": [
      "For Logistic Regression:\n"
     ]
    },
    {
     "ename": "NameError",
     "evalue": "name 'StratifiedKFold' is not defined",
     "output_type": "error",
     "traceback": [
      "\u001b[1;31m---------------------------------------------------------------------------\u001b[0m",
      "\u001b[1;31mNameError\u001b[0m                                 Traceback (most recent call last)",
      "Cell \u001b[1;32mIn[74], line 25\u001b[0m\n\u001b[0;32m     22\u001b[0m pipeline \u001b[38;5;241m=\u001b[39m Pipeline(steps\u001b[38;5;241m=\u001b[39msteps)\n\u001b[0;32m     24\u001b[0m \u001b[38;5;66;03m# 5-fold Stratified Cross-Validation\u001b[39;00m\n\u001b[1;32m---> 25\u001b[0m cv \u001b[38;5;241m=\u001b[39m StratifiedKFold(n_splits\u001b[38;5;241m=\u001b[39m\u001b[38;5;241m5\u001b[39m, shuffle\u001b[38;5;241m=\u001b[39m\u001b[38;5;28;01mTrue\u001b[39;00m, random_state\u001b[38;5;241m=\u001b[39m\u001b[38;5;241m42\u001b[39m)\n\u001b[0;32m     27\u001b[0m \u001b[38;5;66;03m# Perform cross-validation with train scores\u001b[39;00m\n\u001b[0;32m     28\u001b[0m cv_results \u001b[38;5;241m=\u001b[39m cross_validate(pipeline, X_train, y_train, cv\u001b[38;5;241m=\u001b[39mcv, scoring\u001b[38;5;241m=\u001b[39m\u001b[38;5;124m'\u001b[39m\u001b[38;5;124maccuracy\u001b[39m\u001b[38;5;124m'\u001b[39m,n_jobs\u001b[38;5;241m=\u001b[39m\u001b[38;5;241m-\u001b[39m\u001b[38;5;241m1\u001b[39m, return_train_score\u001b[38;5;241m=\u001b[39m\u001b[38;5;28;01mTrue\u001b[39;00m)\n",
      "\u001b[1;31mNameError\u001b[0m: name 'StratifiedKFold' is not defined"
     ]
    }
   ],
   "source": [
    "# Initialize RFE feature selector\n",
    "RFE_selector = RFE(lgb.LGBMClassifier(random_state=42, verbose=-1), n_features_to_select=12)\n",
    "\n",
    "\n",
    "# Creating lists for classifier names, mean_test_accuracy_scores, and results.\n",
    "results = []\n",
    "mean_test_accuracy_scores = []\n",
    "classifier_names = []\n",
    "\n",
    "for model_name, model in classifiers:\n",
    "    # Print model name\n",
    "    print(f\"For {model_name}:\")\n",
    "    \n",
    "    # Steps Creation\n",
    "    steps = list()\n",
    "    \n",
    "    steps.append(('feature_selector', RFE_selector))  # RFE feature selection\n",
    "    \n",
    "    steps.append((model_name, model))\n",
    "\n",
    "    # Create the pipeline\n",
    "    pipeline = Pipeline(steps=steps)\n",
    "                        \n",
    "    # 5-fold Stratified Cross-Validation\n",
    "    cv = StratifiedKFold(n_splits=5, shuffle=True, random_state=42)\n",
    "\n",
    "    # Perform cross-validation with train scores\n",
    "    cv_results = cross_validate(pipeline, X_train, y_train, cv=cv, scoring='accuracy',n_jobs=-1, return_train_score=True)\n",
    "    \n",
    "    print(f\"Cross-validation completed successfully for {model_name}\")\n",
    "    print('*' * 50)\n",
    "\n",
    "    # Append results to the list\n",
    "    results.append({\n",
    "        \"Model Name\": model_name,\n",
    "        \"Mean Train Accuracy\": np.mean(cv_results['train_score']),\n",
    "        \"Mean Test Accuracy\": np.mean(cv_results['test_score'])\n",
    "    })\n",
    "    \n",
    "    mean_test_accuracy_scores.append(np.mean(cv_results['test_score']))\n",
    "    classifier_names.append(model_name)\n",
    "\n",
    "# Create a DataFrame from the results list\n",
    "results_df = pd.DataFrame(results)\n",
    "\n",
    "# Display the DataFrame\n",
    "display(results_df)"
   ]
  },
  {
   "cell_type": "code",
   "execution_count": null,
   "id": "6a485527",
   "metadata": {},
   "outputs": [],
   "source": []
  },
  {
   "cell_type": "code",
   "execution_count": null,
   "id": "de6b0c09",
   "metadata": {},
   "outputs": [],
   "source": []
  },
  {
   "cell_type": "code",
   "execution_count": null,
   "id": "7529964f",
   "metadata": {},
   "outputs": [],
   "source": []
  },
  {
   "cell_type": "markdown",
   "id": "15ae9786",
   "metadata": {},
   "source": [
    "Hồi quy logistic là một trong những thuật toán Machine Learning đơn giản và được sử dụng phổ biến nhất cho các bài toán phân loạn 2 lớp. Nó rất dễ thực hiện và có thể được sử dụng làm mô hình cơ sở cho bất kỳ bài toán phân loại nhị phân nào.\n",
    "\n",
    "Hồi quy logistic có thể được sử dụng cho các vấn đề phân loại khác nhau như phát hiện thư rác, dự đoán bệnh, dự đoán khách hàng rời bỏ, dự đoạn xác suất sử dụng dịch vụ của khách hàng."
   ]
  },
  {
   "cell_type": "markdown",
   "id": "e3bba815",
   "metadata": {},
   "source": [
    "## Phân loại mô hình Logistic Regression\n",
    "\n",
    "Binary Logistic Regression: Biến mục tiêu chỉ có hai kết quả có thể xảy ra là Thư rác hoặc Không phải Thư rác, Ung thư hoặc Không Ung thư.\n",
    "\n",
    "Multinomial Logistic Regression: Biến mục tiêu có nhiều kết quả có thể xảy ra, ví dụ như dự đoán loại Rượu tương ứng."
   ]
  },
  {
   "cell_type": "markdown",
   "id": "7cc7c7b2",
   "metadata": {},
   "source": [
    "## Xây dựng Logistic Regression Model bằng thư viện Scikit-learn"
   ]
  },
  {
   "cell_type": "markdown",
   "id": "723db4fb",
   "metadata": {},
   "source": [
    "Hãy xây dựng mô hình dự đoán bệnh tiểu đường bằng cách sử dụng Phân loại hồi quy logistic.\n",
    "\n",
    "Bạn có thể download dữ liệu ở đây: https://www.kaggle.com/datasets/uciml/pima-indians-diabetes-database"
   ]
  },
  {
   "cell_type": "markdown",
   "id": "c6a25107",
   "metadata": {},
   "source": [
    "### Loading Data"
   ]
  },
  {
   "cell_type": "code",
   "execution_count": 1,
   "id": "fd8563de",
   "metadata": {},
   "outputs": [],
   "source": [
    "#import pandas\n",
    "import pandas as pd\n",
    "# load dataset\n",
    "diabetes = pd.read_csv(\"datasets/diabetes.csv\")"
   ]
  },
  {
   "cell_type": "code",
   "execution_count": 2,
   "id": "bfdbd711",
   "metadata": {},
   "outputs": [
    {
     "data": {
      "text/html": [
       "<div>\n",
       "<style scoped>\n",
       "    .dataframe tbody tr th:only-of-type {\n",
       "        vertical-align: middle;\n",
       "    }\n",
       "\n",
       "    .dataframe tbody tr th {\n",
       "        vertical-align: top;\n",
       "    }\n",
       "\n",
       "    .dataframe thead th {\n",
       "        text-align: right;\n",
       "    }\n",
       "</style>\n",
       "<table border=\"1\" class=\"dataframe\">\n",
       "  <thead>\n",
       "    <tr style=\"text-align: right;\">\n",
       "      <th></th>\n",
       "      <th>Pregnancies</th>\n",
       "      <th>Glucose</th>\n",
       "      <th>BloodPressure</th>\n",
       "      <th>SkinThickness</th>\n",
       "      <th>Insulin</th>\n",
       "      <th>BMI</th>\n",
       "      <th>DiabetesPedigreeFunction</th>\n",
       "      <th>Age</th>\n",
       "      <th>Outcome</th>\n",
       "    </tr>\n",
       "  </thead>\n",
       "  <tbody>\n",
       "    <tr>\n",
       "      <th>0</th>\n",
       "      <td>6</td>\n",
       "      <td>148</td>\n",
       "      <td>72</td>\n",
       "      <td>35</td>\n",
       "      <td>0</td>\n",
       "      <td>33.6</td>\n",
       "      <td>0.627</td>\n",
       "      <td>50</td>\n",
       "      <td>1</td>\n",
       "    </tr>\n",
       "    <tr>\n",
       "      <th>1</th>\n",
       "      <td>1</td>\n",
       "      <td>85</td>\n",
       "      <td>66</td>\n",
       "      <td>29</td>\n",
       "      <td>0</td>\n",
       "      <td>26.6</td>\n",
       "      <td>0.351</td>\n",
       "      <td>31</td>\n",
       "      <td>0</td>\n",
       "    </tr>\n",
       "    <tr>\n",
       "      <th>2</th>\n",
       "      <td>8</td>\n",
       "      <td>183</td>\n",
       "      <td>64</td>\n",
       "      <td>0</td>\n",
       "      <td>0</td>\n",
       "      <td>23.3</td>\n",
       "      <td>0.672</td>\n",
       "      <td>32</td>\n",
       "      <td>1</td>\n",
       "    </tr>\n",
       "    <tr>\n",
       "      <th>3</th>\n",
       "      <td>1</td>\n",
       "      <td>89</td>\n",
       "      <td>66</td>\n",
       "      <td>23</td>\n",
       "      <td>94</td>\n",
       "      <td>28.1</td>\n",
       "      <td>0.167</td>\n",
       "      <td>21</td>\n",
       "      <td>0</td>\n",
       "    </tr>\n",
       "    <tr>\n",
       "      <th>4</th>\n",
       "      <td>0</td>\n",
       "      <td>137</td>\n",
       "      <td>40</td>\n",
       "      <td>35</td>\n",
       "      <td>168</td>\n",
       "      <td>43.1</td>\n",
       "      <td>2.288</td>\n",
       "      <td>33</td>\n",
       "      <td>1</td>\n",
       "    </tr>\n",
       "  </tbody>\n",
       "</table>\n",
       "</div>"
      ],
      "text/plain": [
       "   Pregnancies  Glucose  BloodPressure  SkinThickness  Insulin   BMI  \\\n",
       "0            6      148             72             35        0  33.6   \n",
       "1            1       85             66             29        0  26.6   \n",
       "2            8      183             64              0        0  23.3   \n",
       "3            1       89             66             23       94  28.1   \n",
       "4            0      137             40             35      168  43.1   \n",
       "\n",
       "   DiabetesPedigreeFunction  Age  Outcome  \n",
       "0                     0.627   50        1  \n",
       "1                     0.351   31        0  \n",
       "2                     0.672   32        1  \n",
       "3                     0.167   21        0  \n",
       "4                     2.288   33        1  "
      ]
     },
     "execution_count": 2,
     "metadata": {},
     "output_type": "execute_result"
    }
   ],
   "source": [
    "diabetes.head()"
   ]
  },
  {
   "cell_type": "markdown",
   "id": "57b9f9c3",
   "metadata": {},
   "source": [
    "### Tách các biến dự đoán và biến mục tiêu"
   ]
  },
  {
   "cell_type": "code",
   "execution_count": 3,
   "id": "7a4577c7",
   "metadata": {},
   "outputs": [],
   "source": [
    "# Tách các biến dự đoán và biến mục tiêu\n",
    "feature_cols = [\"Pregnancies\", \"Glucose\", \"BloodPressure\", \"Insulin\", \"BMI\", \"DiabetesPedigreeFunction\", \"Age\"]\n",
    "X = diabetes[feature_cols] # biến dự đoá\n",
    "y = diabetes.Outcome # biến mục tiêu"
   ]
  },
  {
   "cell_type": "markdown",
   "id": "585c2a93",
   "metadata": {},
   "source": [
    "### Chia dữ liệu thành 2 tập Dataset: 1 dành cho huấn luyện mô hình, 1 dành cho thử nghiệm mô hình\n",
    "\n",
    "Chúng ta sẽ sử dụng thư viện `train_test_split()` để chia dữ liệu thành 2 tập: train và test. "
   ]
  },
  {
   "cell_type": "code",
   "execution_count": 4,
   "id": "7f8a991b",
   "metadata": {},
   "outputs": [],
   "source": [
    "from sklearn.model_selection import train_test_split\n",
    "\n",
    "X_train,X_test,y_train,y_test=train_test_split(X,y,test_size=0.25,random_state=0)"
   ]
  },
  {
   "cell_type": "markdown",
   "id": "8fa9b016",
   "metadata": {},
   "source": [
    "Ở đây, Dataset được chia thành hai phần theo tỷ lệ 75:25. Điều đó có nghĩa là 75% dữ liệu sẽ được sử dụng để đào tạo mô hình và 25% để thử nghiệm mô hình."
   ]
  },
  {
   "cell_type": "markdown",
   "id": "48592fe5",
   "metadata": {},
   "source": [
    "### Phát triển và dự đoán mô hình"
   ]
  },
  {
   "cell_type": "markdown",
   "id": "e11d24ee",
   "metadata": {},
   "source": [
    "**Bước 1:** import module `LogisticRegression` và tạo một LogisticRegression object bằng hàm `LogisticRegression()`.\n",
    "\n",
    "**Bước 2:** Huấn luyện mô hình trên tập traon bằng cách sử dụng `fit()` và thực hiện dự đoán trên tập test bằng cách sử dụng `.predict()`"
   ]
  },
  {
   "cell_type": "code",
   "execution_count": 5,
   "id": "e3958a3c",
   "metadata": {},
   "outputs": [],
   "source": [
    "from sklearn.linear_model import LogisticRegression\n",
    "logreg = LogisticRegression(max_iter=1000)\n",
    "\n",
    "# fit the model with train data\n",
    "logreg.fit(X_train,y_train)\n",
    "\n",
    "# predict with test data\n",
    "y_pred=logreg.predict(X_test)"
   ]
  },
  {
   "cell_type": "markdown",
   "id": "bbc7e4ee",
   "metadata": {},
   "source": [
    "### Đánh giá mô hình bằng Confusion Matrix\n",
    "\n",
    "Confusion matrix thường được sử dụng để đánh giá các bài toán phân loại."
   ]
  },
  {
   "cell_type": "code",
   "execution_count": 6,
   "id": "ec903f98",
   "metadata": {},
   "outputs": [
    {
     "data": {
      "text/plain": [
       "array([[118,  12],\n",
       "       [ 26,  36]])"
      ]
     },
     "execution_count": 6,
     "metadata": {},
     "output_type": "execute_result"
    }
   ],
   "source": [
    "# import the metrics class\n",
    "from sklearn import metrics\n",
    "cnf_matrix = metrics.confusion_matrix(y_test, y_pred)\n",
    "cnf_matrix"
   ]
  },
  {
   "cell_type": "markdown",
   "id": "ccc5d0e3",
   "metadata": {},
   "source": [
    "Tại đây, bạn có thể thấy ma trận confusion matrix ở dạng đối tượng mảng. Kích thước của ma trận này là 2*2 vì mô hình này là phân loại nhị phân. Bạn có hai lớp 0 và 1. \n",
    "\n",
    "Giá trị đường chéo thể hiện dự đoán chính xác, trong khi các phần tử không nằm trong đường đường chéo là dự đoán không chính xác. \n",
    "\n",
    "Kết quả cho thấy 118 và 36 là dự đoán chính xác và 26 và 12 là dự đoán không chính xác.\n",
    "\n"
   ]
  },
  {
   "cell_type": "markdown",
   "id": "0f465578",
   "metadata": {},
   "source": [
    "### Trực quan hoá Confusion Matrix bằng biểu đồ Heatmap\n",
    "\n",
    "Hãy trực quan hoá kết quả của mô hình dưới dạng một confusion matrix sử dụng matplotlib và seaborn."
   ]
  },
  {
   "cell_type": "code",
   "execution_count": 7,
   "id": "1862ca79",
   "metadata": {},
   "outputs": [],
   "source": [
    "# import required modules\n",
    "import numpy as np\n",
    "import matplotlib.pyplot as plt\n",
    "import seaborn as sns\n",
    "%matplotlib inline"
   ]
  },
  {
   "cell_type": "code",
   "execution_count": 8,
   "id": "738d99d5",
   "metadata": {},
   "outputs": [
    {
     "data": {
      "text/plain": [
       "Text(0.5, 427.9555555555555, 'Predicted label')"
      ]
     },
     "execution_count": 8,
     "metadata": {},
     "output_type": "execute_result"
    },
    {
     "data": {
      "image/png": "[encoded data removed]",
      "text/plain": [
       "<Figure size 640x480 with 2 Axes>"
      ]
     },
     "metadata": {},
     "output_type": "display_data"
    }
   ],
   "source": [
    "class_names=[0,1] # name  of classes\n",
    "fig, ax = plt.subplots()\n",
    "tick_marks = np.arange(len(class_names))\n",
    "plt.xticks(tick_marks, class_names)\n",
    "plt.yticks(tick_marks, class_names)\n",
    "# create heatmap\n",
    "sns.heatmap(pd.DataFrame(cnf_matrix), annot=True, cmap=\"YlGnBu\" ,fmt='g')\n",
    "ax.xaxis.set_label_position(\"top\")\n",
    "plt.tight_layout()\n",
    "plt.title('Confusion matrix', y=1.1)\n",
    "plt.ylabel('Actual label')\n",
    "plt.xlabel('Predicted label')"
   ]
  },
  {
   "cell_type": "markdown",
   "id": "fe225b7a",
   "metadata": {},
   "source": [
    "### Các chỉ số đánh giá Confusion Matrix \n",
    "\n",
    "Đánh giá mô hình sử dụng các chỉ số đánh giá như accuracy, precision, và recall."
   ]
  },
  {
   "cell_type": "code",
   "execution_count": 9,
   "id": "06ad8781",
   "metadata": {},
   "outputs": [
    {
     "name": "stdout",
     "output_type": "stream",
     "text": [
      "Accuracy: 0.8020833333333334\n",
      "Precision: 0.75\n",
      "Recall: 0.5806451612903226\n"
     ]
    }
   ],
   "source": [
    "print(\"Accuracy:\",metrics.accuracy_score(y_test, y_pred))\n",
    "print(\"Precision:\",metrics.precision_score(y_test, y_pred))\n",
    "print(\"Recall:\",metrics.recall_score(y_test, y_pred))"
   ]
  },
  {
   "cell_type": "markdown",
   "id": "479d28c8",
   "metadata": {},
   "source": [
    "Chúng ta có độ chính xác của mô hình là 80%.\n",
    "\n",
    "**Precision**: có nghĩa là độ chính xác, tức là mô hình chính xác đến mức nào. Nói cách khác, khi một mô hình đưa ra dự đoán, mức độ thường xuyên dự đoán đó đúng. Trong bài toán này, khi mô hình Hồi quy Logistic dự đoán bệnh nhân sẽ mắc bệnh tiểu đường, thì có tới 75% trường hợp dự đoán chính xác là sẽ mắc bệnh tiểu đường.\n",
    "\n",
    "**Recall**: Mô hình chỉ có thể dự đoán chính xác được 58% số bệnh nhân mắc bệnh trong bộ dữ liệu test. Còn 42% còn lại mô hình dự đoán sai khi dự đoán bệnh nhân không mắc bệnh tiểu đường, nhưng thực tế số liệu ghi nhận trong tập test cho rằng bệnh nhân lại mắc bệnh tiểu đường."
   ]
  },
  {
   "cell_type": "markdown",
   "id": "ae6810f2",
   "metadata": {},
   "source": [
    "### ROC Curve\n",
    "\n",
    "ROC (Receiver operating characteristic) là một đồ thị được sử dụng khá phổ biến trong validation các model phân loại nhị phân. Đường cong này được tạo ra bằng cách biểu diễn tỷ lệ dự báo true positive rate (TPR) dựa trên tỷ lệ dự báo failse positive rate (FPR) tại các ngưỡng Threshold khác nhau.\n"
   ]
  },
  {
   "cell_type": "code",
   "execution_count": 10,
   "id": "73ca9647",
   "metadata": {},
   "outputs": [
    {
     "data": {
      "image/png": "[encoded data removed]",
      "text/plain": [
       "<Figure size 640x480 with 1 Axes>"
      ]
     },
     "metadata": {},
     "output_type": "display_data"
    }
   ],
   "source": [
    "y_pred_proba = logreg.predict_proba(X_test)[::,1]\n",
    "fpr, tpr, _ = metrics.roc_curve(y_test,  y_pred_proba)\n",
    "auc = metrics.roc_auc_score(y_test, y_pred_proba)\n",
    "plt.plot(fpr,tpr,label=\"data 1, auc=\"+str(auc))\n",
    "plt.legend(loc=4)\n",
    "plt.show()"
   ]
  },
  {
   "cell_type": "markdown",
   "id": "f3a8f155",
   "metadata": {},
   "source": [
    "Chỉ số AUC cho mô hình này là 0.86. Khi chỉ số AUC = 1, có nghĩa là mô hình phân loại hoàn hảo. Khi số AUC = 0.5, mô hình phân loại không thực sự tốt."
   ]
  },
  {
   "cell_type": "markdown",
   "id": "a06ded58",
   "metadata": {},
   "source": [
    "### Ưu điểm của mô hình Logistic Regression\n",
    "\n",
    "\n",
    "- Hiệu quả và đơn giản, không yêu cầu khả năng tính toán cao\n",
    "- Dễ thực hiện, dễ hiểu\n",
    "- Được sử dụng rộng rãi bởi các nhà phân tích và nhà khoa học dữ liệu\n",
    "\n",
    "\n",
    "###  Nhược điểm của mô hình Logistic Regression\n",
    "\n",
    "- Linear Regression có một nhược điểm lớn là nhạy cảm với nhiễu.\n",
    "- Khó có thể xử lý với bộ dữ liệu có nhiều biến dự đoán\n",
    "- Hồi quy logistic cũng dễ bị overfitting.\n",
    "- Nó không thể được áp dụng cho một bài toán phi tuyến tính, hoạt động kém với các biến độc lập không tương quan với mục tiêu và tương quan với nhau"
   ]
  }
 ],
 "metadata": {
  "kernelspec": {
   "display_name": "Python 3 (ipykernel)",
   "language": "python",
   "name": "python3"
  },
  "language_info": {
   "codemirror_mode": {
    "name": "ipython",
    "version": 3
   },
   "file_extension": ".py",
   "mimetype": "text/x-python",
   "name": "python",
   "nbconvert_exporter": "python",
   "pygments_lexer": "ipython3",
   "version": "3.11.5"
  }
 },
 "nbformat": 4,
 "nbformat_minor": 5
}
